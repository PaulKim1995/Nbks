{
 "metadata": {
  "name": "",
  "signature": "sha256:9f582482e01741526d413f864b159dd665daffff990c6ba650a2120b3f13a8af"
 },
 "nbformat": 3,
 "nbformat_minor": 0,
 "worksheets": [
  {
   "cells": [
    {
     "cell_type": "heading",
     "level": 2,
     "metadata": {},
     "source": [
      "Obtaining EVI data by land type within a Polygon using Google's Earth Engine"
     ]
    },
    {
     "cell_type": "markdown",
     "metadata": {},
     "source": [
      "The first portions of this notebook are entirely from Tyler Erikson's Earth Engine Notebooks.\n",
      "Additionally, thanks to Noel Gorelick and Tyler Erikson (Google), for helpful comments.\n",
      "\n",
      "This code is desgined to create masks for a given range of land-types (broadly catagorised as Forest and grassland), then apply these masks to large volumes of Landsat and MODIS Enhanced Vegitation Index (EVI) data, and extract statistic from within a speicifc study area (a region that broadly encomasses coastal Tanzania to approx 200km inland).\n",
      "\n",
      "These time-series data are then converted into a Pandas dataframe, and saved as a CSV file (one value per time-step, of a mean, stdev, and count to indicate the EVI over the grass-type and forest-type EVI pixels. \n",
      "\n",
      "The user can specify which data collection to call from, however it is set up now to use LandSat 5 and 7 30m 8-day, and MODIS Terra 250m 16-day data.\n",
      "\n",
      "Processing each image may take around a second, so beware when requesting large volumes of data. Fortunatley though, there will be no time-out from the Google servers, as requests for each image are sent individually (and consecutivley), and take around a second each.\n",
      "\n",
      "Coded by Dr. Benjamin A. Laken (email: benlaken@gmail.com    site: www.benlaken.com)"
     ]
    },
    {
     "cell_type": "heading",
     "level": 2,
     "metadata": {},
     "source": [
      "Load modules (requires EE access)"
     ]
    },
    {
     "cell_type": "code",
     "collapsed": false,
     "input": [
      "import ee\n",
      "import os\n",
      "import datetime\n",
      "import matplotlib.pyplot as plt\n",
      "import matplotlib.colors as mcolors\n",
      "\n",
      "from IPython.html import widgets\n",
      "from IPython.display import display\n",
      "from IPython.utils import traitlets\n",
      "from IPython.core.display import Javascript\n",
      "\n",
      "ee.Initialize()  # Initlize Earth Engine, the part that requires credentials"
     ],
     "language": "python",
     "metadata": {},
     "outputs": [],
     "prompt_number": 1
    },
    {
     "cell_type": "heading",
     "level": 2,
     "metadata": {},
     "source": [
      "Map Widget and JS (by Tyler Erickson)"
     ]
    },
    {
     "cell_type": "code",
     "collapsed": false,
     "input": [
      "class GoogleMapsWidget(widgets.DOMWidget):\n",
      "    _view_name = traitlets.Unicode('GoogleMapsView', sync=True)\n",
      "    value = traitlets.Unicode(sync=True)\n",
      "    description = traitlets.Unicode(sync=True)\n",
      "    lat = traitlets.CFloat(0, help=\"Center latitude, -90 to 90\", sync=True)\n",
      "    lng = traitlets.CFloat(0, help=\"Center longitude, -180 to 180\", sync=True)\n",
      "    zoom = traitlets.CInt(0, help=\"Zoom level, 0 to ~25\", sync=True)\n",
      "    bounds = traitlets.List([], help=\"Visible bounds, [W, S, E, N]\", sync=True)\n",
      "    \n",
      "    def __init__(self, lng=0.0, lat=0.0, zoom=2):\n",
      "        self.lng = lng\n",
      "        self.lat = lat\n",
      "        self.zoom = zoom\n",
      "        \n",
      "    def addLayer(self, image, vis_params=None, name=None, visible=True):\n",
      "        mapid = image.getMapId(vis_params)\n",
      "        self.send({'command':'addLayer', 'mapid': mapid['mapid'], 'token': mapid['token'], 'name': name, 'visible': visible})\n",
      "        \n",
      "    def center(self, lng, lat, zoom=None):\n",
      "        self.send({'command': 'center', 'lng': lng, 'lat': lat, 'zoom': zoom})"
     ],
     "language": "python",
     "metadata": {},
     "outputs": [],
     "prompt_number": 2
    },
    {
     "cell_type": "code",
     "collapsed": false,
     "input": [
      "%%javascript\n",
      "\n",
      "require([\"widgets/js/widget\"], function(WidgetManager){\n",
      "    var maps = [];\n",
      "    \n",
      "    // Define the GoogleMapsView\n",
      "    var GoogleMapsView = IPython.DOMWidgetView.extend({\n",
      "        \n",
      "        render: function() {\n",
      "            // Resize widget element to be 100% wide\n",
      "            this.$el.css('width', '100%');\n",
      "\n",
      "            // iframe source;  just enough to load Google Maps and let us poll whether initialization is complete\n",
      "            var src='<html style=\"height:100%\"><head>' +\n",
      "                '<scr'+'ipt src=\"http://maps.googleapis.com/maps/api/js?sensor=false\"></scr'+'ipt>' +\n",
      "                '<scr'+'ipt>google.maps.event.addDomListener(window,\"load\",function(){ready=true});</scr'+'ipt>' +\n",
      "                '</head>' +\n",
      "                '<body style=\"height:100%; margin:0px; padding:0px\"></body></html>';\n",
      "            \n",
      "            // Create the Google Maps container element.\n",
      "            this.$iframe = $('<iframe />')\n",
      "                .css('width', '100%')\n",
      "                .css('height', '500px')\n",
      "                .attr('srcdoc', src)\n",
      "                .appendTo(this.$el);\n",
      "                        \n",
      "            var self = this; // hold onto this for initMapWhenReady\n",
      "\n",
      "            // Wait until maps library has finished loading in iframe, then create map\n",
      "            function initMapWhenReady() {\n",
      "                // Iframe document and window\n",
      "                var doc = self.$iframe[0].contentDocument;\n",
      "                var win = self.$iframe[0].contentWindow;\n",
      "                if (!win || !win.ready) {\n",
      "                    // Maps library not yet loaded;  try again soon\n",
      "                    setTimeout(initMapWhenReady, 20);\n",
      "                    return;\n",
      "                }\n",
      "\n",
      "                // Maps library finished loading.  Build map now.\n",
      "                var mapOptions = {\n",
      "                    center: new win.google.maps.LatLng(self.model.get('lat'), self.model.get('lng')),\n",
      "                    zoom: self.model.get('zoom')\n",
      "                };\n",
      "                var mapDiv = $('<div />')\n",
      "                    .css('width', '100%')\n",
      "                    .css('height', '100%')\n",
      "                    .appendTo($(doc.body));\n",
      "                self.map = new win.google.maps.Map(mapDiv[0], mapOptions);\n",
      "                \n",
      "                \n",
      "                // Add an event listeners for user panning, zooming, and resizing map\n",
      "                // TODO(rsargent): Bind self across all methods, and save some plumbing here\n",
      "                win.google.maps.event.addListener(self.map, 'bounds_changed', function () {\n",
      "                    self.handleBoundsChanged();\n",
      "                });\n",
      "                \n",
      "                self.initializeLayersControl();\n",
      "            }\n",
      "            initMapWhenReady();\n",
      "        },\n",
      "        \n",
      "        LayersControl: function(widget, controlDiv, map) {\n",
      "            var win = widget.$iframe[0].contentWindow;\n",
      "            var chicago = new win.google.maps.LatLng(41.850033, -87.6500523);\n",
      "\n",
      "            // Set CSS styles for the DIV containing the control\n",
      "            // Setting padding to 5 px will offset the control\n",
      "            // from the edge of the map.\n",
      "            controlDiv.style.padding = '5px';\n",
      "\n",
      "            // Set CSS for the control border.\n",
      "            var $controlUI = $('<div />')\n",
      "                .css('backgroundColor', 'white')\n",
      "                .css('borderStyle', 'solid')\n",
      "                .css('borderWidth', '1px')\n",
      "                .css('cursor', 'pointer')\n",
      "                .css('textAlign', 'center')\n",
      "                .appendTo($(controlDiv));\n",
      "            \n",
      "            // Set CSS for the control interior.\n",
      "            var $controlContents = $('<div />')\n",
      "                .css('fontFamily', 'Arial,sans-serif')\n",
      "                .css('fontSize', '12px')\n",
      "                .css('paddingLeft', '4px')\n",
      "                .css('paddingRight', '4px')\n",
      "                .css('paddingTop', '0px')\n",
      "                .css('paddingBottom', '0px')\n",
      "                .appendTo($controlUI);\n",
      "            \n",
      "            this.$controlTable = $('<table />')\n",
      "                .append($('<tr><td colspan=2>Layers</td></tr>'))\n",
      "                .appendTo($controlContents);\n",
      "        },\n",
      "\n",
      "        initializeLayersControl: function() {\n",
      "            var doc = this.$iframe[0].contentDocument;\n",
      "            var win = this.$iframe[0].contentWindow;\n",
      "\n",
      "            // Create the DIV to hold the control and call the LayersControl() constructor\n",
      "            // passing in this DIV.\n",
      "    \n",
      "            var layersControlDiv = document.createElement('div');\n",
      "            this.layersControl = new this.LayersControl(this, layersControlDiv, this.map);\n",
      "\n",
      "            layersControlDiv.index = 1;\n",
      "            this.map.controls[win.google.maps.ControlPosition.TOP_RIGHT].push(layersControlDiv);\n",
      "        },\n",
      "        \n",
      "        // Map geometry changed (pan, zoom, resize)\n",
      "        handleBoundsChanged: function() {\n",
      "            this.model.set('lng', this.map.getCenter().lng());\n",
      "            this.model.set('lat', this.map.getCenter().lat());\n",
      "            this.model.set('zoom', this.map.getZoom());\n",
      "            var bounds = this.map.getBounds();\n",
      "            var playgroundCompatible = [bounds.getSouthWest().lng(), bounds.getSouthWest().lat(),\n",
      "                                        bounds.getNorthEast().lng(), bounds.getNorthEast().lat()];\n",
      "            this.model.set('bounds', playgroundCompatible);\n",
      "            this.touch();\n",
      "        },\n",
      "        \n",
      "        // Receive custom messages from Python backend\n",
      "        on_msg: function(msg) {\n",
      "            var win = this.$iframe[0].contentWindow;\n",
      "            if (msg.command == 'addLayer') {\n",
      "                this.addLayer(msg.mapid, msg.token, msg.name, msg.visible);\n",
      "            } else if (msg.command == 'center') {\n",
      "                this.map.setCenter(new win.google.maps.LatLng(msg.lat, msg.lng));\n",
      "                if (msg.zoom !== null) {\n",
      "                    this.map.setZoom(msg.zoom);\n",
      "                }\n",
      "            }\n",
      "        },\n",
      "        \n",
      "        // Add an Earth Engine layer\n",
      "        addLayer: function(mapid, token, name, visible) {\n",
      "            var win = this.$iframe[0].contentWindow;\n",
      "            var eeMapOptions = {\n",
      "                getTileUrl: function(tile, zoom) {\n",
      "                    var url = ['https://earthengine.googleapis.com/map',\n",
      "                               mapid, zoom, tile.x, tile.y].join(\"/\");\n",
      "                    url += '?token=' + token\n",
      "                    return url;\n",
      "                },\n",
      "                tileSize: new win.google.maps.Size(256, 256),\n",
      "                opacity: visible ? 1.0 : 0.0,\n",
      "            };\n",
      "            \n",
      "            // Create the overlay map type\n",
      "            var mapType = new win.google.maps.ImageMapType(eeMapOptions);\n",
      "                \n",
      "            // Overlay the Earth Engine generated layer\n",
      "            this.map.overlayMapTypes.push(mapType);\n",
      "\n",
      "            // Update layer visibility control\n",
      "            var maxSlider = 100;\n",
      "            \n",
      "            function updateOpacity() {\n",
      "                mapType.setOpacity($checkbox[0].checked ? $slider[0].value / 100.0 : 0);\n",
      "            }\n",
      "            \n",
      "            var $checkbox = $('<input type=\"checkbox\">')\n",
      "                .prop('checked', visible)\n",
      "                .change(updateOpacity);\n",
      "            \n",
      "            var $slider = $('<input type=\"range\" />')\n",
      "                .prop('min', 0)\n",
      "                .prop('max', maxSlider)\n",
      "                .prop('value', maxSlider)\n",
      "                .css('width', '60px')\n",
      "                .on('input', updateOpacity);\n",
      "\n",
      "            // If user doesn't specify a layer name, create a default\n",
      "            if (name === null) {\n",
      "                name = 'Layer ' + this.map.overlayMapTypes.length;\n",
      "            }\n",
      "            \n",
      "            var $row = $('<tr />');\n",
      "            $('<td align=\"left\" />').append($checkbox).append(name).appendTo($row);\n",
      "            $('<td />').append($slider).appendTo($row);\n",
      "\n",
      "            this.layersControl.$controlTable.append($row);\n",
      "        }\n",
      "    });\n",
      "    \n",
      "    // Register the GoogleMapsView with the widget manager.\n",
      "    WidgetManager.register_widget_view('GoogleMapsView', GoogleMapsView);\n",
      "});"
     ],
     "language": "python",
     "metadata": {},
     "outputs": [
      {
       "javascript": [
        "\n",
        "require([\"widgets/js/widget\"], function(WidgetManager){\n",
        "    var maps = [];\n",
        "    \n",
        "    // Define the GoogleMapsView\n",
        "    var GoogleMapsView = IPython.DOMWidgetView.extend({\n",
        "        \n",
        "        render: function() {\n",
        "            // Resize widget element to be 100% wide\n",
        "            this.$el.css('width', '100%');\n",
        "\n",
        "            // iframe source;  just enough to load Google Maps and let us poll whether initialization is complete\n",
        "            var src='<html style=\"height:100%\"><head>' +\n",
        "                '<scr'+'ipt src=\"http://maps.googleapis.com/maps/api/js?sensor=false\"></scr'+'ipt>' +\n",
        "                '<scr'+'ipt>google.maps.event.addDomListener(window,\"load\",function(){ready=true});</scr'+'ipt>' +\n",
        "                '</head>' +\n",
        "                '<body style=\"height:100%; margin:0px; padding:0px\"></body></html>';\n",
        "            \n",
        "            // Create the Google Maps container element.\n",
        "            this.$iframe = $('<iframe />')\n",
        "                .css('width', '100%')\n",
        "                .css('height', '500px')\n",
        "                .attr('srcdoc', src)\n",
        "                .appendTo(this.$el);\n",
        "                        \n",
        "            var self = this; // hold onto this for initMapWhenReady\n",
        "\n",
        "            // Wait until maps library has finished loading in iframe, then create map\n",
        "            function initMapWhenReady() {\n",
        "                // Iframe document and window\n",
        "                var doc = self.$iframe[0].contentDocument;\n",
        "                var win = self.$iframe[0].contentWindow;\n",
        "                if (!win || !win.ready) {\n",
        "                    // Maps library not yet loaded;  try again soon\n",
        "                    setTimeout(initMapWhenReady, 20);\n",
        "                    return;\n",
        "                }\n",
        "\n",
        "                // Maps library finished loading.  Build map now.\n",
        "                var mapOptions = {\n",
        "                    center: new win.google.maps.LatLng(self.model.get('lat'), self.model.get('lng')),\n",
        "                    zoom: self.model.get('zoom')\n",
        "                };\n",
        "                var mapDiv = $('<div />')\n",
        "                    .css('width', '100%')\n",
        "                    .css('height', '100%')\n",
        "                    .appendTo($(doc.body));\n",
        "                self.map = new win.google.maps.Map(mapDiv[0], mapOptions);\n",
        "                \n",
        "                \n",
        "                // Add an event listeners for user panning, zooming, and resizing map\n",
        "                // TODO(rsargent): Bind self across all methods, and save some plumbing here\n",
        "                win.google.maps.event.addListener(self.map, 'bounds_changed', function () {\n",
        "                    self.handleBoundsChanged();\n",
        "                });\n",
        "                \n",
        "                self.initializeLayersControl();\n",
        "            }\n",
        "            initMapWhenReady();\n",
        "        },\n",
        "        \n",
        "        LayersControl: function(widget, controlDiv, map) {\n",
        "            var win = widget.$iframe[0].contentWindow;\n",
        "            var chicago = new win.google.maps.LatLng(41.850033, -87.6500523);\n",
        "\n",
        "            // Set CSS styles for the DIV containing the control\n",
        "            // Setting padding to 5 px will offset the control\n",
        "            // from the edge of the map.\n",
        "            controlDiv.style.padding = '5px';\n",
        "\n",
        "            // Set CSS for the control border.\n",
        "            var $controlUI = $('<div />')\n",
        "                .css('backgroundColor', 'white')\n",
        "                .css('borderStyle', 'solid')\n",
        "                .css('borderWidth', '1px')\n",
        "                .css('cursor', 'pointer')\n",
        "                .css('textAlign', 'center')\n",
        "                .appendTo($(controlDiv));\n",
        "            \n",
        "            // Set CSS for the control interior.\n",
        "            var $controlContents = $('<div />')\n",
        "                .css('fontFamily', 'Arial,sans-serif')\n",
        "                .css('fontSize', '12px')\n",
        "                .css('paddingLeft', '4px')\n",
        "                .css('paddingRight', '4px')\n",
        "                .css('paddingTop', '0px')\n",
        "                .css('paddingBottom', '0px')\n",
        "                .appendTo($controlUI);\n",
        "            \n",
        "            this.$controlTable = $('<table />')\n",
        "                .append($('<tr><td colspan=2>Layers</td></tr>'))\n",
        "                .appendTo($controlContents);\n",
        "        },\n",
        "\n",
        "        initializeLayersControl: function() {\n",
        "            var doc = this.$iframe[0].contentDocument;\n",
        "            var win = this.$iframe[0].contentWindow;\n",
        "\n",
        "            // Create the DIV to hold the control and call the LayersControl() constructor\n",
        "            // passing in this DIV.\n",
        "    \n",
        "            var layersControlDiv = document.createElement('div');\n",
        "            this.layersControl = new this.LayersControl(this, layersControlDiv, this.map);\n",
        "\n",
        "            layersControlDiv.index = 1;\n",
        "            this.map.controls[win.google.maps.ControlPosition.TOP_RIGHT].push(layersControlDiv);\n",
        "        },\n",
        "        \n",
        "        // Map geometry changed (pan, zoom, resize)\n",
        "        handleBoundsChanged: function() {\n",
        "            this.model.set('lng', this.map.getCenter().lng());\n",
        "            this.model.set('lat', this.map.getCenter().lat());\n",
        "            this.model.set('zoom', this.map.getZoom());\n",
        "            var bounds = this.map.getBounds();\n",
        "            var playgroundCompatible = [bounds.getSouthWest().lng(), bounds.getSouthWest().lat(),\n",
        "                                        bounds.getNorthEast().lng(), bounds.getNorthEast().lat()];\n",
        "            this.model.set('bounds', playgroundCompatible);\n",
        "            this.touch();\n",
        "        },\n",
        "        \n",
        "        // Receive custom messages from Python backend\n",
        "        on_msg: function(msg) {\n",
        "            var win = this.$iframe[0].contentWindow;\n",
        "            if (msg.command == 'addLayer') {\n",
        "                this.addLayer(msg.mapid, msg.token, msg.name, msg.visible);\n",
        "            } else if (msg.command == 'center') {\n",
        "                this.map.setCenter(new win.google.maps.LatLng(msg.lat, msg.lng));\n",
        "                if (msg.zoom !== null) {\n",
        "                    this.map.setZoom(msg.zoom);\n",
        "                }\n",
        "            }\n",
        "        },\n",
        "        \n",
        "        // Add an Earth Engine layer\n",
        "        addLayer: function(mapid, token, name, visible) {\n",
        "            var win = this.$iframe[0].contentWindow;\n",
        "            var eeMapOptions = {\n",
        "                getTileUrl: function(tile, zoom) {\n",
        "                    var url = ['https://earthengine.googleapis.com/map',\n",
        "                               mapid, zoom, tile.x, tile.y].join(\"/\");\n",
        "                    url += '?token=' + token\n",
        "                    return url;\n",
        "                },\n",
        "                tileSize: new win.google.maps.Size(256, 256),\n",
        "                opacity: visible ? 1.0 : 0.0,\n",
        "            };\n",
        "            \n",
        "            // Create the overlay map type\n",
        "            var mapType = new win.google.maps.ImageMapType(eeMapOptions);\n",
        "                \n",
        "            // Overlay the Earth Engine generated layer\n",
        "            this.map.overlayMapTypes.push(mapType);\n",
        "\n",
        "            // Update layer visibility control\n",
        "            var maxSlider = 100;\n",
        "            \n",
        "            function updateOpacity() {\n",
        "                mapType.setOpacity($checkbox[0].checked ? $slider[0].value / 100.0 : 0);\n",
        "            }\n",
        "            \n",
        "            var $checkbox = $('<input type=\"checkbox\">')\n",
        "                .prop('checked', visible)\n",
        "                .change(updateOpacity);\n",
        "            \n",
        "            var $slider = $('<input type=\"range\" />')\n",
        "                .prop('min', 0)\n",
        "                .prop('max', maxSlider)\n",
        "                .prop('value', maxSlider)\n",
        "                .css('width', '60px')\n",
        "                .on('input', updateOpacity);\n",
        "\n",
        "            // If user doesn't specify a layer name, create a default\n",
        "            if (name === null) {\n",
        "                name = 'Layer ' + this.map.overlayMapTypes.length;\n",
        "            }\n",
        "            \n",
        "            var $row = $('<tr />');\n",
        "            $('<td align=\"left\" />').append($checkbox).append(name).appendTo($row);\n",
        "            $('<td />').append($slider).appendTo($row);\n",
        "\n",
        "            this.layersControl.$controlTable.append($row);\n",
        "        }\n",
        "    });\n",
        "    \n",
        "    // Register the GoogleMapsView with the widget manager.\n",
        "    WidgetManager.register_widget_view('GoogleMapsView', GoogleMapsView);\n",
        "});"
       ],
       "metadata": {},
       "output_type": "display_data",
       "text": [
        "<IPython.core.display.Javascript at 0x105db2c90>"
       ]
      }
     ],
     "prompt_number": 3
    },
    {
     "cell_type": "heading",
     "level": 3,
     "metadata": {},
     "source": [
      "JS map widget to display images (result of above code)"
     ]
    },
    {
     "cell_type": "code",
     "collapsed": false,
     "input": [
      "map_item = GoogleMapsWidget(lat=0, lng=0.0, zoom=3)\n",
      "display(map_item)     # add items to this map later..."
     ],
     "language": "python",
     "metadata": {},
     "outputs": [],
     "prompt_number": 4
    },
    {
     "cell_type": "heading",
     "level": 1,
     "metadata": {},
     "source": [
      "Main program"
     ]
    },
    {
     "cell_type": "heading",
     "level": 3,
     "metadata": {},
     "source": [
      "1. Identify collections and generate a list of the file names to process"
     ]
    },
    {
     "cell_type": "markdown",
     "metadata": {},
     "source": [
      "Note that this whole process hinges on the land classification. The selection is a bit subjective, especially when projected over time for my purpose: hence the aggregation into forest / grass type land (rather than specific classes). Therefore be aware the results can change depending on the classification (or year) selected. E.g. Below the cover pointer (classification image) is from 2007."
     ]
    },
    {
     "cell_type": "code",
     "collapsed": false,
     "input": [
      "# Call the data image and collections\n",
      "cover = ee.Image('MCD12Q1/MCD12Q1_005_2007_01_01').select('Land_Cover_Type_1')\n",
      "                                     \n",
      "base_MODIS_EVI = ee.ImageCollection('MODIS/MCD43A4_EVI') # 16-day, 250m, 2000 - 2014\n",
      "#base_MODIS_NDVI = ee.ImageCollection('MCD43A4_NDVI')\n",
      "\n",
      "base_LS5_EVI = ee.ImageCollection('LANDSAT/LT5_L1T_8DAY_EVI') # 8-day, 30m, Jan 1984 - May 2012\n",
      "base_LS7_EVI = ee.ImageCollection('LANDSAT/LE7_L1T_8DAY_EVI') # 8-day, 30m, Jan 1991 - 2014\n",
      "\n",
      "testDateStart = datetime.datetime(2000, 1, 1)        # Define a time interval.\n",
      "testDateEnd = datetime.datetime(2014, 1, 1)          # YYYY,MM,DD\n",
      "\n",
      "\n",
      "# Target collection: CHANGE BELOW TO ALTER THE COLLECTION TO PROCESS\n",
      "call_collection = ((base_MODIS_EVI).filterDate(testDateStart, testDateEnd))\n",
      "cvar = 'EVI'  # Set string of variable which will be called from collection:\n",
      "\n",
      "info = call_collection.getInfo()    # Extract collection info to get img names \n",
      "# The image names from info pointer above are the only things used to call the images"
     ],
     "language": "python",
     "metadata": {},
     "outputs": [],
     "prompt_number": 5
    },
    {
     "cell_type": "heading",
     "level": 3,
     "metadata": {},
     "source": [
      "2. Set up for AreaReducer function and masking"
     ]
    },
    {
     "cell_type": "code",
     "collapsed": false,
     "input": [
      "# Set up for processing\n",
      "\n",
      "# Polygon over costal Tanzania area (to approx 200km inland)\n",
      "study_area = ee.Geometry.Polygon([[37.3535,-3.6889],[37.0459,-7.6674],\n",
      "    [37.7490,-11.4370],\n",
      "    [40.6934,-10.4014],\n",
      "    [41.3965,-4.7407]])\n",
      "\n",
      "#meanReducer = ee.Reducer.mean()\n",
      "#sigmaReducer = ee.Reducer.stdDev()           # Type of Reducers to apply\n",
      "#countReducer = ee.Reducer.count()            # Actually, better to do this with a combined \n",
      "                                              # reducer below for speed up.  \n",
      "reducer_group = ee.Reducer.count().combine(\n",
      "    ee.Reducer.mean(),outputPrefix='',sharedInputs=True).combine(\n",
      "    ee.Reducer.stdDev(),outputPrefix='',sharedInputs=True);\n",
      "\n",
      "scale = 250                                  # Resolution to perform the reduction (m)\n",
      "vget = 'Land_Cover_Type_1'                   # Veg data will be mapped to this var name\n",
      "\n",
      "                                             # Create mask using ee.Image.logic functions \n",
      "output_ft = cover.gte(1).And(cover.lte(7))   # Create a Forest Type (_ft) Mask\n",
      "mask_ft = output_ft.mask(output_ft)\n",
      "output_gt = cover.gte(8).And(cover.lte(10))  # Create a Grass Type (_ft) Mask\n",
      "mask_gt = output_gt.mask(output_gt)"
     ],
     "language": "python",
     "metadata": {},
     "outputs": [],
     "prompt_number": 6
    },
    {
     "cell_type": "heading",
     "level": 3,
     "metadata": {},
     "source": [
      "For curiosity, plot the classification masks to the JS map from earlier"
     ]
    },
    {
     "cell_type": "code",
     "collapsed": false,
     "input": [
      "# Plot the forest mask, grass mask, and study area onto the JS map above for evaluation:\n",
      "map_item.addLayer(\n",
      "    image=mask_ft,          \n",
      "    name=\"Forest Type Mask\",\n",
      "    vis_params={'palette':\"387616\", 'opacity':0.8},\n",
      "    visible=True)\n",
      "\n",
      "map_item.addLayer(\n",
      "    image=mask_gt,\n",
      "    vis_params={'palette':\"d29e69\", 'opacity':0.8},\n",
      "    name=\"Grass Type Mask\",\n",
      "    visible=True)"
     ],
     "language": "python",
     "metadata": {},
     "outputs": [],
     "prompt_number": 7
    },
    {
     "cell_type": "heading",
     "level": 3,
     "metadata": {},
     "source": [
      "3. Main loop to extract the masked regional stats. of all images specified"
     ]
    },
    {
     "cell_type": "code",
     "collapsed": false,
     "input": [
      "# A single process to call images one after the other, and ReduceRegion for some stats.\n",
      "# It takes about 1 second per image, which is a bit slow. But only needs to be run once,\n",
      "# as the output is saved as a CSV file below.\n",
      "\n",
      "Im_fnm = []                                        # Lists to hold the Image file name\n",
      "GT_mn = []                                         # and also the Grass Type (GT) \n",
      "GT_std =[]                                         # and Forest Type (FT) Means,\n",
      "GT_cnt =[]                                         # STdevs, and pixel counts\n",
      "FT_mn = []\n",
      "FT_std =[]\n",
      "FT_cnt =[]\n",
      "\n",
      "#for n in arange(0,30):                              # For a test set of n time-steps...\n",
      "for n in arange(0,len(info['features'])):          # For all images of a collection...\n",
      "    tmp_fnm =[]                                     # Wipe pointer\n",
      "    tmp_fnm = info['features'][n]['id']\n",
      "    print '\\r','Processing image:',n,tmp_fnm,            # Print an overwriting status line\n",
      "    #print 'Extracting:',n,tmp_fnm\n",
      "    tmp_img =  ee.Image(tmp_fnm).select([cvar])\n",
      "\n",
      "    interest_ft = []                                # Wipe the pointers in each loop\n",
      "    interest_gt = []                                \n",
      "    interest_ft = mask_ft.multiply(0).add(tmp_img)  # Apply the masks created above\n",
      "    interest_gt = mask_gt.multiply(0).add(tmp_img)  # to the data. Then reduce by a polygon area\n",
      "        \n",
      "    gt_return = interest_gt.reduceRegion(reducer_group, study_area,scale)\n",
      "    gt_dic = gt_return.getInfo()  # A Python dictionary object with callable keys()\n",
      "    GT_cnt.append(gt_dic[vget+'_count'])\n",
      "    GT_mn.append(gt_dic[vget+'_mean'])\n",
      "    GT_std.append(gt_dic[vget+'_stdDev'])\n",
      "\n",
      "    ft_return = interest_ft.reduceRegion(reducer_group, study_area,scale)\n",
      "    ft_dic = ft_return.getInfo()  # A Python dictionary object with callable keys()\n",
      "    FT_cnt.append(ft_dic[vget+'_count'])\n",
      "    FT_mn.append(ft_dic[vget+'_mean'])\n",
      "    FT_std.append(ft_dic[vget+'_stdDev'])\n",
      "\n",
      "    Im_fnm.append(tmp_fnm)                           # Append the filename to the list\n",
      "\n",
      "\n",
      "print '\\n Finished'\n",
      "# nb. this code currently isnt too fast: currently takes about 1 sec per day\n",
      "# also, it can fail. In which case you can save the output as the csv file below, and resume\n",
      "# this cell from the image number where it failed...(messy but it works)"
     ],
     "language": "python",
     "metadata": {},
     "outputs": [
      {
       "output_type": "stream",
       "stream": "stdout",
       "text": [
        "\r",
        "Processing image: 222 MCD43A4_EVI/MCD43A4_005_2004_12_18 "
       ]
      },
      {
       "output_type": "stream",
       "stream": "stdout",
       "text": [
        "\r",
        "Processing image: 223 MCD43A4_EVI/MCD43A4_005_2004_12_26 "
       ]
      },
      {
       "output_type": "stream",
       "stream": "stdout",
       "text": [
        "\r",
        "Processing image: 224 MCD43A4_EVI/MCD43A4_005_2005_01_01 "
       ]
      },
      {
       "output_type": "stream",
       "stream": "stdout",
       "text": [
        "\r",
        "Processing image: 225 MCD43A4_EVI/MCD43A4_005_2005_01_09 "
       ]
      },
      {
       "output_type": "stream",
       "stream": "stdout",
       "text": [
        "\r",
        "Processing image: 226 MCD43A4_EVI/MCD43A4_005_2005_01_17 "
       ]
      },
      {
       "output_type": "stream",
       "stream": "stdout",
       "text": [
        "\r",
        "Processing image: 227 MCD43A4_EVI/MCD43A4_005_2005_01_25 "
       ]
      },
      {
       "output_type": "stream",
       "stream": "stdout",
       "text": [
        "\r",
        "Processing image: 228 MCD43A4_EVI/MCD43A4_005_2005_02_02 "
       ]
      },
      {
       "output_type": "stream",
       "stream": "stdout",
       "text": [
        "\r",
        "Processing image: 229 MCD43A4_EVI/MCD43A4_005_2005_02_10 "
       ]
      },
      {
       "output_type": "stream",
       "stream": "stdout",
       "text": [
        "\r",
        "Processing image: 230 MCD43A4_EVI/MCD43A4_005_2005_02_18 "
       ]
      },
      {
       "output_type": "stream",
       "stream": "stdout",
       "text": [
        "\r",
        "Processing image: 231 MCD43A4_EVI/MCD43A4_005_2005_02_26 "
       ]
      },
      {
       "output_type": "stream",
       "stream": "stdout",
       "text": [
        "\r",
        "Processing image: 232 MCD43A4_EVI/MCD43A4_005_2005_03_06 "
       ]
      },
      {
       "output_type": "stream",
       "stream": "stdout",
       "text": [
        "\r",
        "Processing image: 233 MCD43A4_EVI/MCD43A4_005_2005_03_14 "
       ]
      },
      {
       "output_type": "stream",
       "stream": "stdout",
       "text": [
        "\r",
        "Processing image: 234 MCD43A4_EVI/MCD43A4_005_2005_03_22 "
       ]
      },
      {
       "output_type": "stream",
       "stream": "stdout",
       "text": [
        "\r",
        "Processing image: 235 MCD43A4_EVI/MCD43A4_005_2005_03_30 "
       ]
      },
      {
       "output_type": "stream",
       "stream": "stdout",
       "text": [
        "\r",
        "Processing image: 236 MCD43A4_EVI/MCD43A4_005_2005_04_07 "
       ]
      },
      {
       "output_type": "stream",
       "stream": "stdout",
       "text": [
        "\r",
        "Processing image: 237 MCD43A4_EVI/MCD43A4_005_2005_04_15 "
       ]
      },
      {
       "output_type": "stream",
       "stream": "stdout",
       "text": [
        "\r",
        "Processing image: 238 MCD43A4_EVI/MCD43A4_005_2005_04_23 "
       ]
      },
      {
       "output_type": "stream",
       "stream": "stdout",
       "text": [
        "\r",
        "Processing image: 239 MCD43A4_EVI/MCD43A4_005_2005_05_01 "
       ]
      },
      {
       "output_type": "stream",
       "stream": "stdout",
       "text": [
        "\r",
        "Processing image: 240 MCD43A4_EVI/MCD43A4_005_2005_05_09 "
       ]
      },
      {
       "output_type": "stream",
       "stream": "stdout",
       "text": [
        "\r",
        "Processing image: 241 MCD43A4_EVI/MCD43A4_005_2005_05_17 "
       ]
      },
      {
       "output_type": "stream",
       "stream": "stdout",
       "text": [
        "\r",
        "Processing image: 242 MCD43A4_EVI/MCD43A4_005_2005_05_25 "
       ]
      },
      {
       "output_type": "stream",
       "stream": "stdout",
       "text": [
        "\r",
        "Processing image: 243 MCD43A4_EVI/MCD43A4_005_2005_06_02 "
       ]
      },
      {
       "output_type": "stream",
       "stream": "stdout",
       "text": [
        "\r",
        "Processing image: 244 MCD43A4_EVI/MCD43A4_005_2005_06_10 "
       ]
      },
      {
       "output_type": "stream",
       "stream": "stdout",
       "text": [
        "\r",
        "Processing image: 245 MCD43A4_EVI/MCD43A4_005_2005_06_18 "
       ]
      },
      {
       "output_type": "stream",
       "stream": "stdout",
       "text": [
        "\r",
        "Processing image: 246 MCD43A4_EVI/MCD43A4_005_2005_06_26 "
       ]
      },
      {
       "output_type": "stream",
       "stream": "stdout",
       "text": [
        "\r",
        "Processing image: 247 MCD43A4_EVI/MCD43A4_005_2005_07_04 "
       ]
      },
      {
       "output_type": "stream",
       "stream": "stdout",
       "text": [
        "\r",
        "Processing image: 248 MCD43A4_EVI/MCD43A4_005_2005_07_12 "
       ]
      },
      {
       "output_type": "stream",
       "stream": "stdout",
       "text": [
        "\r",
        "Processing image: 249 MCD43A4_EVI/MCD43A4_005_2005_07_20 "
       ]
      },
      {
       "output_type": "stream",
       "stream": "stdout",
       "text": [
        "\r",
        "Processing image: 250 MCD43A4_EVI/MCD43A4_005_2005_07_28 "
       ]
      },
      {
       "output_type": "stream",
       "stream": "stdout",
       "text": [
        "\r",
        "Processing image: 251 MCD43A4_EVI/MCD43A4_005_2005_08_05 "
       ]
      },
      {
       "output_type": "stream",
       "stream": "stdout",
       "text": [
        "\r",
        "Processing image: 252 MCD43A4_EVI/MCD43A4_005_2005_08_13 "
       ]
      },
      {
       "output_type": "stream",
       "stream": "stdout",
       "text": [
        "\r",
        "Processing image: 253 MCD43A4_EVI/MCD43A4_005_2005_08_21 "
       ]
      },
      {
       "output_type": "stream",
       "stream": "stdout",
       "text": [
        "\r",
        "Processing image: 254 MCD43A4_EVI/MCD43A4_005_2005_08_29 "
       ]
      },
      {
       "output_type": "stream",
       "stream": "stdout",
       "text": [
        "\r",
        "Processing image: 255 MCD43A4_EVI/MCD43A4_005_2005_09_06 "
       ]
      },
      {
       "output_type": "stream",
       "stream": "stdout",
       "text": [
        "\r",
        "Processing image: 256 MCD43A4_EVI/MCD43A4_005_2005_09_14 "
       ]
      },
      {
       "output_type": "stream",
       "stream": "stdout",
       "text": [
        "\r",
        "Processing image: 257 MCD43A4_EVI/MCD43A4_005_2005_09_22 "
       ]
      },
      {
       "output_type": "stream",
       "stream": "stdout",
       "text": [
        "\r",
        "Processing image: 258 MCD43A4_EVI/MCD43A4_005_2005_09_30 "
       ]
      },
      {
       "output_type": "stream",
       "stream": "stdout",
       "text": [
        "\r",
        "Processing image: 259 MCD43A4_EVI/MCD43A4_005_2005_10_08 "
       ]
      },
      {
       "output_type": "stream",
       "stream": "stdout",
       "text": [
        "\r",
        "Processing image: 260 MCD43A4_EVI/MCD43A4_005_2005_10_16 "
       ]
      },
      {
       "output_type": "stream",
       "stream": "stdout",
       "text": [
        "\r",
        "Processing image: 261 MCD43A4_EVI/MCD43A4_005_2005_10_24 "
       ]
      },
      {
       "output_type": "stream",
       "stream": "stdout",
       "text": [
        "\r",
        "Processing image: 262 MCD43A4_EVI/MCD43A4_005_2005_11_01 "
       ]
      },
      {
       "output_type": "stream",
       "stream": "stdout",
       "text": [
        "\r",
        "Processing image: 263 MCD43A4_EVI/MCD43A4_005_2005_11_09 "
       ]
      },
      {
       "output_type": "stream",
       "stream": "stdout",
       "text": [
        "\r",
        "Processing image: 264 MCD43A4_EVI/MCD43A4_005_2005_11_17 "
       ]
      },
      {
       "output_type": "stream",
       "stream": "stdout",
       "text": [
        "\r",
        "Processing image: 265 MCD43A4_EVI/MCD43A4_005_2005_11_25 "
       ]
      },
      {
       "output_type": "stream",
       "stream": "stdout",
       "text": [
        "\r",
        "Processing image: 266 MCD43A4_EVI/MCD43A4_005_2005_12_03 "
       ]
      },
      {
       "output_type": "stream",
       "stream": "stdout",
       "text": [
        "\r",
        "Processing image: 267 MCD43A4_EVI/MCD43A4_005_2005_12_11 "
       ]
      },
      {
       "output_type": "stream",
       "stream": "stdout",
       "text": [
        "\r",
        "Processing image: 268 MCD43A4_EVI/MCD43A4_005_2005_12_19 "
       ]
      },
      {
       "output_type": "stream",
       "stream": "stdout",
       "text": [
        "\r",
        "Processing image: 269 MCD43A4_EVI/MCD43A4_005_2005_12_27 "
       ]
      },
      {
       "output_type": "stream",
       "stream": "stdout",
       "text": [
        "\r",
        "Processing image: 270 MCD43A4_EVI/MCD43A4_005_2006_01_01 "
       ]
      },
      {
       "output_type": "stream",
       "stream": "stdout",
       "text": [
        "\r",
        "Processing image: 271 MCD43A4_EVI/MCD43A4_005_2006_01_09 "
       ]
      },
      {
       "output_type": "stream",
       "stream": "stdout",
       "text": [
        "\r",
        "Processing image: 272 MCD43A4_EVI/MCD43A4_005_2006_01_17 "
       ]
      },
      {
       "output_type": "stream",
       "stream": "stdout",
       "text": [
        "\r",
        "Processing image: 273 MCD43A4_EVI/MCD43A4_005_2006_01_25 "
       ]
      },
      {
       "output_type": "stream",
       "stream": "stdout",
       "text": [
        "\r",
        "Processing image: 274 MCD43A4_EVI/MCD43A4_005_2006_02_02 "
       ]
      },
      {
       "output_type": "stream",
       "stream": "stdout",
       "text": [
        "\r",
        "Processing image: 275 MCD43A4_EVI/MCD43A4_005_2006_02_10 "
       ]
      },
      {
       "output_type": "stream",
       "stream": "stdout",
       "text": [
        "\r",
        "Processing image: 276 MCD43A4_EVI/MCD43A4_005_2006_02_18 "
       ]
      },
      {
       "output_type": "stream",
       "stream": "stdout",
       "text": [
        "\r",
        "Processing image: 277 MCD43A4_EVI/MCD43A4_005_2006_02_26 "
       ]
      },
      {
       "output_type": "stream",
       "stream": "stdout",
       "text": [
        "\r",
        "Processing image: 278 MCD43A4_EVI/MCD43A4_005_2006_03_06 "
       ]
      },
      {
       "output_type": "stream",
       "stream": "stdout",
       "text": [
        "\r",
        "Processing image: 279 MCD43A4_EVI/MCD43A4_005_2006_03_14 "
       ]
      },
      {
       "output_type": "stream",
       "stream": "stdout",
       "text": [
        "\r",
        "Processing image: 280 MCD43A4_EVI/MCD43A4_005_2006_03_22 "
       ]
      },
      {
       "output_type": "stream",
       "stream": "stdout",
       "text": [
        "\r",
        "Processing image: 281 MCD43A4_EVI/MCD43A4_005_2006_03_30 "
       ]
      },
      {
       "output_type": "stream",
       "stream": "stdout",
       "text": [
        "\r",
        "Processing image: 282 MCD43A4_EVI/MCD43A4_005_2006_04_07 "
       ]
      },
      {
       "output_type": "stream",
       "stream": "stdout",
       "text": [
        "\r",
        "Processing image: 283 MCD43A4_EVI/MCD43A4_005_2006_04_15 "
       ]
      },
      {
       "output_type": "stream",
       "stream": "stdout",
       "text": [
        "\r",
        "Processing image: 284 MCD43A4_EVI/MCD43A4_005_2006_04_23 "
       ]
      },
      {
       "output_type": "stream",
       "stream": "stdout",
       "text": [
        "\r",
        "Processing image: 285 MCD43A4_EVI/MCD43A4_005_2006_05_01 "
       ]
      },
      {
       "output_type": "stream",
       "stream": "stdout",
       "text": [
        "\r",
        "Processing image: 286 MCD43A4_EVI/MCD43A4_005_2006_05_09 "
       ]
      },
      {
       "output_type": "stream",
       "stream": "stdout",
       "text": [
        "\r",
        "Processing image: 287 MCD43A4_EVI/MCD43A4_005_2006_05_17 "
       ]
      },
      {
       "output_type": "stream",
       "stream": "stdout",
       "text": [
        "\r",
        "Processing image: 288 MCD43A4_EVI/MCD43A4_005_2006_05_25 "
       ]
      },
      {
       "output_type": "stream",
       "stream": "stdout",
       "text": [
        "\r",
        "Processing image: 289 MCD43A4_EVI/MCD43A4_005_2006_06_02 "
       ]
      },
      {
       "output_type": "stream",
       "stream": "stdout",
       "text": [
        "\r",
        "Processing image: 290 MCD43A4_EVI/MCD43A4_005_2006_06_10 "
       ]
      },
      {
       "output_type": "stream",
       "stream": "stdout",
       "text": [
        "\r",
        "Processing image: 291 MCD43A4_EVI/MCD43A4_005_2006_06_18 "
       ]
      },
      {
       "output_type": "stream",
       "stream": "stdout",
       "text": [
        "\r",
        "Processing image: 292 MCD43A4_EVI/MCD43A4_005_2006_06_26 "
       ]
      },
      {
       "output_type": "stream",
       "stream": "stdout",
       "text": [
        "\r",
        "Processing image: 293 MCD43A4_EVI/MCD43A4_005_2006_07_04 "
       ]
      },
      {
       "output_type": "stream",
       "stream": "stdout",
       "text": [
        "\r",
        "Processing image: 294 MCD43A4_EVI/MCD43A4_005_2006_07_12 "
       ]
      },
      {
       "output_type": "stream",
       "stream": "stdout",
       "text": [
        "\r",
        "Processing image: 295 MCD43A4_EVI/MCD43A4_005_2006_07_20 "
       ]
      },
      {
       "output_type": "stream",
       "stream": "stdout",
       "text": [
        "\r",
        "Processing image: 296 MCD43A4_EVI/MCD43A4_005_2006_07_28 "
       ]
      },
      {
       "output_type": "stream",
       "stream": "stdout",
       "text": [
        "\r",
        "Processing image: 297 MCD43A4_EVI/MCD43A4_005_2006_08_05 "
       ]
      },
      {
       "output_type": "stream",
       "stream": "stdout",
       "text": [
        "\r",
        "Processing image: 298 MCD43A4_EVI/MCD43A4_005_2006_08_13 "
       ]
      },
      {
       "output_type": "stream",
       "stream": "stdout",
       "text": [
        "\r",
        "Processing image: 299 MCD43A4_EVI/MCD43A4_005_2006_08_21 "
       ]
      },
      {
       "output_type": "stream",
       "stream": "stdout",
       "text": [
        "\r",
        "Processing image: 300 MCD43A4_EVI/MCD43A4_005_2006_08_29 "
       ]
      },
      {
       "output_type": "stream",
       "stream": "stdout",
       "text": [
        "\r",
        "Processing image: 301 MCD43A4_EVI/MCD43A4_005_2006_09_06 "
       ]
      },
      {
       "output_type": "stream",
       "stream": "stdout",
       "text": [
        "\r",
        "Processing image: 302 MCD43A4_EVI/MCD43A4_005_2006_09_14 "
       ]
      },
      {
       "output_type": "stream",
       "stream": "stdout",
       "text": [
        "\r",
        "Processing image: 303 MCD43A4_EVI/MCD43A4_005_2006_09_22 "
       ]
      },
      {
       "output_type": "stream",
       "stream": "stdout",
       "text": [
        "\r",
        "Processing image: 304 MCD43A4_EVI/MCD43A4_005_2006_09_30 "
       ]
      },
      {
       "output_type": "stream",
       "stream": "stdout",
       "text": [
        "\r",
        "Processing image: 305 MCD43A4_EVI/MCD43A4_005_2006_10_08 "
       ]
      },
      {
       "output_type": "stream",
       "stream": "stdout",
       "text": [
        "\r",
        "Processing image: 306 MCD43A4_EVI/MCD43A4_005_2006_10_16 "
       ]
      },
      {
       "output_type": "stream",
       "stream": "stdout",
       "text": [
        "\r",
        "Processing image: 307 MCD43A4_EVI/MCD43A4_005_2006_10_24 "
       ]
      },
      {
       "output_type": "stream",
       "stream": "stdout",
       "text": [
        "\r",
        "Processing image: 308 MCD43A4_EVI/MCD43A4_005_2006_11_01 "
       ]
      },
      {
       "output_type": "stream",
       "stream": "stdout",
       "text": [
        "\r",
        "Processing image: 309 MCD43A4_EVI/MCD43A4_005_2006_11_09 "
       ]
      },
      {
       "output_type": "stream",
       "stream": "stdout",
       "text": [
        "\r",
        "Processing image: 310 MCD43A4_EVI/MCD43A4_005_2006_11_17 "
       ]
      },
      {
       "output_type": "stream",
       "stream": "stdout",
       "text": [
        "\r",
        "Processing image: 311 MCD43A4_EVI/MCD43A4_005_2006_11_25 "
       ]
      },
      {
       "output_type": "stream",
       "stream": "stdout",
       "text": [
        "\r",
        "Processing image: 312 MCD43A4_EVI/MCD43A4_005_2006_12_03 "
       ]
      },
      {
       "output_type": "stream",
       "stream": "stdout",
       "text": [
        "\r",
        "Processing image: 313 MCD43A4_EVI/MCD43A4_005_2006_12_11 "
       ]
      },
      {
       "output_type": "stream",
       "stream": "stdout",
       "text": [
        "\r",
        "Processing image: 314 MCD43A4_EVI/MCD43A4_005_2006_12_19 "
       ]
      },
      {
       "output_type": "stream",
       "stream": "stdout",
       "text": [
        "\r",
        "Processing image: 315 MCD43A4_EVI/MCD43A4_005_2006_12_27 "
       ]
      },
      {
       "output_type": "stream",
       "stream": "stdout",
       "text": [
        "\r",
        "Processing image: 316 MCD43A4_EVI/MCD43A4_005_2007_01_01 "
       ]
      },
      {
       "output_type": "stream",
       "stream": "stdout",
       "text": [
        "\r",
        "Processing image: 317 MCD43A4_EVI/MCD43A4_005_2007_01_09 "
       ]
      },
      {
       "output_type": "stream",
       "stream": "stdout",
       "text": [
        "\r",
        "Processing image: 318 MCD43A4_EVI/MCD43A4_005_2007_01_17 "
       ]
      },
      {
       "output_type": "stream",
       "stream": "stdout",
       "text": [
        "\r",
        "Processing image: 319 MCD43A4_EVI/MCD43A4_005_2007_01_25 "
       ]
      },
      {
       "output_type": "stream",
       "stream": "stdout",
       "text": [
        "\r",
        "Processing image: 320 MCD43A4_EVI/MCD43A4_005_2007_02_02 "
       ]
      },
      {
       "output_type": "stream",
       "stream": "stdout",
       "text": [
        "\r",
        "Processing image: 321 MCD43A4_EVI/MCD43A4_005_2007_02_10 "
       ]
      },
      {
       "output_type": "stream",
       "stream": "stdout",
       "text": [
        "\r",
        "Processing image: 322 MCD43A4_EVI/MCD43A4_005_2007_02_18 "
       ]
      },
      {
       "output_type": "stream",
       "stream": "stdout",
       "text": [
        "\r",
        "Processing image: 323 MCD43A4_EVI/MCD43A4_005_2007_02_26 "
       ]
      },
      {
       "output_type": "stream",
       "stream": "stdout",
       "text": [
        "\r",
        "Processing image: 324 MCD43A4_EVI/MCD43A4_005_2007_03_06 "
       ]
      },
      {
       "output_type": "stream",
       "stream": "stdout",
       "text": [
        "\r",
        "Processing image: 325 MCD43A4_EVI/MCD43A4_005_2007_03_14 "
       ]
      },
      {
       "output_type": "stream",
       "stream": "stdout",
       "text": [
        "\r",
        "Processing image: 326 MCD43A4_EVI/MCD43A4_005_2007_03_22 "
       ]
      },
      {
       "output_type": "stream",
       "stream": "stdout",
       "text": [
        "\r",
        "Processing image: 327 MCD43A4_EVI/MCD43A4_005_2007_03_30 "
       ]
      },
      {
       "output_type": "stream",
       "stream": "stdout",
       "text": [
        "\r",
        "Processing image: 328 MCD43A4_EVI/MCD43A4_005_2007_04_07 "
       ]
      },
      {
       "output_type": "stream",
       "stream": "stdout",
       "text": [
        "\r",
        "Processing image: 329 MCD43A4_EVI/MCD43A4_005_2007_04_15 "
       ]
      },
      {
       "output_type": "stream",
       "stream": "stdout",
       "text": [
        "\r",
        "Processing image: 330 MCD43A4_EVI/MCD43A4_005_2007_04_23 "
       ]
      },
      {
       "output_type": "stream",
       "stream": "stdout",
       "text": [
        "\r",
        "Processing image: 331 MCD43A4_EVI/MCD43A4_005_2007_05_01 "
       ]
      },
      {
       "output_type": "stream",
       "stream": "stdout",
       "text": [
        "\r",
        "Processing image: 332 MCD43A4_EVI/MCD43A4_005_2007_05_09 "
       ]
      },
      {
       "output_type": "stream",
       "stream": "stdout",
       "text": [
        "\r",
        "Processing image: 333 MCD43A4_EVI/MCD43A4_005_2007_05_17 "
       ]
      },
      {
       "output_type": "stream",
       "stream": "stdout",
       "text": [
        "\r",
        "Processing image: 334 MCD43A4_EVI/MCD43A4_005_2007_05_25 "
       ]
      },
      {
       "output_type": "stream",
       "stream": "stdout",
       "text": [
        "\r",
        "Processing image: 335 MCD43A4_EVI/MCD43A4_005_2007_06_02 "
       ]
      },
      {
       "output_type": "stream",
       "stream": "stdout",
       "text": [
        "\r",
        "Processing image: 336 MCD43A4_EVI/MCD43A4_005_2007_06_10 "
       ]
      },
      {
       "output_type": "stream",
       "stream": "stdout",
       "text": [
        "\r",
        "Processing image: 337 MCD43A4_EVI/MCD43A4_005_2007_06_18 "
       ]
      },
      {
       "output_type": "stream",
       "stream": "stdout",
       "text": [
        "\r",
        "Processing image: 338 MCD43A4_EVI/MCD43A4_005_2007_06_26 "
       ]
      },
      {
       "output_type": "stream",
       "stream": "stdout",
       "text": [
        "\r",
        "Processing image: 339 MCD43A4_EVI/MCD43A4_005_2007_07_04 "
       ]
      },
      {
       "output_type": "stream",
       "stream": "stdout",
       "text": [
        "\r",
        "Processing image: 340 MCD43A4_EVI/MCD43A4_005_2007_07_12 "
       ]
      },
      {
       "output_type": "stream",
       "stream": "stdout",
       "text": [
        "\r",
        "Processing image: 341 MCD43A4_EVI/MCD43A4_005_2007_07_20 "
       ]
      },
      {
       "output_type": "stream",
       "stream": "stdout",
       "text": [
        "\r",
        "Processing image: 342 MCD43A4_EVI/MCD43A4_005_2007_07_28 "
       ]
      },
      {
       "output_type": "stream",
       "stream": "stdout",
       "text": [
        "\r",
        "Processing image: 343 MCD43A4_EVI/MCD43A4_005_2007_08_05 "
       ]
      },
      {
       "output_type": "stream",
       "stream": "stdout",
       "text": [
        "\r",
        "Processing image: 344 MCD43A4_EVI/MCD43A4_005_2007_08_13 "
       ]
      },
      {
       "output_type": "stream",
       "stream": "stdout",
       "text": [
        "\r",
        "Processing image: 345 MCD43A4_EVI/MCD43A4_005_2007_08_21 "
       ]
      },
      {
       "output_type": "stream",
       "stream": "stdout",
       "text": [
        "\r",
        "Processing image: 346 MCD43A4_EVI/MCD43A4_005_2007_08_29 "
       ]
      },
      {
       "output_type": "stream",
       "stream": "stdout",
       "text": [
        "\r",
        "Processing image: 347 MCD43A4_EVI/MCD43A4_005_2007_09_06 "
       ]
      },
      {
       "output_type": "stream",
       "stream": "stdout",
       "text": [
        "\r",
        "Processing image: 348 MCD43A4_EVI/MCD43A4_005_2007_09_14 "
       ]
      },
      {
       "output_type": "stream",
       "stream": "stdout",
       "text": [
        "\r",
        "Processing image: 349 MCD43A4_EVI/MCD43A4_005_2007_09_22 "
       ]
      },
      {
       "output_type": "stream",
       "stream": "stdout",
       "text": [
        "\r",
        "Processing image: 350 MCD43A4_EVI/MCD43A4_005_2007_09_30 "
       ]
      },
      {
       "output_type": "stream",
       "stream": "stdout",
       "text": [
        "\r",
        "Processing image: 351 MCD43A4_EVI/MCD43A4_005_2007_10_08 "
       ]
      },
      {
       "output_type": "stream",
       "stream": "stdout",
       "text": [
        "\r",
        "Processing image: 352 MCD43A4_EVI/MCD43A4_005_2007_10_16 "
       ]
      },
      {
       "output_type": "stream",
       "stream": "stdout",
       "text": [
        "\r",
        "Processing image: 353 MCD43A4_EVI/MCD43A4_005_2007_10_24 "
       ]
      },
      {
       "output_type": "stream",
       "stream": "stdout",
       "text": [
        "\r",
        "Processing image: 354 MCD43A4_EVI/MCD43A4_005_2007_11_01 "
       ]
      },
      {
       "output_type": "stream",
       "stream": "stdout",
       "text": [
        "\r",
        "Processing image: 355 MCD43A4_EVI/MCD43A4_005_2007_11_09 "
       ]
      },
      {
       "output_type": "stream",
       "stream": "stdout",
       "text": [
        "\r",
        "Processing image: 356 MCD43A4_EVI/MCD43A4_005_2007_11_17 "
       ]
      },
      {
       "output_type": "stream",
       "stream": "stdout",
       "text": [
        "\r",
        "Processing image: 357 MCD43A4_EVI/MCD43A4_005_2007_11_25 "
       ]
      },
      {
       "output_type": "stream",
       "stream": "stdout",
       "text": [
        "\r",
        "Processing image: 358 MCD43A4_EVI/MCD43A4_005_2007_12_03 "
       ]
      },
      {
       "output_type": "stream",
       "stream": "stdout",
       "text": [
        "\r",
        "Processing image: 359 MCD43A4_EVI/MCD43A4_005_2007_12_11 "
       ]
      },
      {
       "output_type": "stream",
       "stream": "stdout",
       "text": [
        "\r",
        "Processing image: 360 MCD43A4_EVI/MCD43A4_005_2007_12_19 "
       ]
      },
      {
       "output_type": "stream",
       "stream": "stdout",
       "text": [
        "\r",
        "Processing image: 361 MCD43A4_EVI/MCD43A4_005_2007_12_27 "
       ]
      },
      {
       "output_type": "stream",
       "stream": "stdout",
       "text": [
        "\r",
        "Processing image: 362 MCD43A4_EVI/MCD43A4_005_2008_01_01 "
       ]
      },
      {
       "output_type": "stream",
       "stream": "stdout",
       "text": [
        "\r",
        "Processing image: 363 MCD43A4_EVI/MCD43A4_005_2008_01_09 "
       ]
      },
      {
       "output_type": "stream",
       "stream": "stdout",
       "text": [
        "\r",
        "Processing image: 364 MCD43A4_EVI/MCD43A4_005_2008_01_17 "
       ]
      },
      {
       "output_type": "stream",
       "stream": "stdout",
       "text": [
        "\r",
        "Processing image: 365 MCD43A4_EVI/MCD43A4_005_2008_01_25 "
       ]
      },
      {
       "output_type": "stream",
       "stream": "stdout",
       "text": [
        "\r",
        "Processing image: 366 MCD43A4_EVI/MCD43A4_005_2008_02_02 "
       ]
      },
      {
       "output_type": "stream",
       "stream": "stdout",
       "text": [
        "\r",
        "Processing image: 367 MCD43A4_EVI/MCD43A4_005_2008_02_10 "
       ]
      },
      {
       "output_type": "stream",
       "stream": "stdout",
       "text": [
        "\r",
        "Processing image: 368 MCD43A4_EVI/MCD43A4_005_2008_02_18 "
       ]
      },
      {
       "output_type": "stream",
       "stream": "stdout",
       "text": [
        "\r",
        "Processing image: 369 MCD43A4_EVI/MCD43A4_005_2008_02_26 "
       ]
      },
      {
       "output_type": "stream",
       "stream": "stdout",
       "text": [
        "\r",
        "Processing image: 370 MCD43A4_EVI/MCD43A4_005_2008_03_05 "
       ]
      },
      {
       "output_type": "stream",
       "stream": "stdout",
       "text": [
        "\r",
        "Processing image: 371 MCD43A4_EVI/MCD43A4_005_2008_03_13 "
       ]
      },
      {
       "output_type": "stream",
       "stream": "stdout",
       "text": [
        "\r",
        "Processing image: 372 MCD43A4_EVI/MCD43A4_005_2008_03_21 "
       ]
      },
      {
       "output_type": "stream",
       "stream": "stdout",
       "text": [
        "\r",
        "Processing image: 373 MCD43A4_EVI/MCD43A4_005_2008_03_29 "
       ]
      },
      {
       "output_type": "stream",
       "stream": "stdout",
       "text": [
        "\r",
        "Processing image: 374 MCD43A4_EVI/MCD43A4_005_2008_04_06 "
       ]
      },
      {
       "output_type": "stream",
       "stream": "stdout",
       "text": [
        "\r",
        "Processing image: 375 MCD43A4_EVI/MCD43A4_005_2008_04_14 "
       ]
      },
      {
       "output_type": "stream",
       "stream": "stdout",
       "text": [
        "\r",
        "Processing image: 376 MCD43A4_EVI/MCD43A4_005_2008_04_22 "
       ]
      },
      {
       "output_type": "stream",
       "stream": "stdout",
       "text": [
        "\r",
        "Processing image: 377 MCD43A4_EVI/MCD43A4_005_2008_04_30 "
       ]
      },
      {
       "output_type": "stream",
       "stream": "stdout",
       "text": [
        "\r",
        "Processing image: 378 MCD43A4_EVI/MCD43A4_005_2008_05_08 "
       ]
      },
      {
       "output_type": "stream",
       "stream": "stdout",
       "text": [
        "\r",
        "Processing image: 379 MCD43A4_EVI/MCD43A4_005_2008_05_16 "
       ]
      },
      {
       "output_type": "stream",
       "stream": "stdout",
       "text": [
        "\r",
        "Processing image: 380 MCD43A4_EVI/MCD43A4_005_2008_05_24 "
       ]
      },
      {
       "output_type": "stream",
       "stream": "stdout",
       "text": [
        "\r",
        "Processing image: 381 MCD43A4_EVI/MCD43A4_005_2008_06_01 "
       ]
      },
      {
       "output_type": "stream",
       "stream": "stdout",
       "text": [
        "\r",
        "Processing image: 382 MCD43A4_EVI/MCD43A4_005_2008_06_09 "
       ]
      },
      {
       "output_type": "stream",
       "stream": "stdout",
       "text": [
        "\r",
        "Processing image: 383 MCD43A4_EVI/MCD43A4_005_2008_06_17 "
       ]
      },
      {
       "output_type": "stream",
       "stream": "stdout",
       "text": [
        "\r",
        "Processing image: 384 MCD43A4_EVI/MCD43A4_005_2008_06_25 "
       ]
      },
      {
       "output_type": "stream",
       "stream": "stdout",
       "text": [
        "\r",
        "Processing image: 385 MCD43A4_EVI/MCD43A4_005_2008_07_03 "
       ]
      },
      {
       "output_type": "stream",
       "stream": "stdout",
       "text": [
        "\r",
        "Processing image: 386 MCD43A4_EVI/MCD43A4_005_2008_07_11 "
       ]
      },
      {
       "output_type": "stream",
       "stream": "stdout",
       "text": [
        "\r",
        "Processing image: 387 MCD43A4_EVI/MCD43A4_005_2008_07_19 "
       ]
      },
      {
       "output_type": "stream",
       "stream": "stdout",
       "text": [
        "\r",
        "Processing image: 388 MCD43A4_EVI/MCD43A4_005_2008_07_27 "
       ]
      },
      {
       "output_type": "stream",
       "stream": "stdout",
       "text": [
        "\r",
        "Processing image: 389 MCD43A4_EVI/MCD43A4_005_2008_08_04 "
       ]
      },
      {
       "output_type": "stream",
       "stream": "stdout",
       "text": [
        "\r",
        "Processing image: 390 MCD43A4_EVI/MCD43A4_005_2008_08_12 "
       ]
      },
      {
       "output_type": "stream",
       "stream": "stdout",
       "text": [
        "\r",
        "Processing image: 391 MCD43A4_EVI/MCD43A4_005_2008_08_20 "
       ]
      },
      {
       "output_type": "stream",
       "stream": "stdout",
       "text": [
        "\r",
        "Processing image: 392 MCD43A4_EVI/MCD43A4_005_2008_08_28 "
       ]
      },
      {
       "output_type": "stream",
       "stream": "stdout",
       "text": [
        "\r",
        "Processing image: 393 MCD43A4_EVI/MCD43A4_005_2008_09_05 "
       ]
      },
      {
       "output_type": "stream",
       "stream": "stdout",
       "text": [
        "\r",
        "Processing image: 394 MCD43A4_EVI/MCD43A4_005_2008_09_13 "
       ]
      },
      {
       "output_type": "stream",
       "stream": "stdout",
       "text": [
        "\r",
        "Processing image: 395 MCD43A4_EVI/MCD43A4_005_2008_09_21 "
       ]
      },
      {
       "output_type": "stream",
       "stream": "stdout",
       "text": [
        "\r",
        "Processing image: 396 MCD43A4_EVI/MCD43A4_005_2008_09_29 "
       ]
      },
      {
       "output_type": "stream",
       "stream": "stdout",
       "text": [
        "\r",
        "Processing image: 397 MCD43A4_EVI/MCD43A4_005_2008_10_07 "
       ]
      },
      {
       "output_type": "stream",
       "stream": "stdout",
       "text": [
        "\r",
        "Processing image: 398 MCD43A4_EVI/MCD43A4_005_2008_10_15 "
       ]
      },
      {
       "output_type": "stream",
       "stream": "stdout",
       "text": [
        "\r",
        "Processing image: 399 MCD43A4_EVI/MCD43A4_005_2008_10_23 "
       ]
      },
      {
       "output_type": "stream",
       "stream": "stdout",
       "text": [
        "\r",
        "Processing image: 400 MCD43A4_EVI/MCD43A4_005_2008_10_31 "
       ]
      },
      {
       "output_type": "stream",
       "stream": "stdout",
       "text": [
        "\r",
        "Processing image: 401 MCD43A4_EVI/MCD43A4_005_2008_11_08 "
       ]
      },
      {
       "output_type": "stream",
       "stream": "stdout",
       "text": [
        "\r",
        "Processing image: 402 MCD43A4_EVI/MCD43A4_005_2008_11_16 "
       ]
      },
      {
       "output_type": "stream",
       "stream": "stdout",
       "text": [
        "\r",
        "Processing image: 403 MCD43A4_EVI/MCD43A4_005_2008_11_24 "
       ]
      },
      {
       "output_type": "stream",
       "stream": "stdout",
       "text": [
        "\r",
        "Processing image: 404 MCD43A4_EVI/MCD43A4_005_2008_12_02 "
       ]
      },
      {
       "output_type": "stream",
       "stream": "stdout",
       "text": [
        "\r",
        "Processing image: 405 MCD43A4_EVI/MCD43A4_005_2008_12_10 "
       ]
      },
      {
       "output_type": "stream",
       "stream": "stdout",
       "text": [
        "\r",
        "Processing image: 406 MCD43A4_EVI/MCD43A4_005_2008_12_18 "
       ]
      },
      {
       "output_type": "stream",
       "stream": "stdout",
       "text": [
        "\r",
        "Processing image: 407 MCD43A4_EVI/MCD43A4_005_2008_12_26 "
       ]
      },
      {
       "output_type": "stream",
       "stream": "stdout",
       "text": [
        "\r",
        "Processing image: 408 MCD43A4_EVI/MCD43A4_005_2009_01_01 "
       ]
      },
      {
       "output_type": "stream",
       "stream": "stdout",
       "text": [
        "\r",
        "Processing image: 409 MCD43A4_EVI/MCD43A4_005_2009_01_09 "
       ]
      },
      {
       "output_type": "stream",
       "stream": "stdout",
       "text": [
        "\r",
        "Processing image: 410 MCD43A4_EVI/MCD43A4_005_2009_01_17 "
       ]
      },
      {
       "output_type": "stream",
       "stream": "stdout",
       "text": [
        "\r",
        "Processing image: 411 MCD43A4_EVI/MCD43A4_005_2009_01_25 "
       ]
      },
      {
       "output_type": "stream",
       "stream": "stdout",
       "text": [
        "\r",
        "Processing image: 412 MCD43A4_EVI/MCD43A4_005_2009_02_02 "
       ]
      },
      {
       "output_type": "stream",
       "stream": "stdout",
       "text": [
        "\r",
        "Processing image: 413 MCD43A4_EVI/MCD43A4_005_2009_02_10 "
       ]
      },
      {
       "output_type": "stream",
       "stream": "stdout",
       "text": [
        "\r",
        "Processing image: 414 MCD43A4_EVI/MCD43A4_005_2009_02_18 "
       ]
      },
      {
       "output_type": "stream",
       "stream": "stdout",
       "text": [
        "\r",
        "Processing image: 415 MCD43A4_EVI/MCD43A4_005_2009_02_26 "
       ]
      },
      {
       "output_type": "stream",
       "stream": "stdout",
       "text": [
        "\r",
        "Processing image: 416 MCD43A4_EVI/MCD43A4_005_2009_03_06 "
       ]
      },
      {
       "output_type": "stream",
       "stream": "stdout",
       "text": [
        "\r",
        "Processing image: 417 MCD43A4_EVI/MCD43A4_005_2009_03_14 "
       ]
      },
      {
       "output_type": "stream",
       "stream": "stdout",
       "text": [
        "\r",
        "Processing image: 418 MCD43A4_EVI/MCD43A4_005_2009_03_22 "
       ]
      },
      {
       "output_type": "stream",
       "stream": "stdout",
       "text": [
        "\r",
        "Processing image: 419 MCD43A4_EVI/MCD43A4_005_2009_03_30 "
       ]
      },
      {
       "output_type": "stream",
       "stream": "stdout",
       "text": [
        "\r",
        "Processing image: 420 MCD43A4_EVI/MCD43A4_005_2009_04_07 "
       ]
      },
      {
       "output_type": "stream",
       "stream": "stdout",
       "text": [
        "\r",
        "Processing image: 421 MCD43A4_EVI/MCD43A4_005_2009_04_15 "
       ]
      },
      {
       "output_type": "stream",
       "stream": "stdout",
       "text": [
        "\r",
        "Processing image: 422 MCD43A4_EVI/MCD43A4_005_2009_04_23 "
       ]
      },
      {
       "output_type": "stream",
       "stream": "stdout",
       "text": [
        "\r",
        "Processing image: 423 MCD43A4_EVI/MCD43A4_005_2009_05_01 "
       ]
      },
      {
       "output_type": "stream",
       "stream": "stdout",
       "text": [
        "\r",
        "Processing image: 424 MCD43A4_EVI/MCD43A4_005_2009_05_09 "
       ]
      },
      {
       "output_type": "stream",
       "stream": "stdout",
       "text": [
        "\r",
        "Processing image: 425 MCD43A4_EVI/MCD43A4_005_2009_05_17 "
       ]
      },
      {
       "output_type": "stream",
       "stream": "stdout",
       "text": [
        "\r",
        "Processing image: 426 MCD43A4_EVI/MCD43A4_005_2009_05_25 "
       ]
      },
      {
       "output_type": "stream",
       "stream": "stdout",
       "text": [
        "\r",
        "Processing image: 427 MCD43A4_EVI/MCD43A4_005_2009_06_02 "
       ]
      },
      {
       "output_type": "stream",
       "stream": "stdout",
       "text": [
        "\r",
        "Processing image: 428 MCD43A4_EVI/MCD43A4_005_2009_06_10 "
       ]
      },
      {
       "output_type": "stream",
       "stream": "stdout",
       "text": [
        "\r",
        "Processing image: 429 MCD43A4_EVI/MCD43A4_005_2009_06_18 "
       ]
      },
      {
       "output_type": "stream",
       "stream": "stdout",
       "text": [
        "\r",
        "Processing image: 430 MCD43A4_EVI/MCD43A4_005_2009_06_26 "
       ]
      },
      {
       "output_type": "stream",
       "stream": "stdout",
       "text": [
        "\r",
        "Processing image: 431 MCD43A4_EVI/MCD43A4_005_2009_07_04 "
       ]
      },
      {
       "output_type": "stream",
       "stream": "stdout",
       "text": [
        "\r",
        "Processing image: 432 MCD43A4_EVI/MCD43A4_005_2009_07_12 "
       ]
      },
      {
       "output_type": "stream",
       "stream": "stdout",
       "text": [
        "\r",
        "Processing image: 433 MCD43A4_EVI/MCD43A4_005_2009_07_20 "
       ]
      },
      {
       "output_type": "stream",
       "stream": "stdout",
       "text": [
        "\r",
        "Processing image: 434 MCD43A4_EVI/MCD43A4_005_2009_07_28 "
       ]
      },
      {
       "output_type": "stream",
       "stream": "stdout",
       "text": [
        "\r",
        "Processing image: 435 MCD43A4_EVI/MCD43A4_005_2009_08_05 "
       ]
      },
      {
       "output_type": "stream",
       "stream": "stdout",
       "text": [
        "\r",
        "Processing image: 436 MCD43A4_EVI/MCD43A4_005_2009_08_13 "
       ]
      },
      {
       "output_type": "stream",
       "stream": "stdout",
       "text": [
        "\r",
        "Processing image: 437 MCD43A4_EVI/MCD43A4_005_2009_08_21 "
       ]
      },
      {
       "output_type": "stream",
       "stream": "stdout",
       "text": [
        "\r",
        "Processing image: 438 MCD43A4_EVI/MCD43A4_005_2009_08_29 "
       ]
      },
      {
       "output_type": "stream",
       "stream": "stdout",
       "text": [
        "\r",
        "Processing image: 439 MCD43A4_EVI/MCD43A4_005_2009_09_06 "
       ]
      },
      {
       "output_type": "stream",
       "stream": "stdout",
       "text": [
        "\r",
        "Processing image: 440 MCD43A4_EVI/MCD43A4_005_2009_09_14 "
       ]
      },
      {
       "output_type": "stream",
       "stream": "stdout",
       "text": [
        "\r",
        "Processing image: 441 MCD43A4_EVI/MCD43A4_005_2009_09_22 "
       ]
      },
      {
       "output_type": "stream",
       "stream": "stdout",
       "text": [
        "\r",
        "Processing image: 442 MCD43A4_EVI/MCD43A4_005_2009_09_30 "
       ]
      },
      {
       "output_type": "stream",
       "stream": "stdout",
       "text": [
        "\r",
        "Processing image: 443 MCD43A4_EVI/MCD43A4_005_2009_10_08 "
       ]
      },
      {
       "output_type": "stream",
       "stream": "stdout",
       "text": [
        "\r",
        "Processing image: 444 MCD43A4_EVI/MCD43A4_005_2009_10_16 "
       ]
      },
      {
       "output_type": "stream",
       "stream": "stdout",
       "text": [
        "\r",
        "Processing image: 445 MCD43A4_EVI/MCD43A4_005_2009_10_24 "
       ]
      },
      {
       "output_type": "stream",
       "stream": "stdout",
       "text": [
        "\r",
        "Processing image: 446 MCD43A4_EVI/MCD43A4_005_2009_11_01 "
       ]
      },
      {
       "output_type": "stream",
       "stream": "stdout",
       "text": [
        "\r",
        "Processing image: 447 MCD43A4_EVI/MCD43A4_005_2009_11_09 "
       ]
      },
      {
       "output_type": "stream",
       "stream": "stdout",
       "text": [
        "\r",
        "Processing image: 448 MCD43A4_EVI/MCD43A4_005_2009_11_17 "
       ]
      },
      {
       "output_type": "stream",
       "stream": "stdout",
       "text": [
        "\r",
        "Processing image: 449 MCD43A4_EVI/MCD43A4_005_2009_11_25 "
       ]
      },
      {
       "output_type": "stream",
       "stream": "stdout",
       "text": [
        "\r",
        "Processing image: 450 MCD43A4_EVI/MCD43A4_005_2009_12_03 "
       ]
      },
      {
       "output_type": "stream",
       "stream": "stdout",
       "text": [
        "\r",
        "Processing image: 451 MCD43A4_EVI/MCD43A4_005_2009_12_11 "
       ]
      },
      {
       "output_type": "stream",
       "stream": "stdout",
       "text": [
        "\r",
        "Processing image: 452 MCD43A4_EVI/MCD43A4_005_2009_12_19 "
       ]
      },
      {
       "output_type": "stream",
       "stream": "stdout",
       "text": [
        "\r",
        "Processing image: 453 MCD43A4_EVI/MCD43A4_005_2009_12_27 "
       ]
      },
      {
       "output_type": "stream",
       "stream": "stdout",
       "text": [
        "\r",
        "Processing image: 454 MCD43A4_EVI/MCD43A4_005_2010_01_01 "
       ]
      },
      {
       "output_type": "stream",
       "stream": "stdout",
       "text": [
        "\r",
        "Processing image: 455 MCD43A4_EVI/MCD43A4_005_2010_01_09 "
       ]
      },
      {
       "output_type": "stream",
       "stream": "stdout",
       "text": [
        "\r",
        "Processing image: 456 MCD43A4_EVI/MCD43A4_005_2010_01_17 "
       ]
      },
      {
       "output_type": "stream",
       "stream": "stdout",
       "text": [
        "\r",
        "Processing image: 457 MCD43A4_EVI/MCD43A4_005_2010_01_25 "
       ]
      },
      {
       "output_type": "stream",
       "stream": "stdout",
       "text": [
        "\r",
        "Processing image: 458 MCD43A4_EVI/MCD43A4_005_2010_02_02 "
       ]
      },
      {
       "output_type": "stream",
       "stream": "stdout",
       "text": [
        "\r",
        "Processing image: 459 MCD43A4_EVI/MCD43A4_005_2010_02_10 "
       ]
      },
      {
       "output_type": "stream",
       "stream": "stdout",
       "text": [
        "\r",
        "Processing image: 460 MCD43A4_EVI/MCD43A4_005_2010_02_18 "
       ]
      },
      {
       "output_type": "stream",
       "stream": "stdout",
       "text": [
        "\r",
        "Processing image: 461 MCD43A4_EVI/MCD43A4_005_2010_02_26 "
       ]
      },
      {
       "output_type": "stream",
       "stream": "stdout",
       "text": [
        "\r",
        "Processing image: 462 MCD43A4_EVI/MCD43A4_005_2010_03_06 "
       ]
      },
      {
       "output_type": "stream",
       "stream": "stdout",
       "text": [
        "\r",
        "Processing image: 463 MCD43A4_EVI/MCD43A4_005_2010_03_14 "
       ]
      },
      {
       "output_type": "stream",
       "stream": "stdout",
       "text": [
        "\r",
        "Processing image: 464 MCD43A4_EVI/MCD43A4_005_2010_03_22 "
       ]
      },
      {
       "output_type": "stream",
       "stream": "stdout",
       "text": [
        "\r",
        "Processing image: 465 MCD43A4_EVI/MCD43A4_005_2010_03_30 "
       ]
      },
      {
       "output_type": "stream",
       "stream": "stdout",
       "text": [
        "\r",
        "Processing image: 466 MCD43A4_EVI/MCD43A4_005_2010_04_07 "
       ]
      },
      {
       "output_type": "stream",
       "stream": "stdout",
       "text": [
        "\r",
        "Processing image: 467 MCD43A4_EVI/MCD43A4_005_2010_04_15 "
       ]
      },
      {
       "output_type": "stream",
       "stream": "stdout",
       "text": [
        "\r",
        "Processing image: 468 MCD43A4_EVI/MCD43A4_005_2010_04_23 "
       ]
      },
      {
       "output_type": "stream",
       "stream": "stdout",
       "text": [
        "\r",
        "Processing image: 469 MCD43A4_EVI/MCD43A4_005_2010_05_01 "
       ]
      },
      {
       "output_type": "stream",
       "stream": "stdout",
       "text": [
        "\r",
        "Processing image: 470 MCD43A4_EVI/MCD43A4_005_2010_05_09 "
       ]
      },
      {
       "output_type": "stream",
       "stream": "stdout",
       "text": [
        "\r",
        "Processing image: 471 MCD43A4_EVI/MCD43A4_005_2010_05_17 "
       ]
      },
      {
       "output_type": "stream",
       "stream": "stdout",
       "text": [
        "\r",
        "Processing image: 472 MCD43A4_EVI/MCD43A4_005_2010_05_25 "
       ]
      },
      {
       "output_type": "stream",
       "stream": "stdout",
       "text": [
        "\r",
        "Processing image: 473 MCD43A4_EVI/MCD43A4_005_2010_06_02 "
       ]
      },
      {
       "output_type": "stream",
       "stream": "stdout",
       "text": [
        "\r",
        "Processing image: 474 MCD43A4_EVI/MCD43A4_005_2010_06_10 "
       ]
      },
      {
       "output_type": "stream",
       "stream": "stdout",
       "text": [
        "\r",
        "Processing image: 475 MCD43A4_EVI/MCD43A4_005_2010_06_18 "
       ]
      },
      {
       "output_type": "stream",
       "stream": "stdout",
       "text": [
        "\r",
        "Processing image: 476 MCD43A4_EVI/MCD43A4_005_2010_06_26 "
       ]
      },
      {
       "output_type": "stream",
       "stream": "stdout",
       "text": [
        "\r",
        "Processing image: 477 MCD43A4_EVI/MCD43A4_005_2010_07_04 "
       ]
      },
      {
       "output_type": "stream",
       "stream": "stdout",
       "text": [
        "\r",
        "Processing image: 478 MCD43A4_EVI/MCD43A4_005_2010_07_12 "
       ]
      },
      {
       "output_type": "stream",
       "stream": "stdout",
       "text": [
        "\r",
        "Processing image: 479 MCD43A4_EVI/MCD43A4_005_2010_07_20 "
       ]
      },
      {
       "output_type": "stream",
       "stream": "stdout",
       "text": [
        "\r",
        "Processing image: 480 MCD43A4_EVI/MCD43A4_005_2010_07_28 "
       ]
      },
      {
       "output_type": "stream",
       "stream": "stdout",
       "text": [
        "\r",
        "Processing image: 481 MCD43A4_EVI/MCD43A4_005_2010_08_05 "
       ]
      },
      {
       "output_type": "stream",
       "stream": "stdout",
       "text": [
        "\r",
        "Processing image: 482 MCD43A4_EVI/MCD43A4_005_2010_08_13 "
       ]
      },
      {
       "output_type": "stream",
       "stream": "stdout",
       "text": [
        "\r",
        "Processing image: 483 MCD43A4_EVI/MCD43A4_005_2010_08_21 "
       ]
      },
      {
       "output_type": "stream",
       "stream": "stdout",
       "text": [
        "\r",
        "Processing image: 484 MCD43A4_EVI/MCD43A4_005_2010_08_29 "
       ]
      },
      {
       "output_type": "stream",
       "stream": "stdout",
       "text": [
        "\r",
        "Processing image: 485 MCD43A4_EVI/MCD43A4_005_2010_09_06 "
       ]
      },
      {
       "output_type": "stream",
       "stream": "stdout",
       "text": [
        "\r",
        "Processing image: 486 MCD43A4_EVI/MCD43A4_005_2010_09_14 "
       ]
      },
      {
       "output_type": "stream",
       "stream": "stdout",
       "text": [
        "\r",
        "Processing image: 487 MCD43A4_EVI/MCD43A4_005_2010_09_22 "
       ]
      },
      {
       "output_type": "stream",
       "stream": "stdout",
       "text": [
        "\r",
        "Processing image: 488 MCD43A4_EVI/MCD43A4_005_2010_09_30 "
       ]
      },
      {
       "output_type": "stream",
       "stream": "stdout",
       "text": [
        "\r",
        "Processing image: 489 MCD43A4_EVI/MCD43A4_005_2010_10_08 "
       ]
      },
      {
       "output_type": "stream",
       "stream": "stdout",
       "text": [
        "\r",
        "Processing image: 490 MCD43A4_EVI/MCD43A4_005_2010_10_16 "
       ]
      },
      {
       "output_type": "stream",
       "stream": "stdout",
       "text": [
        "\r",
        "Processing image: 491 MCD43A4_EVI/MCD43A4_005_2010_10_24 "
       ]
      },
      {
       "output_type": "stream",
       "stream": "stdout",
       "text": [
        "\r",
        "Processing image: 492 MCD43A4_EVI/MCD43A4_005_2010_11_01 "
       ]
      },
      {
       "output_type": "stream",
       "stream": "stdout",
       "text": [
        "\r",
        "Processing image: 493 MCD43A4_EVI/MCD43A4_005_2010_11_09 "
       ]
      },
      {
       "output_type": "stream",
       "stream": "stdout",
       "text": [
        "\r",
        "Processing image: 494 MCD43A4_EVI/MCD43A4_005_2010_11_17 "
       ]
      },
      {
       "output_type": "stream",
       "stream": "stdout",
       "text": [
        "\r",
        "Processing image: 495 MCD43A4_EVI/MCD43A4_005_2010_11_25 "
       ]
      },
      {
       "output_type": "stream",
       "stream": "stdout",
       "text": [
        "\r",
        "Processing image: 496 MCD43A4_EVI/MCD43A4_005_2010_12_03 "
       ]
      },
      {
       "output_type": "stream",
       "stream": "stdout",
       "text": [
        "\r",
        "Processing image: 497 MCD43A4_EVI/MCD43A4_005_2010_12_11 "
       ]
      },
      {
       "output_type": "stream",
       "stream": "stdout",
       "text": [
        "\r",
        "Processing image: 498 MCD43A4_EVI/MCD43A4_005_2010_12_19 "
       ]
      },
      {
       "output_type": "stream",
       "stream": "stdout",
       "text": [
        "\r",
        "Processing image: 499 MCD43A4_EVI/MCD43A4_005_2010_12_27 "
       ]
      },
      {
       "output_type": "stream",
       "stream": "stdout",
       "text": [
        "\r",
        "Processing image: 500 MCD43A4_EVI/MCD43A4_005_2011_01_01 "
       ]
      },
      {
       "output_type": "stream",
       "stream": "stdout",
       "text": [
        "\r",
        "Processing image: 501 MCD43A4_EVI/MCD43A4_005_2011_01_09 "
       ]
      },
      {
       "output_type": "stream",
       "stream": "stdout",
       "text": [
        "\r",
        "Processing image: 502 MCD43A4_EVI/MCD43A4_005_2011_01_17 "
       ]
      },
      {
       "output_type": "stream",
       "stream": "stdout",
       "text": [
        "\r",
        "Processing image: 503 MCD43A4_EVI/MCD43A4_005_2011_01_25 "
       ]
      },
      {
       "output_type": "stream",
       "stream": "stdout",
       "text": [
        "\r",
        "Processing image: 504 MCD43A4_EVI/MCD43A4_005_2011_02_02 "
       ]
      },
      {
       "output_type": "stream",
       "stream": "stdout",
       "text": [
        "\r",
        "Processing image: 505 MCD43A4_EVI/MCD43A4_005_2011_02_10 "
       ]
      },
      {
       "output_type": "stream",
       "stream": "stdout",
       "text": [
        "\r",
        "Processing image: 506 MCD43A4_EVI/MCD43A4_005_2011_02_18 "
       ]
      },
      {
       "output_type": "stream",
       "stream": "stdout",
       "text": [
        "\r",
        "Processing image: 507 MCD43A4_EVI/MCD43A4_005_2011_02_26 "
       ]
      },
      {
       "output_type": "stream",
       "stream": "stdout",
       "text": [
        "\r",
        "Processing image: 508 MCD43A4_EVI/MCD43A4_005_2011_03_06 "
       ]
      },
      {
       "output_type": "stream",
       "stream": "stdout",
       "text": [
        "\r",
        "Processing image: 509 MCD43A4_EVI/MCD43A4_005_2011_03_14 "
       ]
      },
      {
       "output_type": "stream",
       "stream": "stdout",
       "text": [
        "\r",
        "Processing image: 510 MCD43A4_EVI/MCD43A4_005_2011_03_22 "
       ]
      },
      {
       "output_type": "stream",
       "stream": "stdout",
       "text": [
        "\r",
        "Processing image: 511 MCD43A4_EVI/MCD43A4_005_2011_03_30 "
       ]
      },
      {
       "output_type": "stream",
       "stream": "stdout",
       "text": [
        "\r",
        "Processing image: 512 MCD43A4_EVI/MCD43A4_005_2011_04_07 "
       ]
      },
      {
       "output_type": "stream",
       "stream": "stdout",
       "text": [
        "\r",
        "Processing image: 513 MCD43A4_EVI/MCD43A4_005_2011_04_15 "
       ]
      },
      {
       "output_type": "stream",
       "stream": "stdout",
       "text": [
        "\r",
        "Processing image: 514 MCD43A4_EVI/MCD43A4_005_2011_04_23 "
       ]
      },
      {
       "output_type": "stream",
       "stream": "stdout",
       "text": [
        "\r",
        "Processing image: 515 MCD43A4_EVI/MCD43A4_005_2011_05_01 "
       ]
      },
      {
       "output_type": "stream",
       "stream": "stdout",
       "text": [
        "\r",
        "Processing image: 516 MCD43A4_EVI/MCD43A4_005_2011_05_09 "
       ]
      },
      {
       "output_type": "stream",
       "stream": "stdout",
       "text": [
        "\r",
        "Processing image: 517 MCD43A4_EVI/MCD43A4_005_2011_05_17 "
       ]
      },
      {
       "output_type": "stream",
       "stream": "stdout",
       "text": [
        "\r",
        "Processing image: 518 MCD43A4_EVI/MCD43A4_005_2011_05_25 "
       ]
      },
      {
       "output_type": "stream",
       "stream": "stdout",
       "text": [
        "\r",
        "Processing image: 519 MCD43A4_EVI/MCD43A4_005_2011_06_02 "
       ]
      },
      {
       "output_type": "stream",
       "stream": "stdout",
       "text": [
        "\r",
        "Processing image: 520 MCD43A4_EVI/MCD43A4_005_2011_06_10 "
       ]
      },
      {
       "output_type": "stream",
       "stream": "stdout",
       "text": [
        "\r",
        "Processing image: 521 MCD43A4_EVI/MCD43A4_005_2011_06_18 "
       ]
      },
      {
       "output_type": "stream",
       "stream": "stdout",
       "text": [
        "\r",
        "Processing image: 522 MCD43A4_EVI/MCD43A4_005_2011_06_26 "
       ]
      },
      {
       "output_type": "stream",
       "stream": "stdout",
       "text": [
        "\r",
        "Processing image: 523 MCD43A4_EVI/MCD43A4_005_2011_07_04 "
       ]
      },
      {
       "output_type": "stream",
       "stream": "stdout",
       "text": [
        "\r",
        "Processing image: 524 MCD43A4_EVI/MCD43A4_005_2011_07_12 "
       ]
      },
      {
       "output_type": "stream",
       "stream": "stdout",
       "text": [
        "\r",
        "Processing image: 525 MCD43A4_EVI/MCD43A4_005_2011_07_20 "
       ]
      },
      {
       "output_type": "stream",
       "stream": "stdout",
       "text": [
        "\r",
        "Processing image: 526 MCD43A4_EVI/MCD43A4_005_2011_07_28 "
       ]
      },
      {
       "output_type": "stream",
       "stream": "stdout",
       "text": [
        "\r",
        "Processing image: 527 MCD43A4_EVI/MCD43A4_005_2011_08_05 "
       ]
      },
      {
       "output_type": "stream",
       "stream": "stdout",
       "text": [
        "\r",
        "Processing image: 528 MCD43A4_EVI/MCD43A4_005_2011_08_13 "
       ]
      },
      {
       "output_type": "stream",
       "stream": "stdout",
       "text": [
        "\r",
        "Processing image: 529 MCD43A4_EVI/MCD43A4_005_2011_08_21 "
       ]
      },
      {
       "output_type": "stream",
       "stream": "stdout",
       "text": [
        "\r",
        "Processing image: 530 MCD43A4_EVI/MCD43A4_005_2011_08_29 "
       ]
      },
      {
       "output_type": "stream",
       "stream": "stdout",
       "text": [
        "\r",
        "Processing image: 531 MCD43A4_EVI/MCD43A4_005_2011_09_06 "
       ]
      },
      {
       "output_type": "stream",
       "stream": "stdout",
       "text": [
        "\r",
        "Processing image: 532 MCD43A4_EVI/MCD43A4_005_2011_09_14 "
       ]
      },
      {
       "output_type": "stream",
       "stream": "stdout",
       "text": [
        "\r",
        "Processing image: 533 MCD43A4_EVI/MCD43A4_005_2011_09_22 "
       ]
      },
      {
       "output_type": "stream",
       "stream": "stdout",
       "text": [
        "\r",
        "Processing image: 534 MCD43A4_EVI/MCD43A4_005_2011_09_30 "
       ]
      },
      {
       "output_type": "stream",
       "stream": "stdout",
       "text": [
        "\r",
        "Processing image: 535 MCD43A4_EVI/MCD43A4_005_2011_10_08 "
       ]
      },
      {
       "output_type": "stream",
       "stream": "stdout",
       "text": [
        "\r",
        "Processing image: 536 MCD43A4_EVI/MCD43A4_005_2011_10_16 "
       ]
      },
      {
       "output_type": "stream",
       "stream": "stdout",
       "text": [
        "\r",
        "Processing image: 537 MCD43A4_EVI/MCD43A4_005_2011_10_24 "
       ]
      },
      {
       "output_type": "stream",
       "stream": "stdout",
       "text": [
        "\r",
        "Processing image: 538 MCD43A4_EVI/MCD43A4_005_2011_11_01 "
       ]
      },
      {
       "output_type": "stream",
       "stream": "stdout",
       "text": [
        "\r",
        "Processing image: 539 MCD43A4_EVI/MCD43A4_005_2011_11_09 "
       ]
      },
      {
       "output_type": "stream",
       "stream": "stdout",
       "text": [
        "\r",
        "Processing image: 540 MCD43A4_EVI/MCD43A4_005_2011_11_17 "
       ]
      },
      {
       "output_type": "stream",
       "stream": "stdout",
       "text": [
        "\r",
        "Processing image: 541 MCD43A4_EVI/MCD43A4_005_2011_11_25 "
       ]
      },
      {
       "output_type": "stream",
       "stream": "stdout",
       "text": [
        "\r",
        "Processing image: 542 MCD43A4_EVI/MCD43A4_005_2011_12_03 "
       ]
      },
      {
       "output_type": "stream",
       "stream": "stdout",
       "text": [
        "\r",
        "Processing image: 543 MCD43A4_EVI/MCD43A4_005_2011_12_11 "
       ]
      },
      {
       "output_type": "stream",
       "stream": "stdout",
       "text": [
        "\r",
        "Processing image: 544 MCD43A4_EVI/MCD43A4_005_2011_12_19 "
       ]
      },
      {
       "output_type": "stream",
       "stream": "stdout",
       "text": [
        "\r",
        "Processing image: 545 MCD43A4_EVI/MCD43A4_005_2011_12_27 "
       ]
      },
      {
       "output_type": "stream",
       "stream": "stdout",
       "text": [
        "\r",
        "Processing image: 546 MCD43A4_EVI/MCD43A4_005_2012_01_01 "
       ]
      },
      {
       "output_type": "stream",
       "stream": "stdout",
       "text": [
        "\r",
        "Processing image: 547 MCD43A4_EVI/MCD43A4_005_2012_01_09 "
       ]
      },
      {
       "output_type": "stream",
       "stream": "stdout",
       "text": [
        "\r",
        "Processing image: 548 MCD43A4_EVI/MCD43A4_005_2012_01_17 "
       ]
      },
      {
       "output_type": "stream",
       "stream": "stdout",
       "text": [
        "\r",
        "Processing image: 549 MCD43A4_EVI/MCD43A4_005_2012_01_25 "
       ]
      },
      {
       "output_type": "stream",
       "stream": "stdout",
       "text": [
        "\r",
        "Processing image: 550 MCD43A4_EVI/MCD43A4_005_2012_02_02 "
       ]
      },
      {
       "output_type": "stream",
       "stream": "stdout",
       "text": [
        "\r",
        "Processing image: 551 MCD43A4_EVI/MCD43A4_005_2012_02_10 "
       ]
      },
      {
       "output_type": "stream",
       "stream": "stdout",
       "text": [
        "\r",
        "Processing image: 552 MCD43A4_EVI/MCD43A4_005_2012_02_18 "
       ]
      },
      {
       "output_type": "stream",
       "stream": "stdout",
       "text": [
        "\r",
        "Processing image: 553 MCD43A4_EVI/MCD43A4_005_2012_02_26 "
       ]
      },
      {
       "output_type": "stream",
       "stream": "stdout",
       "text": [
        "\r",
        "Processing image: 554 MCD43A4_EVI/MCD43A4_005_2012_03_05 "
       ]
      },
      {
       "output_type": "stream",
       "stream": "stdout",
       "text": [
        "\r",
        "Processing image: 555 MCD43A4_EVI/MCD43A4_005_2012_03_13 "
       ]
      },
      {
       "output_type": "stream",
       "stream": "stdout",
       "text": [
        "\r",
        "Processing image: 556 MCD43A4_EVI/MCD43A4_005_2012_03_21 "
       ]
      },
      {
       "output_type": "stream",
       "stream": "stdout",
       "text": [
        "\r",
        "Processing image: 557 MCD43A4_EVI/MCD43A4_005_2012_03_29 "
       ]
      },
      {
       "output_type": "stream",
       "stream": "stdout",
       "text": [
        "\r",
        "Processing image: 558 MCD43A4_EVI/MCD43A4_005_2012_04_06 "
       ]
      },
      {
       "output_type": "stream",
       "stream": "stdout",
       "text": [
        "\r",
        "Processing image: 559 MCD43A4_EVI/MCD43A4_005_2012_04_14 "
       ]
      },
      {
       "output_type": "stream",
       "stream": "stdout",
       "text": [
        "\r",
        "Processing image: 560 MCD43A4_EVI/MCD43A4_005_2012_04_22 "
       ]
      },
      {
       "output_type": "stream",
       "stream": "stdout",
       "text": [
        "\r",
        "Processing image: 561 MCD43A4_EVI/MCD43A4_005_2012_04_30 "
       ]
      },
      {
       "output_type": "stream",
       "stream": "stdout",
       "text": [
        "\r",
        "Processing image: 562 MCD43A4_EVI/MCD43A4_005_2012_05_08 "
       ]
      },
      {
       "output_type": "stream",
       "stream": "stdout",
       "text": [
        "\r",
        "Processing image: 563 MCD43A4_EVI/MCD43A4_005_2012_05_16 "
       ]
      },
      {
       "output_type": "stream",
       "stream": "stdout",
       "text": [
        "\r",
        "Processing image: 564 MCD43A4_EVI/MCD43A4_005_2012_05_24 "
       ]
      },
      {
       "output_type": "stream",
       "stream": "stdout",
       "text": [
        "\r",
        "Processing image: 565 MCD43A4_EVI/MCD43A4_005_2012_06_01 "
       ]
      },
      {
       "output_type": "stream",
       "stream": "stdout",
       "text": [
        "\r",
        "Processing image: 566 MCD43A4_EVI/MCD43A4_005_2012_06_09 "
       ]
      },
      {
       "output_type": "stream",
       "stream": "stdout",
       "text": [
        "\r",
        "Processing image: 567 MCD43A4_EVI/MCD43A4_005_2012_06_17 "
       ]
      },
      {
       "output_type": "stream",
       "stream": "stdout",
       "text": [
        "\r",
        "Processing image: 568 MCD43A4_EVI/MCD43A4_005_2012_06_25 "
       ]
      },
      {
       "output_type": "stream",
       "stream": "stdout",
       "text": [
        "\r",
        "Processing image: 569 MCD43A4_EVI/MCD43A4_005_2012_07_03 "
       ]
      },
      {
       "output_type": "stream",
       "stream": "stdout",
       "text": [
        "\r",
        "Processing image: 570 MCD43A4_EVI/MCD43A4_005_2012_07_11 "
       ]
      },
      {
       "output_type": "stream",
       "stream": "stdout",
       "text": [
        "\r",
        "Processing image: 571 MCD43A4_EVI/MCD43A4_005_2012_07_19 "
       ]
      },
      {
       "output_type": "stream",
       "stream": "stdout",
       "text": [
        "\r",
        "Processing image: 572 MCD43A4_EVI/MCD43A4_005_2012_07_27 "
       ]
      },
      {
       "output_type": "stream",
       "stream": "stdout",
       "text": [
        "\r",
        "Processing image: 573 MCD43A4_EVI/MCD43A4_005_2012_08_04 "
       ]
      },
      {
       "output_type": "stream",
       "stream": "stdout",
       "text": [
        "\r",
        "Processing image: 574 MCD43A4_EVI/MCD43A4_005_2012_08_12 "
       ]
      },
      {
       "output_type": "stream",
       "stream": "stdout",
       "text": [
        "\r",
        "Processing image: 575 MCD43A4_EVI/MCD43A4_005_2012_08_20 "
       ]
      },
      {
       "output_type": "stream",
       "stream": "stdout",
       "text": [
        "\r",
        "Processing image: 576 MCD43A4_EVI/MCD43A4_005_2012_08_28 "
       ]
      },
      {
       "output_type": "stream",
       "stream": "stdout",
       "text": [
        "\r",
        "Processing image: 577 MCD43A4_EVI/MCD43A4_005_2012_09_05 "
       ]
      },
      {
       "output_type": "stream",
       "stream": "stdout",
       "text": [
        "\r",
        "Processing image: 578 MCD43A4_EVI/MCD43A4_005_2012_09_13 "
       ]
      },
      {
       "output_type": "stream",
       "stream": "stdout",
       "text": [
        "\r",
        "Processing image: 579 MCD43A4_EVI/MCD43A4_005_2012_09_21 "
       ]
      },
      {
       "output_type": "stream",
       "stream": "stdout",
       "text": [
        "\r",
        "Processing image: 580 MCD43A4_EVI/MCD43A4_005_2012_09_29 "
       ]
      },
      {
       "output_type": "stream",
       "stream": "stdout",
       "text": [
        "\r",
        "Processing image: 581 MCD43A4_EVI/MCD43A4_005_2012_10_07 "
       ]
      },
      {
       "output_type": "stream",
       "stream": "stdout",
       "text": [
        "\r",
        "Processing image: 582 MCD43A4_EVI/MCD43A4_005_2012_10_15 "
       ]
      },
      {
       "output_type": "stream",
       "stream": "stdout",
       "text": [
        "\r",
        "Processing image: 583 MCD43A4_EVI/MCD43A4_005_2012_10_23 "
       ]
      },
      {
       "output_type": "stream",
       "stream": "stdout",
       "text": [
        "\r",
        "Processing image: 584 MCD43A4_EVI/MCD43A4_005_2012_10_31 "
       ]
      },
      {
       "output_type": "stream",
       "stream": "stdout",
       "text": [
        "\r",
        "Processing image: 585 MCD43A4_EVI/MCD43A4_005_2012_11_08 "
       ]
      },
      {
       "output_type": "stream",
       "stream": "stdout",
       "text": [
        "\r",
        "Processing image: 586 MCD43A4_EVI/MCD43A4_005_2012_11_16 "
       ]
      },
      {
       "output_type": "stream",
       "stream": "stdout",
       "text": [
        "\r",
        "Processing image: 587 MCD43A4_EVI/MCD43A4_005_2012_11_24 "
       ]
      },
      {
       "output_type": "stream",
       "stream": "stdout",
       "text": [
        "\r",
        "Processing image: 588 MCD43A4_EVI/MCD43A4_005_2012_12_02 "
       ]
      },
      {
       "output_type": "stream",
       "stream": "stdout",
       "text": [
        "\r",
        "Processing image: 589 MCD43A4_EVI/MCD43A4_005_2012_12_10 "
       ]
      },
      {
       "output_type": "stream",
       "stream": "stdout",
       "text": [
        "\r",
        "Processing image: 590 MCD43A4_EVI/MCD43A4_005_2012_12_18 "
       ]
      },
      {
       "output_type": "stream",
       "stream": "stdout",
       "text": [
        "\r",
        "Processing image: 591 MCD43A4_EVI/MCD43A4_005_2012_12_26 "
       ]
      },
      {
       "output_type": "stream",
       "stream": "stdout",
       "text": [
        "\r",
        "Processing image: 592 MCD43A4_EVI/MCD43A4_005_2013_01_01 "
       ]
      },
      {
       "output_type": "stream",
       "stream": "stdout",
       "text": [
        "\r",
        "Processing image: 593 MCD43A4_EVI/MCD43A4_005_2013_01_09 "
       ]
      },
      {
       "output_type": "stream",
       "stream": "stdout",
       "text": [
        "\r",
        "Processing image: 594 MCD43A4_EVI/MCD43A4_005_2013_01_17 "
       ]
      },
      {
       "output_type": "stream",
       "stream": "stdout",
       "text": [
        "\r",
        "Processing image: 595 MCD43A4_EVI/MCD43A4_005_2013_01_25 "
       ]
      },
      {
       "output_type": "stream",
       "stream": "stdout",
       "text": [
        "\r",
        "Processing image: 596 MCD43A4_EVI/MCD43A4_005_2013_02_02 "
       ]
      },
      {
       "output_type": "stream",
       "stream": "stdout",
       "text": [
        "\r",
        "Processing image: 597 MCD43A4_EVI/MCD43A4_005_2013_02_10 "
       ]
      },
      {
       "output_type": "stream",
       "stream": "stdout",
       "text": [
        "\r",
        "Processing image: 598 MCD43A4_EVI/MCD43A4_005_2013_02_18 "
       ]
      },
      {
       "output_type": "stream",
       "stream": "stdout",
       "text": [
        "\r",
        "Processing image: 599 MCD43A4_EVI/MCD43A4_005_2013_02_26 "
       ]
      },
      {
       "output_type": "stream",
       "stream": "stdout",
       "text": [
        "\r",
        "Processing image: 600 MCD43A4_EVI/MCD43A4_005_2013_03_06 "
       ]
      },
      {
       "output_type": "stream",
       "stream": "stdout",
       "text": [
        "\r",
        "Processing image: 601 MCD43A4_EVI/MCD43A4_005_2013_03_14 "
       ]
      },
      {
       "output_type": "stream",
       "stream": "stdout",
       "text": [
        "\r",
        "Processing image: 602 MCD43A4_EVI/MCD43A4_005_2013_03_22 "
       ]
      },
      {
       "output_type": "stream",
       "stream": "stdout",
       "text": [
        "\r",
        "Processing image: 603 MCD43A4_EVI/MCD43A4_005_2013_03_30 "
       ]
      },
      {
       "output_type": "stream",
       "stream": "stdout",
       "text": [
        "\r",
        "Processing image: 604 MCD43A4_EVI/MCD43A4_005_2013_04_07 "
       ]
      },
      {
       "output_type": "stream",
       "stream": "stdout",
       "text": [
        "\r",
        "Processing image: 605 MCD43A4_EVI/MCD43A4_005_2013_04_15 "
       ]
      },
      {
       "output_type": "stream",
       "stream": "stdout",
       "text": [
        "\r",
        "Processing image: 606 MCD43A4_EVI/MCD43A4_005_2013_04_23 "
       ]
      },
      {
       "output_type": "stream",
       "stream": "stdout",
       "text": [
        "\r",
        "Processing image: 607 MCD43A4_EVI/MCD43A4_005_2013_05_01 "
       ]
      },
      {
       "output_type": "stream",
       "stream": "stdout",
       "text": [
        "\r",
        "Processing image: 608 MCD43A4_EVI/MCD43A4_005_2013_05_09 "
       ]
      },
      {
       "output_type": "stream",
       "stream": "stdout",
       "text": [
        "\r",
        "Processing image: 609 MCD43A4_EVI/MCD43A4_005_2013_05_17 "
       ]
      },
      {
       "output_type": "stream",
       "stream": "stdout",
       "text": [
        "\r",
        "Processing image: 610 MCD43A4_EVI/MCD43A4_005_2013_05_25 "
       ]
      },
      {
       "output_type": "stream",
       "stream": "stdout",
       "text": [
        "\r",
        "Processing image: 611 MCD43A4_EVI/MCD43A4_005_2013_06_02 "
       ]
      },
      {
       "output_type": "stream",
       "stream": "stdout",
       "text": [
        "\r",
        "Processing image: 612 MCD43A4_EVI/MCD43A4_005_2013_06_10 "
       ]
      },
      {
       "output_type": "stream",
       "stream": "stdout",
       "text": [
        "\r",
        "Processing image: 613 MCD43A4_EVI/MCD43A4_005_2013_06_18 "
       ]
      },
      {
       "output_type": "stream",
       "stream": "stdout",
       "text": [
        "\r",
        "Processing image: 614 MCD43A4_EVI/MCD43A4_005_2013_06_26 "
       ]
      },
      {
       "output_type": "stream",
       "stream": "stdout",
       "text": [
        "\r",
        "Processing image: 615 MCD43A4_EVI/MCD43A4_005_2013_07_04 "
       ]
      },
      {
       "output_type": "stream",
       "stream": "stdout",
       "text": [
        "\r",
        "Processing image: 616 MCD43A4_EVI/MCD43A4_005_2013_07_12 "
       ]
      },
      {
       "output_type": "stream",
       "stream": "stdout",
       "text": [
        "\r",
        "Processing image: 617 MCD43A4_EVI/MCD43A4_005_2013_07_20 "
       ]
      },
      {
       "output_type": "stream",
       "stream": "stdout",
       "text": [
        "\r",
        "Processing image: 618 MCD43A4_EVI/MCD43A4_005_2013_07_28 "
       ]
      },
      {
       "output_type": "stream",
       "stream": "stdout",
       "text": [
        "\r",
        "Processing image: 619 MCD43A4_EVI/MCD43A4_005_2013_08_05 "
       ]
      },
      {
       "output_type": "stream",
       "stream": "stdout",
       "text": [
        "\r",
        "Processing image: 620 MCD43A4_EVI/MCD43A4_005_2013_08_13 "
       ]
      },
      {
       "output_type": "stream",
       "stream": "stdout",
       "text": [
        "\r",
        "Processing image: 621 MCD43A4_EVI/MCD43A4_005_2013_08_21 "
       ]
      },
      {
       "output_type": "stream",
       "stream": "stdout",
       "text": [
        "\r",
        "Processing image: 622 MCD43A4_EVI/MCD43A4_005_2013_08_29 "
       ]
      },
      {
       "output_type": "stream",
       "stream": "stdout",
       "text": [
        "\r",
        "Processing image: 623 MCD43A4_EVI/MCD43A4_005_2013_09_06 "
       ]
      },
      {
       "output_type": "stream",
       "stream": "stdout",
       "text": [
        "\r",
        "Processing image: 624 MCD43A4_EVI/MCD43A4_005_2013_09_14 "
       ]
      },
      {
       "output_type": "stream",
       "stream": "stdout",
       "text": [
        "\r",
        "Processing image: 625 MCD43A4_EVI/MCD43A4_005_2013_09_22 "
       ]
      },
      {
       "output_type": "stream",
       "stream": "stdout",
       "text": [
        "\r",
        "Processing image: 626 MCD43A4_EVI/MCD43A4_005_2013_09_30 "
       ]
      },
      {
       "output_type": "stream",
       "stream": "stdout",
       "text": [
        "\r",
        "Processing image: 627 MCD43A4_EVI/MCD43A4_005_2013_10_08 "
       ]
      },
      {
       "output_type": "stream",
       "stream": "stdout",
       "text": [
        "\r",
        "Processing image: 628 MCD43A4_EVI/MCD43A4_005_2013_10_16 "
       ]
      },
      {
       "output_type": "stream",
       "stream": "stdout",
       "text": [
        "\r",
        "Processing image: 629 MCD43A4_EVI/MCD43A4_005_2013_10_24 "
       ]
      },
      {
       "output_type": "stream",
       "stream": "stdout",
       "text": [
        "\r",
        "Processing image: 630 MCD43A4_EVI/MCD43A4_005_2013_11_01 "
       ]
      },
      {
       "output_type": "stream",
       "stream": "stdout",
       "text": [
        "\r",
        "Processing image: 631 MCD43A4_EVI/MCD43A4_005_2013_11_09 "
       ]
      },
      {
       "output_type": "stream",
       "stream": "stdout",
       "text": [
        "\r",
        "Processing image: 632 MCD43A4_EVI/MCD43A4_005_2013_11_17 "
       ]
      },
      {
       "output_type": "stream",
       "stream": "stdout",
       "text": [
        "\r",
        "Processing image: 633 MCD43A4_EVI/MCD43A4_005_2013_11_25 "
       ]
      },
      {
       "output_type": "stream",
       "stream": "stdout",
       "text": [
        "\r",
        "Processing image: 634 MCD43A4_EVI/MCD43A4_005_2013_12_03 "
       ]
      },
      {
       "output_type": "stream",
       "stream": "stdout",
       "text": [
        "\r",
        "Processing image: 635 MCD43A4_EVI/MCD43A4_005_2013_12_11 "
       ]
      },
      {
       "output_type": "stream",
       "stream": "stdout",
       "text": [
        "\r",
        "Processing image: 636 MCD43A4_EVI/MCD43A4_005_2013_12_19 "
       ]
      },
      {
       "output_type": "stream",
       "stream": "stdout",
       "text": [
        "\r",
        "Processing image: 637 MCD43A4_EVI/MCD43A4_005_2013_12_27 "
       ]
      },
      {
       "output_type": "stream",
       "stream": "stdout",
       "text": [
        "\n",
        " Finished\n"
       ]
      }
     ],
     "prompt_number": 22
    },
    {
     "cell_type": "code",
     "collapsed": false,
     "input": [
      "# Break the list of file names into a list of string arrays, and use them to make datetime indexes\n",
      "str_tmp = [str.split(str(n),'_')[3:6] for n in Im_fnm]\n",
      "\n",
      "if((Im_fnm[0][0:3] == 'LT5') | (Im_fnm[0][0:3] == 'LE7')):  # Check if this is Landsat or Modis\n",
      "    print '\\n','Creating date objects from names of LandSat files'\n",
      "    dt_list = [datetime.datetime(int(n[0][4:8]),int(n[0][8:10]),\n",
      "                                 int(n[0][10:12])).date() for n in str_tmp]\n",
      "\n",
      "if(Im_fnm[0][0:7] == 'MCD43A4'):\n",
      "    print '\\n','Creating date objects from names of MODIS files'\n",
      "    dt_list = [datetime.datetime(int(n[0]),int(n[1]),int(n[2])).date() \n",
      "           for n in str_tmp]"
     ],
     "language": "python",
     "metadata": {},
     "outputs": [
      {
       "output_type": "stream",
       "stream": "stdout",
       "text": [
        "\n",
        "Creating date objects from names of MODIS files\n"
       ]
      }
     ],
     "prompt_number": 23
    },
    {
     "cell_type": "heading",
     "level": 3,
     "metadata": {},
     "source": [
      "4. Convert the data to a Pandas DF object: display, plot, and export data as csv"
     ]
    },
    {
     "cell_type": "code",
     "collapsed": false,
     "input": [
      "import pandas as pd"
     ],
     "language": "python",
     "metadata": {},
     "outputs": [],
     "prompt_number": 10
    },
    {
     "cell_type": "code",
     "collapsed": false,
     "input": [
      "d = {'GT_mean': GT_mn,'GT_std':GT_std,'GT_cnt':GT_cnt,\n",
      "     'FT_mean': FT_mn,'FT_std':FT_std,'FT_cnt':FT_cnt}\n",
      "df = pd.DataFrame(data=d, index=dt_list)  # Use the Pandas dataframe object"
     ],
     "language": "python",
     "metadata": {},
     "outputs": [],
     "prompt_number": 24
    },
    {
     "cell_type": "code",
     "collapsed": false,
     "input": [
      "df   # Show the Pandas Dataframe object"
     ],
     "language": "python",
     "metadata": {},
     "outputs": [
      {
       "html": [
        "<div style=\"max-height:1000px;max-width:1500px;overflow:auto;\">\n",
        "<table border=\"1\" class=\"dataframe\">\n",
        "  <thead>\n",
        "    <tr style=\"text-align: right;\">\n",
        "      <th></th>\n",
        "      <th>FT_cnt</th>\n",
        "      <th>FT_mean</th>\n",
        "      <th>FT_std</th>\n",
        "      <th>GT_cnt</th>\n",
        "      <th>GT_mean</th>\n",
        "      <th>GT_std</th>\n",
        "    </tr>\n",
        "  </thead>\n",
        "  <tbody>\n",
        "    <tr>\n",
        "      <th>2004-12-18</th>\n",
        "      <td> 75689</td>\n",
        "      <td> 0.500617</td>\n",
        "      <td> 0.146065</td>\n",
        "      <td> 1878968</td>\n",
        "      <td> 0.459144</td>\n",
        "      <td> 0.123077</td>\n",
        "    </tr>\n",
        "    <tr>\n",
        "      <th>2004-12-26</th>\n",
        "      <td> 93383</td>\n",
        "      <td> 0.513145</td>\n",
        "      <td> 0.138133</td>\n",
        "      <td> 2300543</td>\n",
        "      <td> 0.466563</td>\n",
        "      <td> 0.116737</td>\n",
        "    </tr>\n",
        "    <tr>\n",
        "      <th>2005-01-01</th>\n",
        "      <td> 92113</td>\n",
        "      <td> 0.511043</td>\n",
        "      <td> 0.138041</td>\n",
        "      <td> 2174534</td>\n",
        "      <td> 0.467370</td>\n",
        "      <td> 0.119086</td>\n",
        "    </tr>\n",
        "    <tr>\n",
        "      <th>2005-01-09</th>\n",
        "      <td> 92416</td>\n",
        "      <td> 0.502529</td>\n",
        "      <td> 0.142996</td>\n",
        "      <td> 2283634</td>\n",
        "      <td> 0.461118</td>\n",
        "      <td> 0.127784</td>\n",
        "    </tr>\n",
        "    <tr>\n",
        "      <th>2005-01-17</th>\n",
        "      <td> 82351</td>\n",
        "      <td> 0.487834</td>\n",
        "      <td> 0.144205</td>\n",
        "      <td> 1970237</td>\n",
        "      <td> 0.449213</td>\n",
        "      <td> 0.130297</td>\n",
        "    </tr>\n",
        "    <tr>\n",
        "      <th>2005-01-25</th>\n",
        "      <td> 58418</td>\n",
        "      <td> 0.471109</td>\n",
        "      <td> 0.151640</td>\n",
        "      <td> 1418038</td>\n",
        "      <td> 0.454014</td>\n",
        "      <td> 0.139881</td>\n",
        "    </tr>\n",
        "    <tr>\n",
        "      <th>2005-02-02</th>\n",
        "      <td> 87674</td>\n",
        "      <td> 0.509631</td>\n",
        "      <td> 0.149190</td>\n",
        "      <td> 2214368</td>\n",
        "      <td> 0.478901</td>\n",
        "      <td> 0.133480</td>\n",
        "    </tr>\n",
        "    <tr>\n",
        "      <th>2005-02-10</th>\n",
        "      <td> 92198</td>\n",
        "      <td> 0.503242</td>\n",
        "      <td> 0.155555</td>\n",
        "      <td> 2254224</td>\n",
        "      <td> 0.461342</td>\n",
        "      <td> 0.144169</td>\n",
        "    </tr>\n",
        "    <tr>\n",
        "      <th>2005-02-18</th>\n",
        "      <td> 76702</td>\n",
        "      <td> 0.473243</td>\n",
        "      <td> 0.157447</td>\n",
        "      <td> 1646908</td>\n",
        "      <td> 0.425087</td>\n",
        "      <td> 0.150853</td>\n",
        "    </tr>\n",
        "    <tr>\n",
        "      <th>2005-02-26</th>\n",
        "      <td> 72137</td>\n",
        "      <td> 0.474348</td>\n",
        "      <td> 0.168217</td>\n",
        "      <td> 1741945</td>\n",
        "      <td> 0.458681</td>\n",
        "      <td> 0.159403</td>\n",
        "    </tr>\n",
        "    <tr>\n",
        "      <th>2005-03-06</th>\n",
        "      <td> 86223</td>\n",
        "      <td> 0.493559</td>\n",
        "      <td> 0.166811</td>\n",
        "      <td> 2151588</td>\n",
        "      <td> 0.468559</td>\n",
        "      <td> 0.154324</td>\n",
        "    </tr>\n",
        "    <tr>\n",
        "      <th>2005-03-14</th>\n",
        "      <td> 62869</td>\n",
        "      <td> 0.500656</td>\n",
        "      <td> 0.156855</td>\n",
        "      <td> 1920466</td>\n",
        "      <td> 0.487291</td>\n",
        "      <td> 0.136172</td>\n",
        "    </tr>\n",
        "    <tr>\n",
        "      <th>2005-03-22</th>\n",
        "      <td> 79414</td>\n",
        "      <td> 0.506292</td>\n",
        "      <td> 0.140102</td>\n",
        "      <td> 2227778</td>\n",
        "      <td> 0.486254</td>\n",
        "      <td> 0.119396</td>\n",
        "    </tr>\n",
        "    <tr>\n",
        "      <th>2005-03-30</th>\n",
        "      <td> 77637</td>\n",
        "      <td> 0.524336</td>\n",
        "      <td> 0.138543</td>\n",
        "      <td> 2225588</td>\n",
        "      <td> 0.491872</td>\n",
        "      <td> 0.108873</td>\n",
        "    </tr>\n",
        "    <tr>\n",
        "      <th>2005-04-07</th>\n",
        "      <td> 61385</td>\n",
        "      <td> 0.542203</td>\n",
        "      <td> 0.132406</td>\n",
        "      <td> 1935428</td>\n",
        "      <td> 0.505167</td>\n",
        "      <td> 0.097331</td>\n",
        "    </tr>\n",
        "    <tr>\n",
        "      <th>2005-04-15</th>\n",
        "      <td> 74402</td>\n",
        "      <td> 0.530115</td>\n",
        "      <td> 0.120988</td>\n",
        "      <td> 2196401</td>\n",
        "      <td> 0.490533</td>\n",
        "      <td> 0.091169</td>\n",
        "    </tr>\n",
        "    <tr>\n",
        "      <th>2005-04-23</th>\n",
        "      <td> 73883</td>\n",
        "      <td> 0.529739</td>\n",
        "      <td> 0.120046</td>\n",
        "      <td> 2222920</td>\n",
        "      <td> 0.476599</td>\n",
        "      <td> 0.090918</td>\n",
        "    </tr>\n",
        "    <tr>\n",
        "      <th>2005-05-01</th>\n",
        "      <td> 79128</td>\n",
        "      <td> 0.518214</td>\n",
        "      <td> 0.125003</td>\n",
        "      <td> 2285046</td>\n",
        "      <td> 0.453937</td>\n",
        "      <td> 0.098928</td>\n",
        "    </tr>\n",
        "    <tr>\n",
        "      <th>2005-05-09</th>\n",
        "      <td> 77716</td>\n",
        "      <td> 0.507256</td>\n",
        "      <td> 0.129116</td>\n",
        "      <td> 2265243</td>\n",
        "      <td> 0.440584</td>\n",
        "      <td> 0.103435</td>\n",
        "    </tr>\n",
        "    <tr>\n",
        "      <th>2005-05-17</th>\n",
        "      <td> 64523</td>\n",
        "      <td> 0.507452</td>\n",
        "      <td> 0.130774</td>\n",
        "      <td> 2082313</td>\n",
        "      <td> 0.428292</td>\n",
        "      <td> 0.104386</td>\n",
        "    </tr>\n",
        "    <tr>\n",
        "      <th>2005-05-25</th>\n",
        "      <td> 70120</td>\n",
        "      <td> 0.503282</td>\n",
        "      <td> 0.127023</td>\n",
        "      <td> 2163995</td>\n",
        "      <td> 0.419647</td>\n",
        "      <td> 0.105442</td>\n",
        "    </tr>\n",
        "    <tr>\n",
        "      <th>2005-06-02</th>\n",
        "      <td> 79612</td>\n",
        "      <td> 0.482917</td>\n",
        "      <td> 0.129930</td>\n",
        "      <td> 2290524</td>\n",
        "      <td> 0.396187</td>\n",
        "      <td> 0.107978</td>\n",
        "    </tr>\n",
        "    <tr>\n",
        "      <th>2005-06-10</th>\n",
        "      <td> 73229</td>\n",
        "      <td> 0.473794</td>\n",
        "      <td> 0.131375</td>\n",
        "      <td> 2212842</td>\n",
        "      <td> 0.378659</td>\n",
        "      <td> 0.108673</td>\n",
        "    </tr>\n",
        "    <tr>\n",
        "      <th>2005-06-18</th>\n",
        "      <td> 54928</td>\n",
        "      <td> 0.470702</td>\n",
        "      <td> 0.125367</td>\n",
        "      <td> 1953839</td>\n",
        "      <td> 0.354093</td>\n",
        "      <td> 0.103790</td>\n",
        "    </tr>\n",
        "    <tr>\n",
        "      <th>2005-06-26</th>\n",
        "      <td> 56394</td>\n",
        "      <td> 0.458818</td>\n",
        "      <td> 0.119469</td>\n",
        "      <td> 1982683</td>\n",
        "      <td> 0.327977</td>\n",
        "      <td> 0.101408</td>\n",
        "    </tr>\n",
        "    <tr>\n",
        "      <th>2005-07-04</th>\n",
        "      <td> 73176</td>\n",
        "      <td> 0.435859</td>\n",
        "      <td> 0.131332</td>\n",
        "      <td> 2173595</td>\n",
        "      <td> 0.301114</td>\n",
        "      <td> 0.104117</td>\n",
        "    </tr>\n",
        "    <tr>\n",
        "      <th>2005-07-12</th>\n",
        "      <td> 80523</td>\n",
        "      <td> 0.425862</td>\n",
        "      <td> 0.131166</td>\n",
        "      <td> 2250149</td>\n",
        "      <td> 0.284187</td>\n",
        "      <td> 0.102809</td>\n",
        "    </tr>\n",
        "    <tr>\n",
        "      <th>2005-07-20</th>\n",
        "      <td> 68949</td>\n",
        "      <td> 0.418751</td>\n",
        "      <td> 0.128634</td>\n",
        "      <td> 2079405</td>\n",
        "      <td> 0.266774</td>\n",
        "      <td> 0.098959</td>\n",
        "    </tr>\n",
        "    <tr>\n",
        "      <th>2005-07-28</th>\n",
        "      <td> 58457</td>\n",
        "      <td> 0.400673</td>\n",
        "      <td> 0.134891</td>\n",
        "      <td> 1990902</td>\n",
        "      <td> 0.250908</td>\n",
        "      <td> 0.094614</td>\n",
        "    </tr>\n",
        "    <tr>\n",
        "      <th>2005-08-05</th>\n",
        "      <td> 57174</td>\n",
        "      <td> 0.384904</td>\n",
        "      <td> 0.140733</td>\n",
        "      <td> 1896345</td>\n",
        "      <td> 0.234642</td>\n",
        "      <td> 0.091848</td>\n",
        "    </tr>\n",
        "    <tr>\n",
        "      <th>...</th>\n",
        "      <td>...</td>\n",
        "      <td>...</td>\n",
        "      <td>...</td>\n",
        "      <td>...</td>\n",
        "      <td>...</td>\n",
        "      <td>...</td>\n",
        "    </tr>\n",
        "    <tr>\n",
        "      <th>2013-05-09</th>\n",
        "      <td> 86270</td>\n",
        "      <td> 0.503859</td>\n",
        "      <td> 0.124876</td>\n",
        "      <td> 2339764</td>\n",
        "      <td> 0.442220</td>\n",
        "      <td> 0.100767</td>\n",
        "    </tr>\n",
        "    <tr>\n",
        "      <th>2013-05-17</th>\n",
        "      <td> 84931</td>\n",
        "      <td> 0.496030</td>\n",
        "      <td> 0.125385</td>\n",
        "      <td> 2321412</td>\n",
        "      <td> 0.422843</td>\n",
        "      <td> 0.102117</td>\n",
        "    </tr>\n",
        "    <tr>\n",
        "      <th>2013-05-25</th>\n",
        "      <td> 89894</td>\n",
        "      <td> 0.469919</td>\n",
        "      <td> 0.127311</td>\n",
        "      <td> 2366725</td>\n",
        "      <td> 0.382627</td>\n",
        "      <td> 0.104935</td>\n",
        "    </tr>\n",
        "    <tr>\n",
        "      <th>2013-06-02</th>\n",
        "      <td> 91309</td>\n",
        "      <td> 0.452731</td>\n",
        "      <td> 0.123129</td>\n",
        "      <td> 2369695</td>\n",
        "      <td> 0.360958</td>\n",
        "      <td> 0.099013</td>\n",
        "    </tr>\n",
        "    <tr>\n",
        "      <th>2013-06-10</th>\n",
        "      <td> 74796</td>\n",
        "      <td> 0.450188</td>\n",
        "      <td> 0.121350</td>\n",
        "      <td> 2217132</td>\n",
        "      <td> 0.335714</td>\n",
        "      <td> 0.098702</td>\n",
        "    </tr>\n",
        "    <tr>\n",
        "      <th>2013-06-18</th>\n",
        "      <td> 73266</td>\n",
        "      <td> 0.437246</td>\n",
        "      <td> 0.125805</td>\n",
        "      <td> 2176447</td>\n",
        "      <td> 0.319648</td>\n",
        "      <td> 0.099817</td>\n",
        "    </tr>\n",
        "    <tr>\n",
        "      <th>2013-06-26</th>\n",
        "      <td> 86174</td>\n",
        "      <td> 0.401285</td>\n",
        "      <td> 0.127369</td>\n",
        "      <td> 2346383</td>\n",
        "      <td> 0.288049</td>\n",
        "      <td> 0.094252</td>\n",
        "    </tr>\n",
        "    <tr>\n",
        "      <th>2013-07-04</th>\n",
        "      <td> 90419</td>\n",
        "      <td> 0.387750</td>\n",
        "      <td> 0.121716</td>\n",
        "      <td> 2374069</td>\n",
        "      <td> 0.271674</td>\n",
        "      <td> 0.088208</td>\n",
        "    </tr>\n",
        "    <tr>\n",
        "      <th>2013-07-12</th>\n",
        "      <td> 81831</td>\n",
        "      <td> 0.373992</td>\n",
        "      <td> 0.123684</td>\n",
        "      <td> 2303653</td>\n",
        "      <td> 0.257071</td>\n",
        "      <td> 0.085542</td>\n",
        "    </tr>\n",
        "    <tr>\n",
        "      <th>2013-07-20</th>\n",
        "      <td> 58384</td>\n",
        "      <td> 0.372903</td>\n",
        "      <td> 0.122412</td>\n",
        "      <td> 1989561</td>\n",
        "      <td> 0.246054</td>\n",
        "      <td> 0.083399</td>\n",
        "    </tr>\n",
        "    <tr>\n",
        "      <th>2013-07-28</th>\n",
        "      <td> 55349</td>\n",
        "      <td> 0.357565</td>\n",
        "      <td> 0.116809</td>\n",
        "      <td> 1946514</td>\n",
        "      <td> 0.229598</td>\n",
        "      <td> 0.079774</td>\n",
        "    </tr>\n",
        "    <tr>\n",
        "      <th>2013-08-05</th>\n",
        "      <td> 66428</td>\n",
        "      <td> 0.339188</td>\n",
        "      <td> 0.119213</td>\n",
        "      <td> 2089113</td>\n",
        "      <td> 0.221018</td>\n",
        "      <td> 0.076128</td>\n",
        "    </tr>\n",
        "    <tr>\n",
        "      <th>2013-08-13</th>\n",
        "      <td> 71664</td>\n",
        "      <td> 0.331790</td>\n",
        "      <td> 0.118674</td>\n",
        "      <td> 2180092</td>\n",
        "      <td> 0.213752</td>\n",
        "      <td> 0.072342</td>\n",
        "    </tr>\n",
        "    <tr>\n",
        "      <th>2013-08-21</th>\n",
        "      <td> 89488</td>\n",
        "      <td> 0.326660</td>\n",
        "      <td> 0.115504</td>\n",
        "      <td> 2342543</td>\n",
        "      <td> 0.206960</td>\n",
        "      <td> 0.069325</td>\n",
        "    </tr>\n",
        "    <tr>\n",
        "      <th>2013-08-29</th>\n",
        "      <td> 89107</td>\n",
        "      <td> 0.322158</td>\n",
        "      <td> 0.116837</td>\n",
        "      <td> 2316795</td>\n",
        "      <td> 0.200385</td>\n",
        "      <td> 0.066264</td>\n",
        "    </tr>\n",
        "    <tr>\n",
        "      <th>2013-09-06</th>\n",
        "      <td> 77804</td>\n",
        "      <td> 0.320013</td>\n",
        "      <td> 0.122194</td>\n",
        "      <td> 2191787</td>\n",
        "      <td> 0.198067</td>\n",
        "      <td> 0.065120</td>\n",
        "    </tr>\n",
        "    <tr>\n",
        "      <th>2013-09-14</th>\n",
        "      <td> 91371</td>\n",
        "      <td> 0.314591</td>\n",
        "      <td> 0.114182</td>\n",
        "      <td> 2356092</td>\n",
        "      <td> 0.196013</td>\n",
        "      <td> 0.060482</td>\n",
        "    </tr>\n",
        "    <tr>\n",
        "      <th>2013-09-22</th>\n",
        "      <td> 87765</td>\n",
        "      <td> 0.303953</td>\n",
        "      <td> 0.112022</td>\n",
        "      <td> 2324255</td>\n",
        "      <td> 0.191189</td>\n",
        "      <td> 0.059744</td>\n",
        "    </tr>\n",
        "    <tr>\n",
        "      <th>2013-09-30</th>\n",
        "      <td> 72986</td>\n",
        "      <td> 0.325712</td>\n",
        "      <td> 0.123399</td>\n",
        "      <td> 1978620</td>\n",
        "      <td> 0.217830</td>\n",
        "      <td> 0.072548</td>\n",
        "    </tr>\n",
        "    <tr>\n",
        "      <th>2013-10-08</th>\n",
        "      <td> 87884</td>\n",
        "      <td> 0.358578</td>\n",
        "      <td> 0.128971</td>\n",
        "      <td> 2259578</td>\n",
        "      <td> 0.254098</td>\n",
        "      <td> 0.089698</td>\n",
        "    </tr>\n",
        "    <tr>\n",
        "      <th>2013-10-16</th>\n",
        "      <td> 92296</td>\n",
        "      <td> 0.369226</td>\n",
        "      <td> 0.132753</td>\n",
        "      <td> 2359749</td>\n",
        "      <td> 0.270675</td>\n",
        "      <td> 0.102677</td>\n",
        "    </tr>\n",
        "    <tr>\n",
        "      <th>2013-10-24</th>\n",
        "      <td> 89027</td>\n",
        "      <td> 0.356346</td>\n",
        "      <td> 0.127791</td>\n",
        "      <td> 2327368</td>\n",
        "      <td> 0.269357</td>\n",
        "      <td> 0.106646</td>\n",
        "    </tr>\n",
        "    <tr>\n",
        "      <th>2013-11-01</th>\n",
        "      <td> 89475</td>\n",
        "      <td> 0.377788</td>\n",
        "      <td> 0.133793</td>\n",
        "      <td> 2265311</td>\n",
        "      <td> 0.276396</td>\n",
        "      <td> 0.109145</td>\n",
        "    </tr>\n",
        "    <tr>\n",
        "      <th>2013-11-09</th>\n",
        "      <td> 90929</td>\n",
        "      <td> 0.382119</td>\n",
        "      <td> 0.136152</td>\n",
        "      <td> 2244749</td>\n",
        "      <td> 0.273980</td>\n",
        "      <td> 0.105792</td>\n",
        "    </tr>\n",
        "    <tr>\n",
        "      <th>2013-11-17</th>\n",
        "      <td> 82376</td>\n",
        "      <td> 0.380201</td>\n",
        "      <td> 0.138552</td>\n",
        "      <td> 2084169</td>\n",
        "      <td> 0.279583</td>\n",
        "      <td> 0.108640</td>\n",
        "    </tr>\n",
        "    <tr>\n",
        "      <th>2013-11-25</th>\n",
        "      <td> 76036</td>\n",
        "      <td> 0.400956</td>\n",
        "      <td> 0.142337</td>\n",
        "      <td> 1947804</td>\n",
        "      <td> 0.314420</td>\n",
        "      <td> 0.117417</td>\n",
        "    </tr>\n",
        "    <tr>\n",
        "      <th>2013-12-03</th>\n",
        "      <td> 85459</td>\n",
        "      <td> 0.432800</td>\n",
        "      <td> 0.139225</td>\n",
        "      <td> 2234607</td>\n",
        "      <td> 0.361906</td>\n",
        "      <td> 0.114884</td>\n",
        "    </tr>\n",
        "    <tr>\n",
        "      <th>2013-12-11</th>\n",
        "      <td> 85209</td>\n",
        "      <td> 0.445265</td>\n",
        "      <td> 0.139182</td>\n",
        "      <td> 2186201</td>\n",
        "      <td> 0.378178</td>\n",
        "      <td> 0.115122</td>\n",
        "    </tr>\n",
        "    <tr>\n",
        "      <th>2013-12-19</th>\n",
        "      <td> 86005</td>\n",
        "      <td> 0.447801</td>\n",
        "      <td> 0.139815</td>\n",
        "      <td> 2107962</td>\n",
        "      <td> 0.383960</td>\n",
        "      <td> 0.119539</td>\n",
        "    </tr>\n",
        "    <tr>\n",
        "      <th>2013-12-27</th>\n",
        "      <td> 87574</td>\n",
        "      <td> 0.443680</td>\n",
        "      <td> 0.143091</td>\n",
        "      <td> 2072078</td>\n",
        "      <td> 0.375371</td>\n",
        "      <td> 0.123840</td>\n",
        "    </tr>\n",
        "  </tbody>\n",
        "</table>\n",
        "<p>416 rows \u00d7 6 columns</p>\n",
        "</div>"
       ],
       "metadata": {},
       "output_type": "pyout",
       "prompt_number": 25,
       "text": [
        "            FT_cnt   FT_mean    FT_std   GT_cnt   GT_mean    GT_std\n",
        "2004-12-18   75689  0.500617  0.146065  1878968  0.459144  0.123077\n",
        "2004-12-26   93383  0.513145  0.138133  2300543  0.466563  0.116737\n",
        "2005-01-01   92113  0.511043  0.138041  2174534  0.467370  0.119086\n",
        "2005-01-09   92416  0.502529  0.142996  2283634  0.461118  0.127784\n",
        "2005-01-17   82351  0.487834  0.144205  1970237  0.449213  0.130297\n",
        "2005-01-25   58418  0.471109  0.151640  1418038  0.454014  0.139881\n",
        "2005-02-02   87674  0.509631  0.149190  2214368  0.478901  0.133480\n",
        "2005-02-10   92198  0.503242  0.155555  2254224  0.461342  0.144169\n",
        "2005-02-18   76702  0.473243  0.157447  1646908  0.425087  0.150853\n",
        "2005-02-26   72137  0.474348  0.168217  1741945  0.458681  0.159403\n",
        "2005-03-06   86223  0.493559  0.166811  2151588  0.468559  0.154324\n",
        "2005-03-14   62869  0.500656  0.156855  1920466  0.487291  0.136172\n",
        "2005-03-22   79414  0.506292  0.140102  2227778  0.486254  0.119396\n",
        "2005-03-30   77637  0.524336  0.138543  2225588  0.491872  0.108873\n",
        "2005-04-07   61385  0.542203  0.132406  1935428  0.505167  0.097331\n",
        "2005-04-15   74402  0.530115  0.120988  2196401  0.490533  0.091169\n",
        "2005-04-23   73883  0.529739  0.120046  2222920  0.476599  0.090918\n",
        "2005-05-01   79128  0.518214  0.125003  2285046  0.453937  0.098928\n",
        "2005-05-09   77716  0.507256  0.129116  2265243  0.440584  0.103435\n",
        "2005-05-17   64523  0.507452  0.130774  2082313  0.428292  0.104386\n",
        "2005-05-25   70120  0.503282  0.127023  2163995  0.419647  0.105442\n",
        "2005-06-02   79612  0.482917  0.129930  2290524  0.396187  0.107978\n",
        "2005-06-10   73229  0.473794  0.131375  2212842  0.378659  0.108673\n",
        "2005-06-18   54928  0.470702  0.125367  1953839  0.354093  0.103790\n",
        "2005-06-26   56394  0.458818  0.119469  1982683  0.327977  0.101408\n",
        "2005-07-04   73176  0.435859  0.131332  2173595  0.301114  0.104117\n",
        "2005-07-12   80523  0.425862  0.131166  2250149  0.284187  0.102809\n",
        "2005-07-20   68949  0.418751  0.128634  2079405  0.266774  0.098959\n",
        "2005-07-28   58457  0.400673  0.134891  1990902  0.250908  0.094614\n",
        "2005-08-05   57174  0.384904  0.140733  1896345  0.234642  0.091848\n",
        "...            ...       ...       ...      ...       ...       ...\n",
        "2013-05-09   86270  0.503859  0.124876  2339764  0.442220  0.100767\n",
        "2013-05-17   84931  0.496030  0.125385  2321412  0.422843  0.102117\n",
        "2013-05-25   89894  0.469919  0.127311  2366725  0.382627  0.104935\n",
        "2013-06-02   91309  0.452731  0.123129  2369695  0.360958  0.099013\n",
        "2013-06-10   74796  0.450188  0.121350  2217132  0.335714  0.098702\n",
        "2013-06-18   73266  0.437246  0.125805  2176447  0.319648  0.099817\n",
        "2013-06-26   86174  0.401285  0.127369  2346383  0.288049  0.094252\n",
        "2013-07-04   90419  0.387750  0.121716  2374069  0.271674  0.088208\n",
        "2013-07-12   81831  0.373992  0.123684  2303653  0.257071  0.085542\n",
        "2013-07-20   58384  0.372903  0.122412  1989561  0.246054  0.083399\n",
        "2013-07-28   55349  0.357565  0.116809  1946514  0.229598  0.079774\n",
        "2013-08-05   66428  0.339188  0.119213  2089113  0.221018  0.076128\n",
        "2013-08-13   71664  0.331790  0.118674  2180092  0.213752  0.072342\n",
        "2013-08-21   89488  0.326660  0.115504  2342543  0.206960  0.069325\n",
        "2013-08-29   89107  0.322158  0.116837  2316795  0.200385  0.066264\n",
        "2013-09-06   77804  0.320013  0.122194  2191787  0.198067  0.065120\n",
        "2013-09-14   91371  0.314591  0.114182  2356092  0.196013  0.060482\n",
        "2013-09-22   87765  0.303953  0.112022  2324255  0.191189  0.059744\n",
        "2013-09-30   72986  0.325712  0.123399  1978620  0.217830  0.072548\n",
        "2013-10-08   87884  0.358578  0.128971  2259578  0.254098  0.089698\n",
        "2013-10-16   92296  0.369226  0.132753  2359749  0.270675  0.102677\n",
        "2013-10-24   89027  0.356346  0.127791  2327368  0.269357  0.106646\n",
        "2013-11-01   89475  0.377788  0.133793  2265311  0.276396  0.109145\n",
        "2013-11-09   90929  0.382119  0.136152  2244749  0.273980  0.105792\n",
        "2013-11-17   82376  0.380201  0.138552  2084169  0.279583  0.108640\n",
        "2013-11-25   76036  0.400956  0.142337  1947804  0.314420  0.117417\n",
        "2013-12-03   85459  0.432800  0.139225  2234607  0.361906  0.114884\n",
        "2013-12-11   85209  0.445265  0.139182  2186201  0.378178  0.115122\n",
        "2013-12-19   86005  0.447801  0.139815  2107962  0.383960  0.119539\n",
        "2013-12-27   87574  0.443680  0.143091  2072078  0.375371  0.123840\n",
        "\n",
        "[416 rows x 6 columns]"
       ]
      }
     ],
     "prompt_number": 25
    },
    {
     "cell_type": "code",
     "collapsed": false,
     "input": [
      "# Create a plot from the Pandas DF object\n",
      "fig_ts = plt.figure(figsize=[10,5])\n",
      "ax1 = fig_ts.add_subplot(111)\n",
      "#ax1.plot(dt_list,Tz_mn,'b.')\n",
      "ax1.errorbar(df.index,df.FT_mean,yerr=df.FT_std,xerr=None,ls='-',c='b')\n",
      "ax1.errorbar(df.index,df.GT_mean,yerr=df.GT_std,xerr=None,ls='-',c='r')\n",
      "ax1.set_ylabel(r'EVI ($\\mu\\pm1\\sigma$)')\n",
      "ax1.set_xlabel('Date')\n",
      "ax1.set_title('EVI: Tanzania coastal region Forest-type (blue) & Grass-type (red)')\n",
      "plt.grid(True)\n",
      "plt.show(fig_ts)"
     ],
     "language": "python",
     "metadata": {},
     "outputs": [
      {
       "metadata": {},
       "output_type": "display_data",
       "png": "[encoded data removed]",
       "text": [
        "<matplotlib.figure.Figure at 0x10a1c78d0>"
       ]
      }
     ],
     "prompt_number": 26
    },
    {
     "cell_type": "code",
     "collapsed": false,
     "input": [
      "df.to_csv('MODIS_EVI_2.csv')"
     ],
     "language": "python",
     "metadata": {},
     "outputs": [],
     "prompt_number": 27
    },
    {
     "cell_type": "code",
     "collapsed": false,
     "input": [],
     "language": "python",
     "metadata": {},
     "outputs": []
    }
   ],
   "metadata": {}
  }
 ]
}