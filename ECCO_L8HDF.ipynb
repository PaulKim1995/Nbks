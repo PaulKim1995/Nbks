{
 "metadata": {
  "name": "",
  "signature": "sha256:e55124219f5c9d45a1935561ede4ca68e8bf15e0f6c8e6c21f3e8a3738854a0b"
 },
 "nbformat": 3,
 "nbformat_minor": 0,
 "worksheets": [
  {
   "cells": [
    {
     "cell_type": "markdown",
     "metadata": {},
     "source": [
      "# ECCO projct remote sensing using Landsat 8#"
     ]
    },
    {
     "cell_type": "code",
     "collapsed": false,
     "input": [
      "from __future__ import print_function # For py 2.7 compat\n",
      "import numpy as np\n",
      "import pandas as pd\n",
      "import osgeo.ogr\n",
      "import simplekml\n",
      "import pyproj\n",
      "import glob\n",
      "import datetime\n",
      "import ee\n",
      "import os\n",
      "import time\n",
      "import datetime\n",
      "import ECCO_functions_v2 as ECCO\n",
      "import matplotlib.pyplot as plt\n",
      "import matplotlib.colors as mcolors\n",
      "%matplotlib inline\n",
      "\n",
      "from functools import wraps\n",
      "from IPython.html import widgets\n",
      "from IPython.display import display\n",
      "from IPython.utils import traitlets\n",
      "from IPython.core.display import Javascript\n",
      "\n",
      "ee.Initialize()    # Initlize Earth Engine"
     ],
     "language": "python",
     "metadata": {},
     "outputs": [],
     "prompt_number": 1
    },
    {
     "cell_type": "markdown",
     "metadata": {},
     "source": [
      "### Functions to deal with shape files of lakes ###"
     ]
    },
    {
     "cell_type": "code",
     "collapsed": false,
     "input": [
      "# Shapefile Lake functions \n",
      "def make_path_for_simplekml(lake_geometry):\n",
      "    \"\"\"\n",
      "    Input: lake_feature['geometry']['coordinates']\n",
      "    \"\"\"\n",
      "    #print 'Number of boundaries:',len(lake_geometry)\n",
      "    outer_bound = []\n",
      "    inner_bound = []\n",
      "    for n, ring in enumerate(lake_geometry):\n",
      "        if n == 0: # First ring is the outer boundary\n",
      "            tmp = []\n",
      "            if len(ring) < 900:\n",
      "                for xy in ring:\n",
      "                    x = float(\"{0:3.4f}\".format(xy[0]))  # Strip out precision \n",
      "                    y = float(\"{0:3.4f}\".format(xy[1]))  # as FT has row character limit\n",
      "                    #x,y = xy\n",
      "                    tmp.append((x,y))\n",
      "            else:\n",
      "                for i,xy in enumerate(ring): # For shapes too big, strip out some xy resolution\n",
      "                    if i % 40 == 0.0:\n",
      "                    #if True:\n",
      "                        #x,y=xy\n",
      "                        x = float(\"{0:3.3f}\".format(xy[0]))  # Strip out precision \n",
      "                        y = float(\"{0:3.3f}\".format(xy[1]))  # as FT has row character limit\n",
      "                        tmp.append([x,y])\n",
      "            outer_bound = tmp\n",
      "        if n > 0: # If it is an Island (inner boundary) - make lists of lists for no of rings\n",
      "            tmp = []\n",
      "            for xy in ring:\n",
      "                x,y = xy\n",
      "                tmp.append((x,y))\n",
      "            inner_bound.append(tmp)\n",
      "    return outer_bound, inner_bound\n",
      "\n",
      "def show_shape(outer_bound):\n",
      "    \"\"\"\n",
      "    Display a boundary shape just for a sanity check.\n",
      "    \"\"\"\n",
      "    x =[]\n",
      "    y=[]\n",
      "    for i,n in enumerate(outer_bound):\n",
      "        #if i % 10 == 0.0:\n",
      "            #x.append(float(\"{0:3.3f}\".format(n[0])))\n",
      "            #y.append(float(\"{0:3.3f}\".format(n[1])))\n",
      "            x.append(n[0])\n",
      "            y.append(n[1])\n",
      "\n",
      "    plt.plot(x,y)\n",
      "    plt.show()\n",
      "    print('No of xy points: {0}'.format(len(outer_bound)))\n",
      "    print('No of xy points: {0}'.format(len(x)))\n",
      "    return\n",
      "\n",
      "def get_info(ans):\n",
      "    \"\"\"\n",
      "    Extract the data and dates from returned EE data\n",
      "    \"\"\"\n",
      "    data = [x['properties']['values'] for x in ans]\n",
      "    dates = [datetime.datetime.strptime(x['id'][:-2], \"%Y%m%d\").date() for x in ans]\n",
      "    return data, dates"
     ],
     "language": "python",
     "metadata": {},
     "outputs": [],
     "prompt_number": 2
    },
    {
     "cell_type": "markdown",
     "metadata": {},
     "source": [
      "### Cloud masking functionality for Landsat 8 ###\n",
      "Taken from Tyler's demo of cloud masking\n",
      "\n",
      "https://ee-api.appspot.com/46f72d771111038a71c5b2157c006be6\n",
      "\n",
      "https://groups.google.com/forum/?utm_source=digest&utm_medium=email/#!topic/google-earth-engine-developers/MvU5BR_xKic"
     ]
    },
    {
     "cell_type": "code",
     "collapsed": false,
     "input": [
      "def getQABits(image, start, end, newName):\n",
      "    \"\"\"\n",
      "    Compute the bits we need to extract.\n",
      "    \"\"\"\n",
      "    pattern = 0\n",
      "    for i in range(start,end+1):\n",
      "        pattern += np.power(2, i);\n",
      "    return image.select([0], [newName]).bitwise_and(pattern).right_shift(start)\n",
      "\n",
      "def L8AddQABands(image):\n",
      "    \"\"\"\n",
      "    Landsat 8 QA Band ref: http://landsat.usgs.gov/L8QualityAssessmentBand.php\n",
      "    Select the LSat8 QA band and and highlight water, snow/ice, cirrus, and cloud\n",
      "    \"\"\"\n",
      "    QABand = image.select('BQA');\n",
      "    image = image.addBands(getQABits(QABand, 4, 5, \"WaterConfidence\")); \n",
      "    image = image.addBands(getQABits(QABand, 10, 11, \"SnowIceConfidence\")); \n",
      "    image = image.addBands(getQABits(QABand, 12, 13, \"CirrusConfidence\")); \n",
      "    image = image.addBands(getQABits(QABand, 14, 15, \"CloudConfidence\"));\n",
      "    return image\n",
      "\n",
      "def maskL8(image):\n",
      "    \"\"\"\n",
      "    Mask the L8 images to remove clouds, water, ice/snow.\n",
      "    \"\"\"\n",
      "    mask = L8Cloudmask(image)\n",
      "    maskedImage = image.mask(mask)\n",
      "    return maskedImage\n",
      "\n",
      "def L8Cloudmask(image):\n",
      "    \"\"\"\n",
      "    cloud masking function\n",
      "    Select the Landsat 8 QA band.\n",
      "    Create a binary mask based on the cloud quality bits (bits 14&15).\n",
      "    \"\"\"\n",
      "    QABand = image.select('BQA')\n",
      "    cirrusBits = getQABits(QABand, 12, 13, \"CirrusConfidence\")\n",
      "    cloudBits = getQABits(QABand, 14, 15, \"CloudConfidence\")\n",
      "    cloudBand = image.select('B9')\n",
      "    B9_THRESHOLD = 5200\n",
      "    B9_mask = cloudBand.lt(B9_THRESHOLD)\n",
      "    cloudMask = (cloudBits.eq(1)).And(cirrusBits.eq(1).And(B9_mask.eq(1)))\n",
      "    return cloudMask\n",
      "\n",
      "def maskL8(image):\n",
      "    \"\"\"\n",
      "    Mask L8 images for cloud with both the BQA flags \n",
      "    and also a band 9 threshold\n",
      "    \"\"\"\n",
      "    mask = L8Cloudmask(image)\n",
      "    maskedImage = image.mask(mask)\n",
      "    return maskedImage"
     ],
     "language": "python",
     "metadata": {},
     "outputs": [],
     "prompt_number": 3
    },
    {
     "cell_type": "markdown",
     "metadata": {},
     "source": [
      "### Required EE collection and data ###"
     ]
    },
    {
     "cell_type": "code",
     "collapsed": false,
     "input": [
      "landsat8Toa = (ee.ImageCollection('LANDSAT/LC8_L1T_8DAY_TOA')\n",
      "                .filterDate('2012-12-25', '2015-06-01')\n",
      "                .select(['B[1-7]','B9','BQA'])) \n",
      "\n",
      "\n",
      "# A high-resolution mask for water bodies, for deails see: \n",
      "# https://sites.google.com/site/earthengineapidocs/tutorials/api-tutorial-introduction-to-the-earth-engine-api/math-with-images)\n",
      "hansenImage = ee.Image('UMD/hansen/global_forest_change_2013')\n",
      "data = hansenImage.select('datamask')\n",
      "\n",
      "waterMask = data.eq(1)  # In this, the land gets a value of 1 (land passes through a mask)\n",
      "landmask = data.neq(1)  # In this, the water get a value of 1 (water passes through a mask)\n",
      "\n",
      "#map.addLayer(image=waterMask,vis_params={'palette':'0000FF, 088A08'}, name='Water Mask')\n",
      "# Need to use this to mask out islands from inside of lakes"
     ],
     "language": "python",
     "metadata": {},
     "outputs": [],
     "prompt_number": 4
    },
    {
     "cell_type": "code",
     "collapsed": false,
     "input": [
      "# Will retry a function if a memory exception is recieved\n",
      "\n",
      "#Taken from http://www.saltycrane.com/blog/2009/11/trying-out-retry-decorator-python/\n",
      "# To implement this I need to wrap a function in it upon declaration:\n",
      "# e.g.   \n",
      "# @retry(Exception)\n",
      "# def do_foo():\n",
      "#       return foo\n",
      "#\n",
      "# Then when do_foo() is called, it will include the retry() exception handling.\n",
      "\n",
      "def retry(ExceptionToCheck, tries=10, delay=3, backoff=2, default=None, logger=None):\n",
      "    \"\"\"Retry calling the decorated function using an exponential backoff.\n",
      "    http://www.saltycrane.com/blog/2009/11/trying-out-retry-decorator-python/\n",
      "    original from: http://wiki.python.org/moin/PythonDecoratorLibrary#Retry\n",
      "    :param ExceptionToCheck: the exception to check. may be a tuple of\n",
      "        exceptions to check\n",
      "    :type ExceptionToCheck: Exception or tuple\n",
      "    :param tries: number of times to try (not retry) before giving up\n",
      "    :type tries: int\n",
      "    :param delay: initial delay between retries in seconds\n",
      "    :type delay: int\n",
      "    :param backoff: backoff multiplier e.g. value of 2 will double the delay\n",
      "        each retry\n",
      "    :type backoff: int\n",
      "    :param logger: logger to use. If None, print\n",
      "    :type logger: logging.Logger instance\n",
      "    \"\"\"\n",
      "    def deco_retry(f):\n",
      "\n",
      "        @wraps(f)\n",
      "        def f_retry(*args, **kwargs):\n",
      "            mtries, mdelay = tries, delay\n",
      "            while mtries > 1:\n",
      "                try:\n",
      "                    return f(*args, **kwargs)\n",
      "                except ExceptionToCheck, e:\n",
      "                    msg = \"%s, Retrying in %d seconds...\" % (str(e), mdelay)\n",
      "                    if logger:\n",
      "                        logger.warning(msg)\n",
      "                    else:\n",
      "                        print(msg)\n",
      "                    time.sleep(mdelay)\n",
      "                    mtries -= 1\n",
      "                    mdelay *= backoff\n",
      "            if default is not None:\n",
      "                return default\n",
      "            return f(*args, **kwargs)\n",
      "\n",
      "        return f_retry  # true decorator\n",
      "\n",
      "    return deco_retry"
     ],
     "language": "python",
     "metadata": {},
     "outputs": [],
     "prompt_number": 27
    },
    {
     "cell_type": "markdown",
     "metadata": {},
     "source": [
      "# Main Program#\n",
      "Extract lake polygon and ID data, convert it to boundary, put this as EE geometry, then use it as a clip in a reduced collection of EE data. Place the data into a HDF5 file using Pandas."
     ]
    },
    {
     "cell_type": "code",
     "collapsed": false,
     "input": [
      "%%time\n",
      "lake_file = '/Users/Ben/Work/Python/Programs/ECCO/Lakes/ecco-biwa_lakes_v.0.2.shp'\n",
      "#lstart = 0  lstop = 275265 (all lakes)\n",
      "\n",
      "kml = simplekml.Kml() # Create KML data object\n",
      "\n",
      "lake_meta = pd.read_csv('/Users/Ben/Work/Python/Programs/ECCO/Lakes/Metadata/Lake_meta.csv')\n",
      "lake_meta = lake_meta.set_index('EB_id')               # Index with EB_id\n",
      "\n",
      "ShapeData = osgeo.ogr.Open(lake_file)                  # Make a link to Lake Shape Files\n",
      "TheLayer = ShapeData.GetLayer(iLayer=0)\n",
      "\n",
      "sorted_meta = lake_meta.sort('area',ascending=0).head(30)\n",
      "dolakes = sorted_meta.num.values.astype(dtype=list)  # List the 1k largest lakes to run\n",
      "\n",
      "#dolakes=np.arange(lstart,lstop,1) \n",
      "for n in dolakes[0:10]:  # Start with size ordered lakes (largest first)\n",
      "    feature1 = TheLayer.GetFeature(n)           # Get individ. lake in shapefile\n",
      "    lake_feature = feature1.ExportToJson(as_object=True)\n",
      "    outer_bound, inner_bound = make_path_for_simplekml(lake_feature['geometry']['coordinates'])\n",
      "    #show_shape(outer_bound)  # Show the shape here\n",
      "    EB_id = lake_feature['properties']['EBhex']\n",
      "    EB_id = EB_id[2:]  \n",
      "    \n",
      "    # Turn the lake into EE geometry\n",
      "    lkgeom = ee.Geometry.Polygon(outer_bound)         # Geometry Polygon of lake boundary\n",
      "    lkfeature = ee.Feature(lkgeom, {'type': 'lake'})  # Turn it into a feature\n",
      "    \n",
      "    # Calculate mean over an image collection for a feature\n",
      "    def getMean(img):\n",
      "        clearimg = maskL8(img.mask(landmask))        \n",
      "        return clearimg.reduceRegions(lkfeature,   \n",
      "                               ee.Reducer.mean().forEachBand(img),200\n",
      "                               ).makeArray(['B{0}'.format(x) for x in range(1,8)],'values')\n",
      "    \n",
      "    #Sample s.dev. from image collection over a feature\n",
      "    def getStd(img):\n",
      "        clearimg = maskL8(img.mask(landmask))\n",
      "        return clearimg.reduceRegions(lkfeature, \n",
      "                                   ee.Reducer.sampleStdDev().forEachBand(img),200\n",
      "                                   ).makeArray(['B{0}'.format(x) for x in range(1,8)],'values')\n",
      "    \n",
      "    # Count from image collection over a feature\n",
      "    def getCnt(img):\n",
      "        clearimg = maskL8(img.mask(landmask))\n",
      "        return clearimg.reduceRegions(lkfeature, \n",
      "                                   ee.Reducer.count().forEachBand(img),200\n",
      "                                   ).makeArray(['B{0}'.format(x) for x in range(1,8)],'values')\n",
      "    \n",
      "    print(\"Processing: {0}\".format(EB_id))\n",
      "    \n",
      "    # Use the Reducers on EE Landsat 8 TOA collection\n",
      "    # with each call wrapped in a decorator to repeat if an exception gets raised\n",
      "    @retry(Exception)\n",
      "    def feature_mean():\n",
      "        return ee.FeatureCollection(landsat8Toa.map(getMean)).flatten().aggregate_array(property='.all').getInfo()\n",
      "\n",
      "    @retry(Exception)\n",
      "    def feature_std():\n",
      "        return ee.FeatureCollection(landsat8Toa.map(getStd)).flatten().aggregate_array(property='.all').getInfo()\n",
      "    \n",
      "    @retry(Exception)\n",
      "    def feature_cnt():\n",
      "        return ee.FeatureCollection(landsat8Toa.map(getCnt)).flatten().aggregate_array(property='.all').getInfo()\n",
      "    \n",
      "    # Now, finally call the functions and get the data from EE.\n",
      "    ans1 = feature_mean()\n",
      "    ans2 = feature_std()\n",
      "    ans3 = feature_cnt()\n",
      "    \n",
      "    #print(\"Converting with Pandas\")\n",
      "    \n",
      "    # Extract the values, combine them into a dataframe, save this to a HDF then loop more lakes\n",
      "    data, dates = get_info(ans1)\n",
      "    #data = [x['properties']['values'] for x in ans1]\n",
      "    mean_df = pd.DataFrame(data=data,columns=['B1','B2','B3','B4','B5','B6','B7'],index=dates)\n",
      "    \n",
      "    #data_std = [x['properties']['values'] for x in ans2]\n",
      "    data_std, dates_std = get_info(ans2)\n",
      "    std_df = pd.DataFrame(data=data_std,columns=['B1_STD','B2_STD','B3_STD',\n",
      "                                         'B4_STD','B5_STD','B6_STD','B7_STD'],index=dates_std)\n",
      "    \n",
      "    #data3 = [x['properties']['values'] for x in ans3]\n",
      "    count_data,count_dates = get_info(ans3)\n",
      "    #counts = []\n",
      "    #for n,i in enumerate(data3):\n",
      "    #    counts.append(i[0]) # Only need one element of counts, as they are all the same value\n",
      "    \n",
      "    cnt_df = pd.DataFrame(data=count_data,columns=['CNT','2','3','4','5','6','7'],\n",
      "                          index=count_dates) \n",
      "    mask =(cnt_df.CNT > 0) # mask dates where there are no values (as these are useless)\n",
      "    \n",
      "    del new_frame          # Clean it from memory\n",
      "    new_frame = pd.concat([mean_df, std_df, cnt_df.CNT[mask]], axis=1)# Merge dfs\n",
      "    \n",
      "    with pd.HDFStore('Landsat8TOA_Lakes.h5') as store:  # Open (or create new) HDF5 file\n",
      "        store[EB_id] = new_frame                            # Add lake data and close.\n",
      "    #print(\"Saved to HDF\")"
     ],
     "language": "python",
     "metadata": {},
     "outputs": [
      {
       "output_type": "stream",
       "stream": "stdout",
       "text": [
        "Processing: 4a8a86\n",
        "Processing: c09a08"
       ]
      },
      {
       "output_type": "stream",
       "stream": "stdout",
       "text": [
        "\n",
        "Processing: fd7b78"
       ]
      },
      {
       "output_type": "stream",
       "stream": "stdout",
       "text": [
        "\n",
        "Processing: c671a8"
       ]
      },
      {
       "output_type": "stream",
       "stream": "stdout",
       "text": [
        "\n",
        "Processing: 910d41"
       ]
      },
      {
       "output_type": "stream",
       "stream": "stdout",
       "text": [
        "\n",
        "Processing: 790b94"
       ]
      },
      {
       "output_type": "stream",
       "stream": "stdout",
       "text": [
        "\n",
        "Processing: 7a828d"
       ]
      },
      {
       "output_type": "stream",
       "stream": "stdout",
       "text": [
        "\n",
        "Processing: b97c17"
       ]
      },
      {
       "output_type": "stream",
       "stream": "stdout",
       "text": [
        "\n",
        "Processing: 969a11"
       ]
      },
      {
       "output_type": "stream",
       "stream": "stdout",
       "text": [
        "\n",
        "Processing: a0095c"
       ]
      },
      {
       "output_type": "stream",
       "stream": "stdout",
       "text": [
        "\n",
        "CPU times: user 13.1 s, sys: 589 ms, total: 13.7 s"
       ]
      },
      {
       "output_type": "stream",
       "stream": "stdout",
       "text": [
        "\n",
        "Wall time: 1min 29s\n"
       ]
      }
     ],
     "prompt_number": 53
    },
    {
     "cell_type": "code",
     "collapsed": false,
     "input": [],
     "language": "python",
     "metadata": {},
     "outputs": [],
     "prompt_number": 44
    },
    {
     "cell_type": "markdown",
     "metadata": {},
     "source": [
      "## End of code (read example below)##"
     ]
    },
    {
     "cell_type": "code",
     "collapsed": false,
     "input": [
      "# How to read back the data...\n",
      "store2 = pd.HDFStore('Landsat8TOA_Lakes.h5')\n",
      "test = store2['4a8a86']\n",
      "store2.close()"
     ],
     "language": "python",
     "metadata": {},
     "outputs": [],
     "prompt_number": 50
    },
    {
     "cell_type": "code",
     "collapsed": false,
     "input": [
      "#plt.plot(test.index,test.B1)\n",
      "#plt.plot(test.index,test.B1+test.B1_STD,'r')\n",
      "#plt.plot(test.index,test.B1-test.B1_STD,'r')"
     ],
     "language": "python",
     "metadata": {},
     "outputs": [],
     "prompt_number": 52
    },
    {
     "cell_type": "code",
     "collapsed": false,
     "input": [
      "#plt.plot(test.index,test.CNT)"
     ],
     "language": "python",
     "metadata": {},
     "outputs": [],
     "prompt_number": 18
    }
   ],
   "metadata": {}
  }
 ]
}