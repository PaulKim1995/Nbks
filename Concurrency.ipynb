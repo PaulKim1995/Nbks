{
 "metadata": {
  "name": "",
  "signature": "sha256:41df65246e0590f5bb222699c9f0649b4f6fd8e7681661cfb8e6f262c103b937"
 },
 "nbformat": 3,
 "nbformat_minor": 0,
 "worksheets": [
  {
   "cells": [
    {
     "cell_type": "heading",
     "level": 1,
     "metadata": {},
     "source": [
      "Example of using concurrency to solve large problems fast"
     ]
    },
    {
     "cell_type": "markdown",
     "metadata": {},
     "source": [
      "An easy to modify template for using simple Python concurrency.\n",
      "\n",
      "Actually, there is already a better example at the below notebook, but as this current example is more useful to simply port into my existing code, I will keep it here, and improve/annotate it in the future.\n",
      "\n",
      "http://nbviewer.ipython.org/github/vals/scilife-python-course/blob/master/parallel%20python.ipynb\n",
      "\n",
      "From this code, you can easily alter the MC-function, and use concurrency.\n",
      "\n",
      "Acknowledgements: Code developed with [Carlos Gonzalez Merino](https://plus.google.com/108528557916666097856/about). "
     ]
    },
    {
     "cell_type": "code",
     "collapsed": false,
     "input": [
      "from pylab import *\n",
      "import numpy as np\n",
      "import scipy\n",
      "import matplotlib.pyplot as plt\n",
      "import time\n",
      "from numpy import genfromtxt\n",
      "import random                       # This module is your random event selector for the MC.\n",
      "import sys                   \n",
      "from time import sleep        \n",
      "from multiprocessing import Process,Pool,cpu_count\n",
      "from multiprocessing import Queue,Pipe\n",
      "import time"
     ],
     "language": "python",
     "metadata": {},
     "outputs": [],
     "prompt_number": 1
    },
    {
     "cell_type": "markdown",
     "metadata": {},
     "source": [
      "You can identify the number of cores using cpu_count(). I do this below as an example, however, as I know I am running a hyperthreaded quad core, I am just using the cpu_num variable below to set the number of threads directly."
     ]
    },
    {
     "cell_type": "code",
     "collapsed": false,
     "input": [
      "print \"Number of CPUs detected:\",cpu_count()\n",
      "cpu_num = int(cpu_count())              "
     ],
     "language": "python",
     "metadata": {},
     "outputs": [
      {
       "output_type": "stream",
       "stream": "stdout",
       "text": [
        "Number of CPUs detected: 4\n"
       ]
      }
     ],
     "prompt_number": 2
    },
    {
     "cell_type": "markdown",
     "metadata": {},
     "source": [
      "Setting the queue is an essential step - the queue is a pipe where the output from the threads will be dumped. It is important to note, it is dumped in the order the threads are completed, not the order you call the processes in. In the notebook I linked at the top of this page there is a solution to track the process ID, and identify the thread. However, for the processes of a Monte Carlo, the order the threads are run or completed in doesn't matter, and so I haven't implemented this code here."
     ]
    },
    {
     "cell_type": "code",
     "collapsed": false,
     "input": [
      "queue=Queue()           # Queue with the data\n",
      "info_queue=Queue()      # Queue used by the processes to report that they are done"
     ],
     "language": "python",
     "metadata": {},
     "outputs": [],
     "prompt_number": 3
    },
    {
     "cell_type": "markdown",
     "metadata": {},
     "source": [
      "Below sets up some fake data (faux), and defines variables for a function that will randomly draw subsamples of faux and calculate means, with a sample size of s_size. In total, this will be done for n = iter times. \n",
      "\n",
      "In a later cell, the outputs are collected from the Queue, and the distribution of the means is graphed."
     ]
    },
    {
     "cell_type": "code",
     "collapsed": false,
     "input": [
      "faux=[]                                   # Will be a 1D array of random values\n",
      "for i in xrange(100000):\n",
      "    faux.append(random.random())          # 100,000 rand vals (0.0 to 1.0)\n",
      "faux = np.array(faux,dtype='float')\n",
      "\n",
      "s_size  =  40                             # MC sample size\n",
      "iter    =  10000                          # Number of iterations\n",
      "# Warning, upon tests, 1,000,000 iterations took about 5 mins on an i5 2.6Ghz quad core with\n",
      "# 8 simultaneous threads\n",
      "lista=[]"
     ],
     "language": "python",
     "metadata": {},
     "outputs": [],
     "prompt_number": 4
    },
    {
     "cell_type": "markdown",
     "metadata": {},
     "source": [
      "Below is the function for the Monte Carlo code. This will be run by the individual threads."
     ]
    },
    {
     "cell_type": "code",
     "collapsed": false,
     "input": [
      "def parallel(threadname):\n",
      "    mc_array = np.zeros(iter/cpu_num,dtype='f')       # MC array for means\n",
      "    mc_stdvs = np.zeros(iter/cpu_num,dtype='f')       # MC array for stdevs\n",
      "    for n in xrange(iter/cpu_num):\n",
      "        smpl_indx  = []                  # An empty list to append index values to.\n",
      "        rnd_lookup = 0                   # Wipe the random array.\n",
      "        # The range function creates a list of indexes the lenght of the array.\n",
      "        # The random function selects a sample of s_size from this list randomly.\n",
      "        rnd_lookup = random.sample(range((len(faux))),s_size)\n",
      "        for r in rnd_lookup:                   # For each of the 11 random draws\n",
      "            smpl_indx.append(r)                # Here some additional itterative task\n",
      "                                               # may be performed. In this case not.\n",
      "        mc_array[n] = np.mean(faux[smpl_indx])  # Simply find the mean and stdev.\n",
      "        mc_stdvs[n] = np.std(faux[smpl_indx])\n",
      "    queue.put(mc_array)\n",
      "    #queue.put(mc_stdvs)\n",
      "    info_queue.put('DONE')   #When thread finished send message to info_queue\n",
      "    return"
     ],
     "language": "python",
     "metadata": {},
     "outputs": [],
     "prompt_number": 5
    },
    {
     "cell_type": "markdown",
     "metadata": {},
     "source": [
      "Defines the threads to be run"
     ]
    },
    {
     "cell_type": "code",
     "collapsed": false,
     "input": [
      "p1=Process(target=parallel,name='firsthread',args=('firsthread',))\n",
      "p2=Process(target=parallel,name='secondthread',args=('secondthread',))\n",
      "p3=Process(target=parallel,name='thirdthread',args=('thirdthread',))\n",
      "p4=Process(target=parallel,name='fourththread',args=('fourththread',))\n",
      "p5=Process(target=parallel,name='fiththread',args=('fiththread',))\n",
      "p6=Process(target=parallel,name='sixththread',args=('sixththread',))\n",
      "p7=Process(target=parallel,name='sevenththread',args=('sevenththread',))\n",
      "p8=Process(target=parallel,name='eighthread',args=('eighthread',))"
     ],
     "language": "python",
     "metadata": {},
     "outputs": [],
     "prompt_number": 6
    },
    {
     "cell_type": "markdown",
     "metadata": {},
     "source": [
      "This is one (simple) way of starting the processess - calling each one manually and individually."
     ]
    },
    {
     "cell_type": "code",
     "collapsed": false,
     "input": [
      "%%time\n",
      "print 'Starting threads'\n",
      "p1.start()\n",
      "p2.start()\n",
      "p3.start()\n",
      "p4.start()\n",
      "p5.start()\n",
      "p6.start()\n",
      "p7.start()\n",
      "p8.start()\n",
      "\n",
      "# You could also call the threads to start by the below method.\n",
      "pnames = [p1,p2,p3,p4,p5,p6,p7,p8]           # A pointer to the thread names.\n",
      "#for process in pnames:                      \n",
      "#    process.start()"
     ],
     "language": "python",
     "metadata": {},
     "outputs": [
      {
       "output_type": "stream",
       "stream": "stdout",
       "text": [
        "Starting threads\n"
       ]
      },
      {
       "output_type": "stream",
       "stream": "stdout",
       "text": [
        "CPU times: user 3.58 ms, sys: 14 ms, total: 17.6 ms\n",
        "Wall time: 57.6 ms\n"
       ]
      }
     ],
     "prompt_number": 7
    },
    {
     "cell_type": "markdown",
     "metadata": {},
     "source": [
      "The below cell verifies the processes have finished (a bit redundent in an iPython Notebook, but not in a script), and collects the data from the queue."
     ]
    },
    {
     "cell_type": "code",
     "collapsed": false,
     "input": [
      "pnames = [p1,p2,p3,p4,p5,p6,p7,p8]           # Just a pointer to the thread names...\n",
      "#for process in pnames:                      # You could also run the threads using a loop\n",
      "#    process.start()\n",
      "\n",
      "\n",
      "done_count=0\n",
      "processes=cpu_num                #Number of child processes being used\n",
      "while done_count<processes:      #Makes sure we do not pass this point until all the processes are done\n",
      "    if info_queue.get()=='DONE': #Waits until a thread puts something, if they put DONE increment done_count\n",
      "        done_count+=1            #Once all the processes are done, we get the data and paint it\n",
      "means_out=[]"
     ],
     "language": "python",
     "metadata": {},
     "outputs": [],
     "prompt_number": 8
    },
    {
     "cell_type": "markdown",
     "metadata": {},
     "source": [
      "Data from the Queue will then be read back in, and appended to a large variable. From this, I will plot the PDF below."
     ]
    },
    {
     "cell_type": "code",
     "collapsed": false,
     "input": [
      "print 'Before: Queue empty?', queue.empty()       # This should be false here...\n",
      "while not queue.empty():                          # Check the data is in the queue...\n",
      "    for process in pnames:                        # If it is there, for every process..\n",
      "        tmp_mns = 0\n",
      "        tmp_mns = queue.get()                     #...put the data into temp arrays...\n",
      "        for n in xrange(len(tmp_mns)):            #...for each element of data in the lists...\n",
      "            means_out.append(tmp_mns[n])          #...append it to a 1D list.\n",
      "print 'After: Queue empty?', queue.empty()      # and true here...\n",
      "print 'length of means',len(means_out)"
     ],
     "language": "python",
     "metadata": {},
     "outputs": [
      {
       "output_type": "stream",
       "stream": "stdout",
       "text": [
        "Before: Queue empty? False\n",
        "After: Queue empty?"
       ]
      },
      {
       "output_type": "stream",
       "stream": "stdout",
       "text": [
        " True\n",
        "length of means 20000\n"
       ]
      }
     ],
     "prompt_number": 9
    },
    {
     "cell_type": "markdown",
     "metadata": {},
     "source": [
      "A pretty density plot of the means is generated, and also a small fit is overplotted."
     ]
    },
    {
     "cell_type": "code",
     "collapsed": false,
     "input": [
      "mu = np.mean(means_out) # mean of distribution\n",
      "sigma = np.std(means_out) # standard deviation of distribution\n",
      "num_bins = 50\n",
      "\n",
      "# the histogram of the data\n",
      "n, bins, patches = plt.hist(means_out, num_bins, normed=1, facecolor='green', alpha=0.5)\n",
      "# add a 'best fit' line\n",
      "y = mlab.normpdf(bins, mu, sigma)\n",
      "plt.plot(bins, y, 'r--')\n",
      "plt.xlabel('Mean (unitless)')\n",
      "plt.ylabel('Density (%)')\n",
      "plt.title((r'Distribution from $n=$'+str(iter)+' iterations'))"
     ],
     "language": "python",
     "metadata": {},
     "outputs": [
      {
       "metadata": {},
       "output_type": "pyout",
       "prompt_number": 10,
       "text": [
        "<matplotlib.text.Text at 0x106083e10>"
       ]
      },
      {
       "metadata": {},
       "output_type": "display_data",
       "png": "[encoded data removed]",
       "text": [
        "<matplotlib.figure.Figure at 0x106016ad0>"
       ]
      }
     ],
     "prompt_number": 10
    }
   ],
   "metadata": {}
  }
 ]
}