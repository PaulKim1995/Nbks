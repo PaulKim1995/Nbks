{
 "metadata": {
  "name": "",
  "signature": "sha256:e909f70eaca10a255b5426d2ea8ad28525a22a53554bc3c7b2f20c052a4f3e59"
 },
 "nbformat": 3,
 "nbformat_minor": 0,
 "worksheets": [
  {
   "cells": [
    {
     "cell_type": "heading",
     "level": 1,
     "metadata": {},
     "source": [
      "Clouds And A Cosmic Ray Link"
     ]
    },
    {
     "cell_type": "heading",
     "level": 2,
     "metadata": {},
     "source": [
      "Part 2: Extreme event analysis with real data"
     ]
    },
    {
     "cell_type": "heading",
     "level": 4,
     "metadata": {},
     "source": [
      "Dr. Benjamin A. Laken,  University of Oslo, Norway"
     ]
    },
    {
     "cell_type": "markdown",
     "metadata": {},
     "source": [
      "    Contact: benjamin.laken@geo.uio.no \n",
      "\n",
      "As motivation, many studies have used a form of extreme event analysis to investigate notions of a solar\u2013terrestrial linkage. These studies have often taken a composite analysis approach, by investigating if climatological parameters (such as cloud properties) undergo any detectable statistically significant changes in association with significant changes in a solar-related parameter (such as the cosmic ray flux, irradiance changes, or solar energetic particles) resulting from short-term variations in space-weather. \n",
      "\n",
      "A large volume of articles exist on this topic, often presenting conflicting or confusing results. One primary reason for the confusion within this field is the complex nature of the composite/extreme event analysis. In this lesson we will use real datasets to explore a robust method of performing such analyses. \n",
      "\n",
      "If you wish to read more about the background motivation, or an introduction to how composite analyses have been used in this field, you can see my open access paper on this topic at the below link.\n",
      "\n",
      "http://www.swsc-journal.org/articles/swsc/abs/2012/01/swsc120049/swsc120049.html\n",
      "\n",
      "We will be using the PANDAS module to read in, and handle a database of cosmic ray and cloud cover data.\n",
      "You can read about a quick-start PANDAS guide here: http://pandas.pydata.org/pandas-docs/stable/10min.html \n",
      "\n",
      "We will import some data from a CSV (comma separated text file) held on a public server. Put another way, Python is so great, you can easily download a file to work from -- the data file is not actually on your local machine!\n",
      "\n",
      "These data are described in one of my papers (the link is below), but they are essentially a normalised cosmic ray flux (units as %) calculated from several neutron monitors, and Infrared-detected globally-averaged cloud cover (units as %), from the International Satellite Cloud Climatology Project D1 dataset (daily-averaged).\n",
      "\n",
      "http://www.swsc-journal.org/articles/swsc/abs/2013/01/swsc130020/swsc130020.html"
     ]
    },
    {
     "cell_type": "code",
     "collapsed": false,
     "input": [
      "import numpy as np      \n",
      "import scipy as sci\n",
      "import matplotlib.pyplot as plt\n",
      "import pandas as pd                                 # Import PANDAS\n",
      "import datetime as dt                               # We will also use a function from datetime\n",
      "pylab.rcParams['figure.figsize']=(10.0,8.0)         # This line makes figures larger"
     ],
     "language": "python",
     "metadata": {},
     "outputs": [],
     "prompt_number": 2
    },
    {
     "cell_type": "code",
     "collapsed": false,
     "input": [
      "# Download a CSV datafile from the following link, and place the data in a DataFrame structure\n",
      "realdata = pd.read_csv('http://files.benlaken.com/documents/cloud_cosmic.csv')"
     ],
     "language": "python",
     "metadata": {},
     "outputs": [],
     "prompt_number": 4
    },
    {
     "cell_type": "code",
     "collapsed": false,
     "input": [
      "realdata.index = pd.date_range('19830701', '20091231', freq='D')   # Set a pd.timeobject as an index"
     ],
     "language": "python",
     "metadata": {},
     "outputs": [],
     "prompt_number": 5
    },
    {
     "cell_type": "code",
     "collapsed": false,
     "input": [
      "# Type the variable name 'realdata', and run the cell to explore the dataframe object we have created\n",
      "\n"
     ],
     "language": "python",
     "metadata": {},
     "outputs": [],
     "prompt_number": 23
    },
    {
     "cell_type": "markdown",
     "metadata": {},
     "source": [
      "Now we have a very flexible and powerful Dataframe object, indexed by calendar dates. This can be used to do very complex analyses. Now we will just to begin to give you some idea of the use of this DataFrame object. Examine some of the methods attached to the DataFrame object below..."
     ]
    },
    {
     "cell_type": "code",
     "collapsed": false,
     "input": [],
     "language": "python",
     "metadata": {},
     "outputs": [],
     "prompt_number": 23
    },
    {
     "cell_type": "markdown",
     "metadata": {},
     "source": [
      "There are missing values in the data, these will cause us some troubles, so we are going to identify them (use the numpy function `WHERE`) and replace them with a NUMPY variable `NAN` (which stands for not-a-number).\n",
      "\n",
      "*It is important to note, that the `np.where()` function will only work on numpy array objects*"
     ]
    },
    {
     "cell_type": "code",
     "collapsed": false,
     "input": [
      "print 'lowest value in cloud data:',min(realdata.cloud)\n",
      "tmp = np.where(realdata.cloud == -999.0)                     # Find all points where missing value\n",
      "print 'Missing points at',len(tmp[0])\n",
      "realdata.cloud[tmp[0]] = np.nan                               # Overwrite -99.0 with NAN\n",
      "\n",
      "del tmp\n",
      "print 'lowest value in cosmic ray data:',min(realdata.c_rays)\n",
      "tmp = np.where(realdata.c_rays == -999.0) \n",
      "print 'Missing cosmic ray points at',len(tmp[0])\n",
      "realdata.c_rays[tmp[0]] = np.nan "
     ],
     "language": "python",
     "metadata": {},
     "outputs": [
      {
       "output_type": "stream",
       "stream": "stdout",
       "text": [
        "lowest value in cloud data: -999.0\n",
        "Missing points at 4\n",
        "lowest value in cosmic ray data: -999.0\n",
        "Missing cosmic ray points at 161\n"
       ]
      }
     ],
     "prompt_number": 6
    },
    {
     "cell_type": "markdown",
     "metadata": {},
     "source": [
      "Once the objects have the missing values accounted for, you can readily plot from these objects with very little instructions needed."
     ]
    },
    {
     "cell_type": "code",
     "collapsed": false,
     "input": [
      "my_ts = plt.figure()\n",
      "my_ts.set_size_inches(9.,5.)     # Specify the output size exactly\n",
      "ax1 = my_ts.add_subplot(211)        # Add an axis frame object to the plot (i.e. a pannel)\n",
      "ax2 = my_ts.add_subplot(212)\n",
      "\n",
      "ax1.plot(realdata.index,realdata.cloud,'b,',alpha=0.8)\n",
      "ax1.set_title('Time series objects')\n",
      "ax1.set_ylabel('Cloud cover (%)')\n",
      "ax1.grid(True)\n",
      "\n",
      "ax2.plot(realdata.index,realdata.c_rays,'r,',alpha=0.8)\n",
      "ax2.set_xlabel('Year')\n",
      "ax2.set_ylabel('Norm. cosmic ray flux (%)')\n",
      "ax2.grid(True)\n",
      "\n",
      "plt.show(my_ts)\n",
      "\n",
      "# You can even save the figure locally (in the folder you are working in)\n",
      "# by uncommenting the below line...\n",
      "#plt.savefig('test.png',dpi=300)  # This line will save the figure!"
     ],
     "language": "python",
     "metadata": {},
     "outputs": [
      {
       "metadata": {},
       "output_type": "display_data",
       "png": "[encoded data removed]",
       "text": [
        "<matplotlib.figure.Figure at 0x108322490>"
       ]
      }
     ],
     "prompt_number": 11
    },
    {
     "cell_type": "markdown",
     "metadata": {},
     "source": [
      "Excellent! Now we have something useful, and can start to query the data to investigate the idea that short-term variations in cosmic rays could be linked to cloud cover changes. Before we do this, we must learn how to extract specific parts of the data. PANDAS makes this easy, as we can simply tell it what dates we are interested in, and extract them.\n",
      "\n",
      "We can do this by using indexes as either an integer count (0 to n) or as a date, to isolate data. "
     ]
    },
    {
     "cell_type": "code",
     "collapsed": false,
     "input": [
      "print 'Cloud cover on a given date:',realdata.cloud['1985-01-01']\n",
      "print 'Normalized cosmic ray flux on a given date:',realdata.c_rays['1985-01-01']"
     ],
     "language": "python",
     "metadata": {},
     "outputs": [
      {
       "output_type": "stream",
       "stream": "stdout",
       "text": [
        "Cloud cover on a given date: 61.2572\n",
        "Normalized cosmic ray flux on a given date: -1.76369\n"
       ]
      }
     ],
     "prompt_number": 12
    },
    {
     "cell_type": "markdown",
     "metadata": {},
     "source": [
      "You can even isolate ranges of dates..."
     ]
    },
    {
     "cell_type": "code",
     "collapsed": false,
     "input": [
      "print 'Cloud cover over a date range:'\n",
      "print realdata.cloud['1985-01-01':'1985-01-10']"
     ],
     "language": "python",
     "metadata": {},
     "outputs": [
      {
       "output_type": "stream",
       "stream": "stdout",
       "text": [
        "Cloud cover over a date range:\n",
        "1985-01-01    61.2572\n",
        "1985-01-02    60.7963\n",
        "1985-01-03    60.1071\n",
        "1985-01-04    60.8245\n",
        "1985-01-05    60.9638\n",
        "1985-01-06    60.2823\n",
        "1985-01-07    60.1229\n",
        "1985-01-08    60.2994\n",
        "1985-01-09    61.1270\n",
        "1985-01-10    61.1024\n",
        "Freq: D, Name: cloud, dtype: float64\n"
       ]
      }
     ],
     "prompt_number": 13
    },
    {
     "cell_type": "markdown",
     "metadata": {},
     "source": [
      "Specifying a date, you can extract and plot the values around this date."
     ]
    },
    {
     "cell_type": "code",
     "collapsed": false,
     "input": [
      "# User inputs a date called key, and a number of days called window.\n",
      "key = raw_input(\"What is your date of interest (yyyy-mm-dd)? \")\n",
      "window = int(raw_input(\"How many days around the key date? \"))\n",
      "\n",
      "yr = int(key[0:4])  # Break up the user input into integer yy,mm,dd\n",
      "mm = int(key[5:7])  # ignoring the '-' characters\n",
      "dd = int(key[8:10])\n",
      "\n",
      "start_day = pd.datetime(yr,mm,dd).date() - dt.timedelta(days=window)\n",
      "end_day = pd.datetime(yr,mm,dd).date() + dt.timedelta(days=window)\n",
      "\n",
      "print 'Working for ',start_day,':',end_day\n",
      "\n",
      "tmp = realdata[start_day:end_day]"
     ],
     "language": "python",
     "metadata": {},
     "outputs": [
      {
       "name": "stdout",
       "output_type": "stream",
       "stream": "stdout",
       "text": [
        "What is your date of interest (yyyy-mm-dd)? 1999-12-31\n"
       ]
      },
      {
       "name": "stdout",
       "output_type": "stream",
       "stream": "stdout",
       "text": [
        "How many days around the key date? 10\n"
       ]
      },
      {
       "output_type": "stream",
       "stream": "stdout",
       "text": [
        "Working for  1999-12-21 : 2000-01-10\n"
       ]
      }
     ],
     "prompt_number": 14
    },
    {
     "cell_type": "heading",
     "level": 2,
     "metadata": {},
     "source": [
      "Now you will plot the cloud and cosmic ray data around your chosen key day"
     ]
    },
    {
     "cell_type": "code",
     "collapsed": false,
     "input": [
      "print tmp  # Have a look at what you have (a slice of a DataFrame object)"
     ],
     "language": "python",
     "metadata": {},
     "outputs": [
      {
       "output_type": "stream",
       "stream": "stdout",
       "text": [
        "            day  month  year    cloud   c_rays\n",
        "1999-12-21   21     12  1999  59.3640 -2.90137\n",
        "1999-12-22   22     12  1999  59.2927 -3.12683\n",
        "1999-12-23   23     12  1999  58.5570 -3.33724\n",
        "1999-12-24   24     12  1999  58.9986 -3.58472\n",
        "1999-12-25   25     12  1999  60.1717 -4.03118\n",
        "1999-12-26   26     12  1999  60.7206 -4.78063\n",
        "1999-12-27   27     12  1999  59.8716 -5.18884\n",
        "1999-12-28   28     12  1999  58.5321 -5.05920\n",
        "1999-12-29   29     12  1999  58.6976 -3.96527\n",
        "1999-12-30   30     12  1999  58.4646 -2.51407\n",
        "1999-12-31   31     12  1999  58.9761 -2.83686\n",
        "2000-01-01    1      1  2000  57.4266 -2.36526\n",
        "2000-01-02    2      1  2000  58.2326 -2.42741\n",
        "2000-01-03    3      1  2000  58.8107 -2.30079\n",
        "2000-01-04    4      1  2000  58.8336 -2.92386\n",
        "2000-01-05    5      1  2000  59.0431 -2.72691\n",
        "2000-01-06    6      1  2000  59.6877 -2.69624\n",
        "2000-01-07    7      1  2000  59.5917 -2.89773\n",
        "2000-01-08    8      1  2000  58.8904 -2.56729\n",
        "2000-01-09    9      1  2000  58.6485 -2.40371\n",
        "2000-01-10   10      1  2000  57.4984 -2.11183\n"
       ]
      }
     ],
     "prompt_number": 15
    },
    {
     "cell_type": "code",
     "collapsed": false,
     "input": [
      "# This slice can be easily plotted.\n",
      "my_key = plt.figure()\n",
      "ax1 = my_key.add_subplot(111)\n",
      "\n",
      "ax1.plot(tmp.index,tmp.cloud,'b-',alpha=0.8)\n",
      "ax1.set_title((r'$\\pm$'+str(window)+' days around '+key))\n",
      "ax1.set_ylabel('Cloud cover (%)')\n",
      "\n",
      "ax2 = ax1.twinx()\n",
      "ax2.plot(tmp.index,tmp.c_rays,'r--',alpha=0.8)\n",
      "ax2.set_ylabel('Norm. cosmic ray flux (%)')\n",
      "\n",
      "ax1.xaxis_date()\n",
      "my_key.autofmt_xdate()\n",
      "\n",
      "my_key.text(0.2, 0.4, r\"Cloud cover\",fontsize=9,color='b')\n",
      "my_key.text(0.2, 0.35, r\"Cosmic ray flux\",fontsize=9,color='r')\n",
      "\n",
      "plt.show(my_key)"
     ],
     "language": "python",
     "metadata": {},
     "outputs": [
      {
       "metadata": {},
       "output_type": "display_data",
       "png": "[encoded data removed]",
       "text": [
        "<matplotlib.figure.Figure at 0x1081acc90>"
       ]
      }
     ],
     "prompt_number": 16
    },
    {
     "cell_type": "markdown",
     "metadata": {},
     "source": [
      "Of course, I have just done this in a very long-winded way. There is nothing to stop you from plotting this slice as subscripts directly from the original dataframe (without the need to create the tmp variable). \n",
      "\n",
      "However, I showed it to you broke up in this manner, as in the next stage---the accumulation of multiple 'slices' of the dataframe---it is easier to think/and work from temporary arrays. This also makes it easy to debug and follow your own code, to make sure everything is correct.\n",
      "\n",
      "The accumulation/stacking of multiple 'key' date values, is a method referred to by numerous names: e.g. composite, epoch superposition, Chree analysis, conditional averaging. It is essentially, the averaging together of numerous events, with the intent of increasing the signal-to-noise ratio of your data. \n",
      "\n",
      "--\n",
      "*Extra info: This method has often been used to investigate solar--climate links, as there are many advantages of this type of analysis (for an introduction to how composite analyses have been used in this field, you can see the open access paper at http://www.swsc-journal.org/articles/swsc/abs/2012/01/swsc120049/swsc120049.html).*"
     ]
    },
    {
     "cell_type": "code",
     "collapsed": false,
     "input": [
      "window = 10                          # number of days plus/minus to examine\n",
      "pm = dt.timedelta(days=window)      # A value to subtract/add to dates\n",
      "\n",
      "# I have randomly picked 3 days...\n",
      "d1 = pd.datetime(1985,12,11).date()\n",
      "d2 = pd.datetime(1999,12,31).date()\n",
      "d3 = pd.datetime(2004,05,01).date()\n",
      "\n",
      "\n",
      "print 'Using ',d1 - pm,':',d1 + pm\n",
      "print 'Using ',d2 - pm,':',d2 + pm\n",
      "print 'Using ',d3 - pm,':',d3 + pm\n",
      "\n",
      "tmp1 = np.array(realdata.cloud[d1 - pm : d1 + pm])\n",
      "tmp2 = np.array(realdata.cloud[d2 - pm : d2 + pm])\n",
      "tmp3 = np.array(realdata.cloud[d3 - pm : d3 + pm])\n",
      "\n",
      "c_cloud =[]\n",
      "c_cloud_err =[]\n",
      "for i in xrange(len(tmp1)):\n",
      "    group = [tmp1[i],tmp2[i],tmp3[i]]\n",
      "    c_cloud.append(np.average(group))\n",
      "    c_cloud_err.append(np.std(group)/np.sqrt(len(group)))     # SEM = STD/SQRT(N)    \n",
      "\n",
      "    \n",
      "#c_cloud  = np.average(tmp1[],tmp2,tmp3)\n",
      "#c_cloud_err =[]\n",
      "\n",
      "#tmp.cloud = []"
     ],
     "language": "python",
     "metadata": {},
     "outputs": [
      {
       "output_type": "stream",
       "stream": "stdout",
       "text": [
        "Using  1985-12-01 : 1985-12-21\n",
        "Using  1999-12-21 : 2000-01-10\n",
        "Using  2004-04-21 : 2004-05-11\n"
       ]
      }
     ],
     "prompt_number": 17
    },
    {
     "cell_type": "code",
     "collapsed": false,
     "input": [
      "# The composite and its error can now easily be plotted.\n",
      "\n",
      "xsubs = range(-window,window+1)        # Create X-axis subscripts\n",
      "\n",
      "my_composite = plt.figure()\n",
      "ax1 = my_composite.add_subplot(111)\n",
      "ax1.errorbar(xsubs,c_cloud,yerr=c_cloud_err,fmt='-',ms=1.0,color='b',capsize=1.0,alpha=0.4)\n",
      "ax1.set_xlabel(('Days since key event'))\n",
      "ax1.set_title(('Composite of n = 3 events'))\n",
      "ax1.set_ylabel('Cloud cover (%)')\n",
      "ax1.set_xlim([min(xsubs),max(xsubs)])\n",
      "my_composite.text(0.2, 0.8, r\"Cloud cover\",fontsize=9,color='b')\n",
      "plt.show(my_composite)"
     ],
     "language": "python",
     "metadata": {},
     "outputs": [
      {
       "metadata": {},
       "output_type": "display_data",
       "png": "[encoded data removed]",
       "text": [
        "<matplotlib.figure.Figure at 0x10a610390>"
       ]
      }
     ],
     "prompt_number": 309
    },
    {
     "cell_type": "heading",
     "level": 2,
     "metadata": {},
     "source": [
      "Creating your own composite test"
     ]
    },
    {
     "cell_type": "markdown",
     "metadata": {},
     "source": [
      "In this section of the notebook, you are going to apply the methods you have previously seen, and code your own composite analysis using the cloud and cosmic ray data (of course, if you wanted to you can add more datasets). I am not going to tell you the parameters of your test --- you can create your own test by deciding yourself what 'key events' you are going to focus on. However, an example of some features you may wish to vary are: the intensity of the events you include.\n",
      "\n",
      "From NOAA, there are some lists of Forbush Decrease and Ground Level Enhancement events:\n",
      "ftp://ftp.ngdc.noaa.gov/STP/SOLAR_DATA/COSMIC_RAYS/ground-level-enhancements/ground-level-enhancements.txt\n",
      "\n",
      "http://www.ngdc.noaa.gov/stp/space-weather/interplanetary-data/cosmic-rays/forbush-decreases/forbush-decrease_mt-washington-supplemental.txt\n",
      "\n",
      "http://previ.obspm.fr/hidden3/search.php\n",
      "\n",
      "http://cosmicrays.oulu.fi/GLE.html\n",
      "\n",
      "You can also hunt for more resources, the following may be useful:\n",
      "\n",
      "http://spidr.ngdc.noaa.gov/spidr/\n",
      "\n",
      "http://www.cbpf.br/~icrc2013/papers/icrc2013-0393.pdf\n",
      "\n",
      "http://cr0.izmiran.rssi.ru/common/links.htm#Space%20Weather\n",
      "\n",
      "*Extra info: There are many resources online to help you, many of my papers contain key dates, and descriptions of how composites are built and evaluated (http://www.benlaken.com/publications.html)*"
     ]
    },
    {
     "cell_type": "code",
     "collapsed": false,
     "input": [
      "# Create your own composites - calculate the mean and error"
     ],
     "language": "python",
     "metadata": {},
     "outputs": []
    },
    {
     "cell_type": "code",
     "collapsed": false,
     "input": [
      "# Plot your own composites (including the accompanying cosmic ray change!)"
     ],
     "language": "python",
     "metadata": {},
     "outputs": []
    },
    {
     "cell_type": "heading",
     "level": 2,
     "metadata": {},
     "source": [
      "How can you tell if the changes you see in a composite are unusual or not?"
     ]
    },
    {
     "cell_type": "markdown",
     "metadata": {},
     "source": [
      "This is a very interesting (and long) question to answer. Instead of attempting to do so, I will instead demonstrate how you can simply find out, from the data itself.\n",
      "\n",
      "I will briefly describe how to do this. Imagine you have created a composite sample of data, and you want to know if the means you observe in your sample are unusual.\n",
      "\n",
      "One method of approaching this is to repeatedly sample the original dataset, creating n-number of random samples of an equal size to your original sample. If you have obtained enough random samples, you can then evaluate the probability of your original sample by comparing it to the distribution of the randomly obtained means.\n",
      "\n",
      "I have created a function to do this for you below, it only requires that you tell it how long of a time-window you have chosen to use, and how many events are in your sample. From this, it will give you confidence intervals, to show you what range of values you would expect to obtain from similar sampling, by chance only (i.e. in the absence of deterministic effects). Comparing your sample to these confidence intervals is a hypothesis test: H0, the sample is not distinguishable from chance, or H1, the sample is different from a chance situation.\n"
     ]
    },
    {
     "cell_type": "code",
     "collapsed": false,
     "input": [
      "#=================================================================================\n",
      "#                                       MonteCarlo \n",
      "#                       -------------------------------------\n",
      "#\n",
      "#  This function is a type of Monte Carlo method of evaluating statitical significance.\n",
      "#  It will tell you, from a given dataset, how likely it is that you can get values of a given size by chance.\n",
      "#  In this case, it returns values to show you the confidence intervals at a given percentile value.\n",
      "#\n",
      "#  Input: dat (A series of data, i.e. the parent population which your composite has been drawn from)\n",
      "#         s_size (The sample size, i.e. the number of key events which have gone into your composite)\n",
      "#         width (The number of days eitherside of your composite which you want a value for)\n",
      "#         iter_num (the number of iterations/loops to make in the Monte Carlo. \n",
      "#               More = better precision, but takes longer. Increasing it only improves it for a while).\n",
      "#\n",
      "#  Output: Lists of percentile values covering 90, 95, 99, 10, 05, and 1 percentiles of the Monte Carlo distribution.\n",
      "#\n",
      "import random                           # We need the Random module for this function to work.\n",
      "from scipy import stats                 # We also need the stats module to calculate percentiles.\n",
      "#\n",
      "def MonteCarlo(dat,s_size,width,iter_num):\n",
      "    mc_array = []\n",
      "    subs = range((0+width),(len(realdata)-width),1)   # Index subscripts the lenght of dat, leaving sufficent edges \n",
      "    p90=[] ; p95=[]; p99=[] ; p10=[] ; p05=[] ; p01=[]\n",
      "    for n in xrange(iter_num):                      # Begin the Monte Carlo loop (of size iter_num).\n",
      "        print '\\r Loop '+str(n),\n",
      "        rnd_lookup = random.sample(subs,s_size)     # Draw a random set of n=s_size subscripts to use as indexes.\n",
      "        smpl_indx  = []                             # An empty list to append index values to.\n",
      "        rnd_smpl = []                               # Temporary 2D array to hold the random sample (keys x width).\n",
      "        tmp_mns = []                                # Temporary Means.\n",
      "        # Create a 2D array of individual random events.\n",
      "        for r in rnd_lookup:                        # For each of the random draws...\n",
      "            rnd_smpl.append(dat[r-width:r+width])   # ...append a key day and +/- width days to a temp array...\n",
      "        rnd_smpl = np.array(rnd_smpl)               # ...make it a Numpy array to access elements with ease.\n",
      "        # Average the 2D array, into a 1D (mean through time) array\n",
      "        for i in xrange((width * 2)):               # Loop over each day of the time window.\n",
      "            tmp_mns.append(np.average(rnd_smpl[:,i]))    # Calculate the mean of the random sample over the time window.\n",
      "        # Place the 1D values (mean of sample size, n = day from key event) into a big hold-all array\n",
      "        mc_array.append(tmp_mns)\n",
      "        # After the big MC loop has finished, and the hold-all array is full. Use it to find the\n",
      "        # percentile values which relate to each day of the time-window.\n",
      "    mc_array = np.array(mc_array)               # Reform the lists of averages into a np array.\n",
      "    for i in xrange((width * 2)):               # For each day of the time window...\n",
      "        p90.append(stats.scoreatpercentile(mc_array[:,i],90))    # ...find the nth percentile uncertainty values \n",
      "        p95.append(stats.scoreatpercentile(mc_array[:,i],95)) \n",
      "        p99.append(stats.scoreatpercentile(mc_array[:,i],99)) \n",
      "        p10.append(stats.scoreatpercentile(mc_array[:,i],10))\n",
      "        p05.append(stats.scoreatpercentile(mc_array[:,i],5)) \n",
      "        p01.append(stats.scoreatpercentile(mc_array[:,i],1))\n",
      "    print 'Finished MC process'\n",
      "    return p90,p95,p99,p10,p05,p01"
     ],
     "language": "python",
     "metadata": {},
     "outputs": [],
     "prompt_number": 18
    },
    {
     "cell_type": "markdown",
     "metadata": {},
     "source": [
      "Now the function is done, it is very easy to implement. It runs in the cell below (and a figure is plotted below that).\n",
      "\n",
      "Note, the convergence of the MC (that is, the amount to which the various MC results agree with each other, and thus produce a smoother, or more disturbed line in the below figure) depends on the number of iterations (the variable iter_num below). You can change iter_num to achieve more precision with the MC, but be aware that the degree of convergence experiences strongly (power-law) diminishing gains in precision with increasing iterations, while the run-time (computational cost) increases linearly!   "
     ]
    },
    {
     "cell_type": "code",
     "collapsed": false,
     "input": [
      "%%time \n",
      "# The time magic function above will tell you how long this cell takes to run\n",
      "width = 10\n",
      "s_size = 5\n",
      "iter_num    =  1000 \n",
      "p90,p95,p99,p10,p05,p01 = MonteCarlo(realdata.cloud,s_size,width,iter_num)"
     ],
     "language": "python",
     "metadata": {},
     "outputs": [
      {
       "output_type": "stream",
       "stream": "stdout",
       "text": [
        "\r",
        " Loop 0 \r",
        " Loop 1 \r",
        " Loop 2 \r",
        " Loop 3 \r",
        " Loop 4 \r",
        " Loop 5 \r",
        " Loop 6 \r",
        " Loop 7 \r",
        " Loop 8 \r",
        " Loop 9 \r",
        " Loop 10 \r",
        " Loop 11 \r",
        " Loop 12 \r",
        " Loop 13 \r",
        " Loop 14 \r",
        " Loop 15 \r",
        " Loop 16 "
       ]
      },
      {
       "output_type": "stream",
       "stream": "stdout",
       "text": [
        "\r",
        " Loop 17 \r",
        " Loop 18 \r",
        " Loop 19 \r",
        " Loop 20 \r",
        " Loop 21 \r",
        " Loop 22 \r",
        " Loop 23 \r",
        " Loop 24 \r",
        " Loop 25 \r",
        " Loop 26 \r",
        " Loop 27 \r",
        " Loop 28 \r",
        " Loop 29 \r",
        " Loop 30 \r",
        " Loop 31 \r",
        " Loop 32 \r",
        " Loop 33 \r",
        " Loop 34 \r",
        " Loop 35 \r",
        " Loop 36 "
       ]
      },
      {
       "output_type": "stream",
       "stream": "stdout",
       "text": [
        "\r",
        " Loop 37 \r",
        " Loop 38 \r",
        " Loop 39 \r",
        " Loop 40 \r",
        " Loop 41 \r",
        " Loop 42 \r",
        " Loop 43 \r",
        " Loop 44 \r",
        " Loop 45 \r",
        " Loop 46 \r",
        " Loop 47 \r",
        " Loop 48 \r",
        " Loop 49 \r",
        " Loop 50 \r",
        " Loop 51 \r",
        " Loop 52 \r",
        " Loop 53 \r",
        " Loop 54 \r",
        " Loop 55 \r",
        " Loop 56 \r",
        " Loop 57 \r",
        " Loop 58 \r",
        " Loop 59 "
       ]
      },
      {
       "output_type": "stream",
       "stream": "stdout",
       "text": [
        "\r",
        " Loop 60 \r",
        " Loop 61 \r",
        " Loop 62 \r",
        " Loop 63 \r",
        " Loop 64 \r",
        " Loop 65 \r",
        " Loop 66 \r",
        " Loop 67 \r",
        " Loop 68 \r",
        " Loop 69 \r",
        " Loop 70 \r",
        " Loop 71 \r",
        " Loop 72 \r",
        " Loop 73 \r",
        " Loop 74 \r",
        " Loop 75 \r",
        " Loop 76 \r",
        " Loop 77 \r",
        " Loop 78 \r",
        " Loop 79 \r",
        " Loop 80 \r",
        " Loop 81 \r",
        " Loop 82 \r",
        " Loop 83 \r",
        " Loop 84 "
       ]
      },
      {
       "output_type": "stream",
       "stream": "stdout",
       "text": [
        "\r",
        " Loop 85 \r",
        " Loop 86 \r",
        " Loop 87 \r",
        " Loop 88 \r",
        " Loop 89 \r",
        " Loop 90 \r",
        " Loop 91 \r",
        " Loop 92 \r",
        " Loop 93 \r",
        " Loop 94 \r",
        " Loop 95 \r",
        " Loop 96 \r",
        " Loop 97 \r",
        " Loop 98 \r",
        " Loop 99 \r",
        " Loop 100 \r",
        " Loop 101 \r",
        " Loop 102 \r",
        " Loop 103 \r",
        " Loop 104 \r",
        " Loop 105 \r",
        " Loop 106 \r",
        " Loop 107 \r",
        " Loop 108 \r",
        " Loop 109 \r",
        " Loop 110 "
       ]
      },
      {
       "output_type": "stream",
       "stream": "stdout",
       "text": [
        "\r",
        " Loop 111 \r",
        " Loop 112 \r",
        " Loop 113 \r",
        " Loop 114 \r",
        " Loop 115 \r",
        " Loop 116 \r",
        " Loop 117 \r",
        " Loop 118 \r",
        " Loop 119 \r",
        " Loop 120 \r",
        " Loop 121 \r",
        " Loop 122 \r",
        " Loop 123 \r",
        " Loop 124 \r",
        " Loop 125 \r",
        " Loop 126 \r",
        " Loop 127 \r",
        " Loop 128 \r",
        " Loop 129 \r",
        " Loop 130 \r",
        " Loop 131 \r",
        " Loop 132 \r",
        " Loop 133 \r",
        " Loop 134 \r",
        " Loop 135 \r",
        " Loop 136 "
       ]
      },
      {
       "output_type": "stream",
       "stream": "stdout",
       "text": [
        "\r",
        " Loop 137 \r",
        " Loop 138 \r",
        " Loop 139 \r",
        " Loop 140 \r",
        " Loop 141 \r",
        " Loop 142 \r",
        " Loop 143 \r",
        " Loop 144 \r",
        " Loop 145 \r",
        " Loop 146 \r",
        " Loop 147 \r",
        " Loop 148 \r",
        " Loop 149 \r",
        " Loop 150 \r",
        " Loop 151 \r",
        " Loop 152 \r",
        " Loop 153 \r",
        " Loop 154 \r",
        " Loop 155 \r",
        " Loop 156 \r",
        " Loop 157 \r",
        " Loop 158 \r",
        " Loop 159 \r",
        " Loop 160 \r",
        " Loop 161 \r",
        " Loop 162 "
       ]
      },
      {
       "output_type": "stream",
       "stream": "stdout",
       "text": [
        "\r",
        " Loop 163 \r",
        " Loop 164 \r",
        " Loop 165 \r",
        " Loop 166 \r",
        " Loop 167 \r",
        " Loop 168 \r",
        " Loop 169 \r",
        " Loop 170 \r",
        " Loop 171 \r",
        " Loop 172 \r",
        " Loop 173 \r",
        " Loop 174 \r",
        " Loop 175 \r",
        " Loop 176 \r",
        " Loop 177 \r",
        " Loop 178 \r",
        " Loop 179 \r",
        " Loop 180 \r",
        " Loop 181 \r",
        " Loop 182 \r",
        " Loop 183 \r",
        " Loop 184 \r",
        " Loop 185 \r",
        " Loop 186 \r",
        " Loop 187 "
       ]
      },
      {
       "output_type": "stream",
       "stream": "stdout",
       "text": [
        "\r",
        " Loop 188 \r",
        " Loop 189 \r",
        " Loop 190 \r",
        " Loop 191 \r",
        " Loop 192 \r",
        " Loop 193 \r",
        " Loop 194 \r",
        " Loop 195 \r",
        " Loop 196 \r",
        " Loop 197 \r",
        " Loop 198 \r",
        " Loop 199 \r",
        " Loop 200 \r",
        " Loop 201 \r",
        " Loop 202 \r",
        " Loop 203 \r",
        " Loop 204 \r",
        " Loop 205 \r",
        " Loop 206 \r",
        " Loop 207 \r",
        " Loop 208 \r",
        " Loop 209 \r",
        " Loop 210 \r",
        " Loop 211 \r",
        " Loop 212 "
       ]
      },
      {
       "output_type": "stream",
       "stream": "stdout",
       "text": [
        "\r",
        " Loop 213 \r",
        " Loop 214 \r",
        " Loop 215 \r",
        " Loop 216 \r",
        " Loop 217 \r",
        " Loop 218 \r",
        " Loop 219 \r",
        " Loop 220 \r",
        " Loop 221 \r",
        " Loop 222 \r",
        " Loop 223 \r",
        " Loop 224 \r",
        " Loop 225 \r",
        " Loop 226 \r",
        " Loop 227 \r",
        " Loop 228 \r",
        " Loop 229 \r",
        " Loop 230 \r",
        " Loop 231 \r",
        " Loop 232 \r",
        " Loop 233 \r",
        " Loop 234 \r",
        " Loop 235 \r",
        " Loop 236 "
       ]
      },
      {
       "output_type": "stream",
       "stream": "stdout",
       "text": [
        "\r",
        " Loop 237 \r",
        " Loop 238 \r",
        " Loop 239 \r",
        " Loop 240 \r",
        " Loop 241 \r",
        " Loop 242 \r",
        " Loop 243 \r",
        " Loop 244 \r",
        " Loop 245 \r",
        " Loop 246 \r",
        " Loop 247 \r",
        " Loop 248 \r",
        " Loop 249 \r",
        " Loop 250 \r",
        " Loop 251 \r",
        " Loop 252 \r",
        " Loop 253 \r",
        " Loop 254 \r",
        " Loop 255 \r",
        " Loop 256 \r",
        " Loop 257 \r",
        " Loop 258 "
       ]
      },
      {
       "output_type": "stream",
       "stream": "stdout",
       "text": [
        "\r",
        " Loop 259 \r",
        " Loop 260 \r",
        " Loop 261 \r",
        " Loop 262 \r",
        " Loop 263 \r",
        " Loop 264 \r",
        " Loop 265 \r",
        " Loop 266 \r",
        " Loop 267 \r",
        " Loop 268 \r",
        " Loop 269 \r",
        " Loop 270 \r",
        " Loop 271 \r",
        " Loop 272 \r",
        " Loop 273 \r",
        " Loop 274 \r",
        " Loop 275 \r",
        " Loop 276 \r",
        " Loop 277 \r",
        " Loop 278 \r",
        " Loop 279 \r",
        " Loop 280 \r",
        " Loop 281 \r",
        " Loop 282 "
       ]
      },
      {
       "output_type": "stream",
       "stream": "stdout",
       "text": [
        "\r",
        " Loop 283 \r",
        " Loop 284 \r",
        " Loop 285 \r",
        " Loop 286 \r",
        " Loop 287 \r",
        " Loop 288 \r",
        " Loop 289 \r",
        " Loop 290 \r",
        " Loop 291 \r",
        " Loop 292 \r",
        " Loop 293 \r",
        " Loop 294 \r",
        " Loop 295 \r",
        " Loop 296 \r",
        " Loop 297 \r",
        " Loop 298 \r",
        " Loop 299 \r",
        " Loop 300 \r",
        " Loop 301 \r",
        " Loop 302 \r",
        " Loop 303 \r",
        " Loop 304 \r",
        " Loop 305 "
       ]
      },
      {
       "output_type": "stream",
       "stream": "stdout",
       "text": [
        "\r",
        " Loop 306 \r",
        " Loop 307 \r",
        " Loop 308 \r",
        " Loop 309 \r",
        " Loop 310 \r",
        " Loop 311 \r",
        " Loop 312 \r",
        " Loop 313 \r",
        " Loop 314 \r",
        " Loop 315 \r",
        " Loop 316 \r",
        " Loop 317 \r",
        " Loop 318 \r",
        " Loop 319 \r",
        " Loop 320 \r",
        " Loop 321 \r",
        " Loop 322 \r",
        " Loop 323 \r",
        " Loop 324 \r",
        " Loop 325 "
       ]
      },
      {
       "output_type": "stream",
       "stream": "stdout",
       "text": [
        "\r",
        " Loop 326 \r",
        " Loop 327 \r",
        " Loop 328 \r",
        " Loop 329 \r",
        " Loop 330 \r",
        " Loop 331 \r",
        " Loop 332 \r",
        " Loop 333 \r",
        " Loop 334 \r",
        " Loop 335 \r",
        " Loop 336 \r",
        " Loop 337 \r",
        " Loop 338 \r",
        " Loop 339 \r",
        " Loop 340 \r",
        " Loop 341 \r",
        " Loop 342 \r",
        " Loop 343 \r",
        " Loop 344 \r",
        " Loop 345 \r",
        " Loop 346 \r",
        " Loop 347 \r",
        " Loop 348 "
       ]
      },
      {
       "output_type": "stream",
       "stream": "stdout",
       "text": [
        "\r",
        " Loop 349 \r",
        " Loop 350 \r",
        " Loop 351 \r",
        " Loop 352 \r",
        " Loop 353 \r",
        " Loop 354 \r",
        " Loop 355 \r",
        " Loop 356 \r",
        " Loop 357 \r",
        " Loop 358 \r",
        " Loop 359 \r",
        " Loop 360 \r",
        " Loop 361 \r",
        " Loop 362 \r",
        " Loop 363 \r",
        " Loop 364 \r",
        " Loop 365 \r",
        " Loop 366 \r",
        " Loop 367 \r",
        " Loop 368 \r",
        " Loop 369 \r",
        " Loop 370 "
       ]
      },
      {
       "output_type": "stream",
       "stream": "stdout",
       "text": [
        "\r",
        " Loop 371 \r",
        " Loop 372 \r",
        " Loop 373 \r",
        " Loop 374 \r",
        " Loop 375 \r",
        " Loop 376 \r",
        " Loop 377 \r",
        " Loop 378 \r",
        " Loop 379 \r",
        " Loop 380 \r",
        " Loop 381 \r",
        " Loop 382 \r",
        " Loop 383 \r",
        " Loop 384 "
       ]
      },
      {
       "output_type": "stream",
       "stream": "stdout",
       "text": [
        "\r",
        " Loop 385 \r",
        " Loop 386 \r",
        " Loop 387 \r",
        " Loop 388 \r",
        " Loop 389 \r",
        " Loop 390 \r",
        " Loop 391 \r",
        " Loop 392 \r",
        " Loop 393 \r",
        " Loop 394 \r",
        " Loop 395 \r",
        " Loop 396 \r",
        " Loop 397 \r",
        " Loop 398 \r",
        " Loop 399 \r",
        " Loop 400 \r",
        " Loop 401 \r",
        " Loop 402 \r",
        " Loop 403 "
       ]
      },
      {
       "output_type": "stream",
       "stream": "stdout",
       "text": [
        "\r",
        " Loop 404 \r",
        " Loop 405 \r",
        " Loop 406 \r",
        " Loop 407 \r",
        " Loop 408 \r",
        " Loop 409 \r",
        " Loop 410 \r",
        " Loop 411 \r",
        " Loop 412 \r",
        " Loop 413 \r",
        " Loop 414 \r",
        " Loop 415 \r",
        " Loop 416 \r",
        " Loop 417 \r",
        " Loop 418 \r",
        " Loop 419 \r",
        " Loop 420 \r",
        " Loop 421 \r",
        " Loop 422 \r",
        " Loop 423 \r",
        " Loop 424 \r",
        " Loop 425 \r",
        " Loop 426 "
       ]
      },
      {
       "output_type": "stream",
       "stream": "stdout",
       "text": [
        "\r",
        " Loop 427 \r",
        " Loop 428 \r",
        " Loop 429 \r",
        " Loop 430 \r",
        " Loop 431 \r",
        " Loop 432 \r",
        " Loop 433 \r",
        " Loop 434 \r",
        " Loop 435 \r",
        " Loop 436 \r",
        " Loop 437 \r",
        " Loop 438 \r",
        " Loop 439 \r",
        " Loop 440 \r",
        " Loop 441 \r",
        " Loop 442 "
       ]
      },
      {
       "output_type": "stream",
       "stream": "stdout",
       "text": [
        "\r",
        " Loop 443 \r",
        " Loop 444 \r",
        " Loop 445 \r",
        " Loop 446 \r",
        " Loop 447 \r",
        " Loop 448 \r",
        " Loop 449 \r",
        " Loop 450 \r",
        " Loop 451 \r",
        " Loop 452 \r",
        " Loop 453 \r",
        " Loop 454 \r",
        " Loop 455 \r",
        " Loop 456 \r",
        " Loop 457 \r",
        " Loop 458 \r",
        " Loop 459 \r",
        " Loop 460 "
       ]
      },
      {
       "output_type": "stream",
       "stream": "stdout",
       "text": [
        "\r",
        " Loop 461 \r",
        " Loop 462 \r",
        " Loop 463 \r",
        " Loop 464 \r",
        " Loop 465 \r",
        " Loop 466 \r",
        " Loop 467 \r",
        " Loop 468 \r",
        " Loop 469 \r",
        " Loop 470 \r",
        " Loop 471 \r",
        " Loop 472 \r",
        " Loop 473 \r",
        " Loop 474 \r",
        " Loop 475 \r",
        " Loop 476 \r",
        " Loop 477 \r",
        " Loop 478 \r",
        " Loop 479 \r",
        " Loop 480 \r",
        " Loop 481 \r",
        " Loop 482 \r",
        " Loop 483 "
       ]
      },
      {
       "output_type": "stream",
       "stream": "stdout",
       "text": [
        "\r",
        " Loop 484 \r",
        " Loop 485 \r",
        " Loop 486 \r",
        " Loop 487 \r",
        " Loop 488 \r",
        " Loop 489 \r",
        " Loop 490 \r",
        " Loop 491 \r",
        " Loop 492 \r",
        " Loop 493 \r",
        " Loop 494 \r",
        " Loop 495 \r",
        " Loop 496 \r",
        " Loop 497 \r",
        " Loop 498 \r",
        " Loop 499 \r",
        " Loop 500 \r",
        " Loop 501 \r",
        " Loop 502 \r",
        " Loop 503 \r",
        " Loop 504 \r",
        " Loop 505 \r",
        " Loop 506 \r",
        " Loop 507 \r",
        " Loop 508 \r",
        " Loop 509 "
       ]
      },
      {
       "output_type": "stream",
       "stream": "stdout",
       "text": [
        "\r",
        " Loop 510 \r",
        " Loop 511 \r",
        " Loop 512 \r",
        " Loop 513 \r",
        " Loop 514 \r",
        " Loop 515 \r",
        " Loop 516 \r",
        " Loop 517 \r",
        " Loop 518 \r",
        " Loop 519 \r",
        " Loop 520 \r",
        " Loop 521 \r",
        " Loop 522 \r",
        " Loop 523 \r",
        " Loop 524 \r",
        " Loop 525 \r",
        " Loop 526 \r",
        " Loop 527 \r",
        " Loop 528 \r",
        " Loop 529 \r",
        " Loop 530 \r",
        " Loop 531 \r",
        " Loop 532 \r",
        " Loop 533 \r",
        " Loop 534 \r",
        " Loop 535 "
       ]
      },
      {
       "output_type": "stream",
       "stream": "stdout",
       "text": [
        "\r",
        " Loop 536 \r",
        " Loop 537 \r",
        " Loop 538 \r",
        " Loop 539 \r",
        " Loop 540 \r",
        " Loop 541 \r",
        " Loop 542 \r",
        " Loop 543 \r",
        " Loop 544 \r",
        " Loop 545 \r",
        " Loop 546 \r",
        " Loop 547 \r",
        " Loop 548 \r",
        " Loop 549 \r",
        " Loop 550 \r",
        " Loop 551 \r",
        " Loop 552 \r",
        " Loop 553 \r",
        " Loop 554 \r",
        " Loop 555 \r",
        " Loop 556 \r",
        " Loop 557 "
       ]
      },
      {
       "output_type": "stream",
       "stream": "stdout",
       "text": [
        "\r",
        " Loop 558 \r",
        " Loop 559 \r",
        " Loop 560 \r",
        " Loop 561 \r",
        " Loop 562 \r",
        " Loop 563 \r",
        " Loop 564 \r",
        " Loop 565 \r",
        " Loop 566 \r",
        " Loop 567 \r",
        " Loop 568 \r",
        " Loop 569 \r",
        " Loop 570 \r",
        " Loop 571 \r",
        " Loop 572 \r",
        " Loop 573 \r",
        " Loop 574 \r",
        " Loop 575 \r",
        " Loop 576 \r",
        " Loop 577 \r",
        " Loop 578 \r",
        " Loop 579 \r",
        " Loop 580 \r",
        " Loop 581 \r",
        " Loop 582 "
       ]
      },
      {
       "output_type": "stream",
       "stream": "stdout",
       "text": [
        "\r",
        " Loop 583 \r",
        " Loop 584 \r",
        " Loop 585 \r",
        " Loop 586 \r",
        " Loop 587 \r",
        " Loop 588 \r",
        " Loop 589 \r",
        " Loop 590 \r",
        " Loop 591 \r",
        " Loop 592 \r",
        " Loop 593 \r",
        " Loop 594 \r",
        " Loop 595 \r",
        " Loop 596 \r",
        " Loop 597 \r",
        " Loop 598 \r",
        " Loop 599 \r",
        " Loop 600 \r",
        " Loop 601 \r",
        " Loop 602 \r",
        " Loop 603 \r",
        " Loop 604 \r",
        " Loop 605 \r",
        " Loop 606 "
       ]
      },
      {
       "output_type": "stream",
       "stream": "stdout",
       "text": [
        "\r",
        " Loop 607 \r",
        " Loop 608 \r",
        " Loop 609 \r",
        " Loop 610 \r",
        " Loop 611 \r",
        " Loop 612 \r",
        " Loop 613 \r",
        " Loop 614 \r",
        " Loop 615 \r",
        " Loop 616 \r",
        " Loop 617 \r",
        " Loop 618 \r",
        " Loop 619 \r",
        " Loop 620 \r",
        " Loop 621 \r",
        " Loop 622 \r",
        " Loop 623 \r",
        " Loop 624 \r",
        " Loop 625 \r",
        " Loop 626 \r",
        " Loop 627 \r",
        " Loop 628 \r",
        " Loop 629 "
       ]
      },
      {
       "output_type": "stream",
       "stream": "stdout",
       "text": [
        "\r",
        " Loop 630 \r",
        " Loop 631 \r",
        " Loop 632 \r",
        " Loop 633 \r",
        " Loop 634 \r",
        " Loop 635 \r",
        " Loop 636 \r",
        " Loop 637 \r",
        " Loop 638 \r",
        " Loop 639 \r",
        " Loop 640 \r",
        " Loop 641 \r",
        " Loop 642 \r",
        " Loop 643 \r",
        " Loop 644 \r",
        " Loop 645 \r",
        " Loop 646 "
       ]
      },
      {
       "output_type": "stream",
       "stream": "stdout",
       "text": [
        "\r",
        " Loop 647 \r",
        " Loop 648 \r",
        " Loop 649 \r",
        " Loop 650 \r",
        " Loop 651 \r",
        " Loop 652 \r",
        " Loop 653 \r",
        " Loop 654 \r",
        " Loop 655 \r",
        " Loop 656 \r",
        " Loop 657 \r",
        " Loop 658 "
       ]
      },
      {
       "output_type": "stream",
       "stream": "stdout",
       "text": [
        "\r",
        " Loop 659 \r",
        " Loop 660 \r",
        " Loop 661 \r",
        " Loop 662 \r",
        " Loop 663 \r",
        " Loop 664 \r",
        " Loop 665 \r",
        " Loop 666 \r",
        " Loop 667 \r",
        " Loop 668 \r",
        " Loop 669 \r",
        " Loop 670 \r",
        " Loop 671 \r",
        " Loop 672 \r",
        " Loop 673 \r",
        " Loop 674 \r",
        " Loop 675 \r",
        " Loop 676 \r",
        " Loop 677 "
       ]
      },
      {
       "output_type": "stream",
       "stream": "stdout",
       "text": [
        "\r",
        " Loop 678 \r",
        " Loop 679 \r",
        " Loop 680 \r",
        " Loop 681 \r",
        " Loop 682 \r",
        " Loop 683 \r",
        " Loop 684 \r",
        " Loop 685 \r",
        " Loop 686 \r",
        " Loop 687 \r",
        " Loop 688 \r",
        " Loop 689 \r",
        " Loop 690 \r",
        " Loop 691 \r",
        " Loop 692 "
       ]
      },
      {
       "output_type": "stream",
       "stream": "stdout",
       "text": [
        "\r",
        " Loop 693 \r",
        " Loop 694 \r",
        " Loop 695 \r",
        " Loop 696 \r",
        " Loop 697 \r",
        " Loop 698 \r",
        " Loop 699 \r",
        " Loop 700 \r",
        " Loop 701 \r",
        " Loop 702 \r",
        " Loop 703 \r",
        " Loop 704 \r",
        " Loop 705 \r",
        " Loop 706 \r",
        " Loop 707 \r",
        " Loop 708 "
       ]
      },
      {
       "output_type": "stream",
       "stream": "stdout",
       "text": [
        "\r",
        " Loop 709 \r",
        " Loop 710 \r",
        " Loop 711 \r",
        " Loop 712 \r",
        " Loop 713 \r",
        " Loop 714 \r",
        " Loop 715 \r",
        " Loop 716 \r",
        " Loop 717 \r",
        " Loop 718 \r",
        " Loop 719 \r",
        " Loop 720 \r",
        " Loop 721 \r",
        " Loop 722 \r",
        " Loop 723 "
       ]
      },
      {
       "output_type": "stream",
       "stream": "stdout",
       "text": [
        "\r",
        " Loop 724 \r",
        " Loop 725 \r",
        " Loop 726 \r",
        " Loop 727 \r",
        " Loop 728 \r",
        " Loop 729 \r",
        " Loop 730 \r",
        " Loop 731 \r",
        " Loop 732 \r",
        " Loop 733 \r",
        " Loop 734 \r",
        " Loop 735 \r",
        " Loop 736 \r",
        " Loop 737 \r",
        " Loop 738 \r",
        " Loop 739 \r",
        " Loop 740 \r",
        " Loop 741 \r",
        " Loop 742 \r",
        " Loop 743 \r",
        " Loop 744 \r",
        " Loop 745 "
       ]
      },
      {
       "output_type": "stream",
       "stream": "stdout",
       "text": [
        "\r",
        " Loop 746 \r",
        " Loop 747 \r",
        " Loop 748 \r",
        " Loop 749 \r",
        " Loop 750 \r",
        " Loop 751 \r",
        " Loop 752 \r",
        " Loop 753 \r",
        " Loop 754 \r",
        " Loop 755 \r",
        " Loop 756 \r",
        " Loop 757 \r",
        " Loop 758 \r",
        " Loop 759 \r",
        " Loop 760 \r",
        " Loop 761 \r",
        " Loop 762 \r",
        " Loop 763 \r",
        " Loop 764 \r",
        " Loop 765 \r",
        " Loop 766 \r",
        " Loop 767 \r",
        " Loop 768 "
       ]
      },
      {
       "output_type": "stream",
       "stream": "stdout",
       "text": [
        "\r",
        " Loop 769 \r",
        " Loop 770 \r",
        " Loop 771 \r",
        " Loop 772 \r",
        " Loop 773 \r",
        " Loop 774 \r",
        " Loop 775 \r",
        " Loop 776 \r",
        " Loop 777 \r",
        " Loop 778 \r",
        " Loop 779 \r",
        " Loop 780 \r",
        " Loop 781 "
       ]
      },
      {
       "output_type": "stream",
       "stream": "stdout",
       "text": [
        "\r",
        " Loop 782 \r",
        " Loop 783 \r",
        " Loop 784 \r",
        " Loop 785 \r",
        " Loop 786 \r",
        " Loop 787 \r",
        " Loop 788 \r",
        " Loop 789 \r",
        " Loop 790 \r",
        " Loop 791 \r",
        " Loop 792 \r",
        " Loop 793 \r",
        " Loop 794 \r",
        " Loop 795 \r",
        " Loop 796 \r",
        " Loop 797 \r",
        " Loop 798 \r",
        " Loop 799 "
       ]
      },
      {
       "output_type": "stream",
       "stream": "stdout",
       "text": [
        "\r",
        " Loop 800 \r",
        " Loop 801 \r",
        " Loop 802 \r",
        " Loop 803 \r",
        " Loop 804 \r",
        " Loop 805 \r",
        " Loop 806 \r",
        " Loop 807 \r",
        " Loop 808 \r",
        " Loop 809 \r",
        " Loop 810 \r",
        " Loop 811 \r",
        " Loop 812 \r",
        " Loop 813 \r",
        " Loop 814 \r",
        " Loop 815 \r",
        " Loop 816 \r",
        " Loop 817 \r",
        " Loop 818 \r",
        " Loop 819 \r",
        " Loop 820 \r",
        " Loop 821 \r",
        " Loop 822 \r",
        " Loop 823 \r",
        " Loop 824 "
       ]
      },
      {
       "output_type": "stream",
       "stream": "stdout",
       "text": [
        "\r",
        " Loop 825 \r",
        " Loop 826 \r",
        " Loop 827 \r",
        " Loop 828 \r",
        " Loop 829 \r",
        " Loop 830 \r",
        " Loop 831 \r",
        " Loop 832 \r",
        " Loop 833 \r",
        " Loop 834 \r",
        " Loop 835 \r",
        " Loop 836 \r",
        " Loop 837 \r",
        " Loop 838 \r",
        " Loop 839 \r",
        " Loop 840 \r",
        " Loop 841 \r",
        " Loop 842 \r",
        " Loop 843 \r",
        " Loop 844 \r",
        " Loop 845 \r",
        " Loop 846 \r",
        " Loop 847 \r",
        " Loop 848 \r",
        " Loop 849 \r",
        " Loop 850 "
       ]
      },
      {
       "output_type": "stream",
       "stream": "stdout",
       "text": [
        "\r",
        " Loop 851 \r",
        " Loop 852 \r",
        " Loop 853 \r",
        " Loop 854 \r",
        " Loop 855 \r",
        " Loop 856 \r",
        " Loop 857 \r",
        " Loop 858 \r",
        " Loop 859 \r",
        " Loop 860 \r",
        " Loop 861 \r",
        " Loop 862 \r",
        " Loop 863 \r",
        " Loop 864 \r",
        " Loop 865 \r",
        " Loop 866 \r",
        " Loop 867 \r",
        " Loop 868 \r",
        " Loop 869 \r",
        " Loop 870 \r",
        " Loop 871 \r",
        " Loop 872 \r",
        " Loop 873 \r",
        " Loop 874 \r",
        " Loop 875 \r",
        " Loop 876 "
       ]
      },
      {
       "output_type": "stream",
       "stream": "stdout",
       "text": [
        "\r",
        " Loop 877 \r",
        " Loop 878 \r",
        " Loop 879 \r",
        " Loop 880 \r",
        " Loop 881 \r",
        " Loop 882 \r",
        " Loop 883 \r",
        " Loop 884 \r",
        " Loop 885 \r",
        " Loop 886 \r",
        " Loop 887 \r",
        " Loop 888 \r",
        " Loop 889 \r",
        " Loop 890 \r",
        " Loop 891 \r",
        " Loop 892 \r",
        " Loop 893 \r",
        " Loop 894 \r",
        " Loop 895 \r",
        " Loop 896 \r",
        " Loop 897 \r",
        " Loop 898 \r",
        " Loop 899 \r",
        " Loop 900 \r",
        " Loop 901 \r",
        " Loop 902 \r",
        " Loop 903 "
       ]
      },
      {
       "output_type": "stream",
       "stream": "stdout",
       "text": [
        "\r",
        " Loop 904 \r",
        " Loop 905 \r",
        " Loop 906 \r",
        " Loop 907 \r",
        " Loop 908 \r",
        " Loop 909 \r",
        " Loop 910 \r",
        " Loop 911 \r",
        " Loop 912 \r",
        " Loop 913 \r",
        " Loop 914 \r",
        " Loop 915 \r",
        " Loop 916 \r",
        " Loop 917 \r",
        " Loop 918 \r",
        " Loop 919 \r",
        " Loop 920 \r",
        " Loop 921 "
       ]
      },
      {
       "output_type": "stream",
       "stream": "stdout",
       "text": [
        "\r",
        " Loop 922 \r",
        " Loop 923 \r",
        " Loop 924 \r",
        " Loop 925 \r",
        " Loop 926 \r",
        " Loop 927 \r",
        " Loop 928 \r",
        " Loop 929 \r",
        " Loop 930 \r",
        " Loop 931 \r",
        " Loop 932 \r",
        " Loop 933 \r",
        " Loop 934 \r",
        " Loop 935 \r",
        " Loop 936 \r",
        " Loop 937 \r",
        " Loop 938 \r",
        " Loop 939"
       ]
      },
      {
       "output_type": "stream",
       "stream": "stdout",
       "text": [
        " \r",
        " Loop 940 \r",
        " Loop 941 \r",
        " Loop 942 \r",
        " Loop 943 \r",
        " Loop 944 \r",
        " Loop 945 \r",
        " Loop 946 \r",
        " Loop 947 \r",
        " Loop 948 \r",
        " Loop 949 \r",
        " Loop 950 \r",
        " Loop 951 \r",
        " Loop 952 \r",
        " Loop 953 \r",
        " Loop 954 \r",
        " Loop 955 \r",
        " Loop 956 \r",
        " Loop 957 \r",
        " Loop 958 \r",
        " Loop 959 \r",
        " Loop 960 \r",
        " Loop 961 \r",
        " Loop 962 \r",
        " Loop 963 \r",
        " Loop 964 \r",
        " Loop 965 "
       ]
      },
      {
       "output_type": "stream",
       "stream": "stdout",
       "text": [
        "\r",
        " Loop 966 \r",
        " Loop 967 \r",
        " Loop 968 \r",
        " Loop 969 \r",
        " Loop 970 \r",
        " Loop 971 \r",
        " Loop 972 \r",
        " Loop 973 \r",
        " Loop 974 \r",
        " Loop 975 \r",
        " Loop 976 \r",
        " Loop 977 \r",
        " Loop 978 \r",
        " Loop 979 \r",
        " Loop 980 \r",
        " Loop 981 \r",
        " Loop 982 \r",
        " Loop 983 \r",
        " Loop 984 \r",
        " Loop 985 \r",
        " Loop 986 \r",
        " Loop 987 \r",
        " Loop 988 \r",
        " Loop 989 \r",
        " Loop 990 \r",
        " Loop 991 "
       ]
      },
      {
       "output_type": "stream",
       "stream": "stdout",
       "text": [
        "\r",
        " Loop 992 \r",
        " Loop 993 \r",
        " Loop 994 \r",
        " Loop 995 \r",
        " Loop 996 \r",
        " Loop 997 \r",
        " Loop 998 \r",
        " Loop 999 Finished MC process\n",
        "CPU times: user 2.38 s, sys: 22 ms, total: 2.4 s\n",
        "Wall time: 2.4 s\n"
       ]
      }
     ],
     "prompt_number": 21
    },
    {
     "cell_type": "code",
     "collapsed": false,
     "input": [
      "# Plot out the resulting CONFIDENCE INTERVALS from the Monte Carlo run\n",
      "xsubs = range(-width,width)   # Create X-axis subscripts \n",
      "\n",
      "fig_sig = plt.figure()\n",
      "ax1 = fig_sig.add_subplot(111)\n",
      "\n",
      "ax1.plot(xsubs, p90,'g-',xsubs,p10,'g-',xsubs,p05,'g--',xsubs,p95,'g--',xsubs,p01,'g:',xsubs,p99,'g:',alpha=0.8)\n",
      "\n",
      "ax1.set_title('Conf. intervals for samples of n='+str(s_size)+' using '+str(iter_num)+' MC its.')\n",
      "ax1.set_xlabel('Days since key events')\n",
      "ax1.set_ylabel('Cloud cover (%)')\n",
      "ax1.set_xlim(min(xsubs),max(xsubs))\n",
      "\n",
      "fig_sig.text(0.15, 0.85, r\"Upper percentiles (90,95,99)\",fontsize=9,color='g')\n",
      "fig_sig.text(0.15, 0.15, r\"Lower percentiles (10,5,1)\",fontsize=9,color='g')\n",
      "\n",
      "plt.show(fig_sig)"
     ],
     "language": "python",
     "metadata": {},
     "outputs": [
      {
       "metadata": {},
       "output_type": "display_data",
       "png": "[encoded data removed]",
       "text": [
        "<matplotlib.figure.Figure at 0x107fa9dd0>"
       ]
      }
     ],
     "prompt_number": 22
    },
    {
     "cell_type": "heading",
     "level": 2,
     "metadata": {},
     "source": [
      "How low can you go?"
     ]
    },
    {
     "cell_type": "markdown",
     "metadata": {},
     "source": [
      "**Use the Monte Carlo code to test the statistical significance of your own composites**\n",
      "\n",
      "Competition: Now we will see who can create a composite from space-weather related events that gives the most statistically intense change in global mean cloud cover!"
     ]
    },
    {
     "cell_type": "code",
     "collapsed": false,
     "input": [
      "# Place your code here... the future is yours!"
     ],
     "language": "python",
     "metadata": {},
     "outputs": [],
     "prompt_number": 23
    }
   ],
   "metadata": {}
  }
 ]
}