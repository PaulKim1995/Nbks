{
 "metadata": {
  "name": "",
  "signature": "sha256:287df8fd11c8d433687633f48096de263a2c7559c2d1100bca1913335d99cd02"
 },
 "nbformat": 3,
 "nbformat_minor": 0,
 "worksheets": []
}