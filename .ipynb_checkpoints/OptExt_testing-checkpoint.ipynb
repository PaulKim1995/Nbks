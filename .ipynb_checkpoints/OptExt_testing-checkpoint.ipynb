{
 "metadata": {
  "name": ""
 },
 "nbformat": 3,
 "nbformat_minor": 0,
 "worksheets": [
  {
   "cells": [
    {
     "cell_type": "raw",
     "metadata": {},
     "source": [
      "A test for the optical extinction project to see what the minimum/maximum Xr (airmass) value is over the time series."
     ]
    },
    {
     "cell_type": "code",
     "collapsed": false,
     "input": [
      "import matplotlib\n",
      "import numpy as np\n",
      "import matplotlib.pyplot as plt\n",
      "import pandas as pd"
     ],
     "language": "python",
     "metadata": {},
     "outputs": [],
     "prompt_number": 1
    },
    {
     "cell_type": "code",
     "collapsed": false,
     "input": [
      "pd.read_table(\"/Users/Ben/Work/Python/Output/Text/Daily_stats.txt\",delim_whitespace=True,header=1)"
     ],
     "language": "python",
     "metadata": {},
     "outputs": [
      {
       "html": [
        "<pre>\n",
        "&lt;class 'pandas.core.frame.DataFrame'&gt;\n",
        "Int64Index: 8381 entries, 0 to 8380\n",
        "Data columns (total 6 columns):\n",
        "17         8381  non-null values\n",
        "4          8381  non-null values\n",
        "1984       8381  non-null values\n",
        "849        8381  non-null values\n",
        "1.04925    8381  non-null values\n",
        "3.24648    8381  non-null values\n",
        "dtypes: float64(2), int64(4)\n",
        "</pre>"
       ],
       "metadata": {},
       "output_type": "pyout",
       "prompt_number": 2,
       "text": [
        "<class 'pandas.core.frame.DataFrame'>\n",
        "Int64Index: 8381 entries, 0 to 8380\n",
        "Data columns (total 6 columns):\n",
        "17         8381  non-null values\n",
        "4          8381  non-null values\n",
        "1984       8381  non-null values\n",
        "849        8381  non-null values\n",
        "1.04925    8381  non-null values\n",
        "3.24648    8381  non-null values\n",
        "dtypes: float64(2), int64(4)"
       ]
      }
     ],
     "prompt_number": 2
    },
    {
     "cell_type": "code",
     "collapsed": false,
     "input": [
      "whos"
     ],
     "language": "python",
     "metadata": {},
     "outputs": [
      {
       "output_type": "stream",
       "stream": "stdout",
       "text": [
        "Variable   Type      Data/Info\n",
        "------------------------------\n",
        "pd         module    <module 'pandas' from '//<...>ges/pandas/__init__.pyc'>\n"
       ]
      }
     ],
     "prompt_number": 3
    },
    {
     "cell_type": "code",
     "collapsed": false,
     "input": [
      "print shape(pd)"
     ],
     "language": "python",
     "metadata": {},
     "outputs": [
      {
       "output_type": "stream",
       "stream": "stdout",
       "text": [
        "()\n"
       ]
      }
     ],
     "prompt_number": 4
    },
    {
     "cell_type": "code",
     "collapsed": false,
     "input": [],
     "language": "python",
     "metadata": {},
     "outputs": []
    }
   ],
   "metadata": {}
  }
 ]
}