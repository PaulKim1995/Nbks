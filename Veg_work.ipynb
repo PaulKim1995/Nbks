{
 "metadata": {
  "name": "",
  "signature": "sha256:62cc98d824458d78f16029e815a1c58500f80f7607b77cd08ea6098c898bac3d"
 },
 "nbformat": 3,
 "nbformat_minor": 0,
 "worksheets": [
  {
   "cells": [
    {
     "cell_type": "heading",
     "level": 1,
     "metadata": {},
     "source": [
      "Testing and code development for the MODIS vegetation project"
     ]
    },
    {
     "cell_type": "markdown",
     "metadata": {},
     "source": [
      "Note there is a nice iPython notebook here with helpful info (http://nbviewer.ipython.org/github/profLewis/geogg122/blob/master/Chapter4_GDAL/advanced.ipynb)"
     ]
    },
    {
     "cell_type": "markdown",
     "metadata": {},
     "source": [
      "First step is to identify a list of the MODIS granules required, and download. This can easily be done with the NASA Reverb page.\n",
      "\n",
      "Then read the HDF data"
     ]
    },
    {
     "cell_type": "code",
     "collapsed": false,
     "input": [
      "import urllib2\n",
      "import gdal"
     ],
     "language": "python",
     "metadata": {},
     "outputs": [],
     "prompt_number": 8
    },
    {
     "cell_type": "code",
     "collapsed": false,
     "input": [
      "from osgeo import gdal"
     ],
     "language": "python",
     "metadata": {},
     "outputs": [],
     "prompt_number": 12
    },
    {
     "cell_type": "code",
     "collapsed": false,
     "input": [
      "filename = '/uio/kant/geo-metos-u1/blaken/Downloads/MOD13Q1.A2000049.h22v09.005.2006270035514.hdf'   # A 16MB file\n",
      "#filename = '/uio/kant/geo-metos-u1/blaken/Downloads/MOD13Q1.A2000065.h21v09.005.2008238025653.hdf'   # A 200mb file\n",
      "\n",
      "g = gdal.Open(filename)\n",
      "# g should now be a GDAL dataset, but if the file isn't found, g will be none\n",
      "if g is None:\n",
      "    print \"Problem opening file %s!\" % filename\n",
      "else:\n",
      "    print \"File %s opened fine\" % filename\n",
      "    \n",
      "    \n",
      "subdatasets = g.GetSubDatasets()\n",
      "for fname, name in subdatasets:\n",
      "    print name\n",
      "    print \"\\t\", fname\n"
     ],
     "language": "python",
     "metadata": {},
     "outputs": [
      {
       "output_type": "stream",
       "stream": "stdout",
       "text": [
        "Problem opening file /uio/kant/geo-metos-u1/blaken/Downloads/MOD13Q1.A2000049.h22v09.005.2006270035514.hdf!\n"
       ]
      },
      {
       "ename": "AttributeError",
       "evalue": "'NoneType' object has no attribute 'GetSubDatasets'",
       "output_type": "pyerr",
       "traceback": [
        "\u001b[1;31m---------------------------------------------------------------------------\u001b[0m\n\u001b[1;31mAttributeError\u001b[0m                            Traceback (most recent call last)",
        "\u001b[1;32m<ipython-input-16-212a5db4083a>\u001b[0m in \u001b[0;36m<module>\u001b[1;34m()\u001b[0m\n\u001b[0;32m     10\u001b[0m \u001b[1;33m\u001b[0m\u001b[0m\n\u001b[0;32m     11\u001b[0m \u001b[1;33m\u001b[0m\u001b[0m\n\u001b[1;32m---> 12\u001b[1;33m \u001b[0msubdatasets\u001b[0m \u001b[1;33m=\u001b[0m \u001b[0mg\u001b[0m\u001b[1;33m.\u001b[0m\u001b[0mGetSubDatasets\u001b[0m\u001b[1;33m(\u001b[0m\u001b[1;33m)\u001b[0m\u001b[1;33m\u001b[0m\u001b[0m\n\u001b[0m\u001b[0;32m     13\u001b[0m \u001b[1;32mfor\u001b[0m \u001b[0mfname\u001b[0m\u001b[1;33m,\u001b[0m \u001b[0mname\u001b[0m \u001b[1;32min\u001b[0m \u001b[0msubdatasets\u001b[0m\u001b[1;33m:\u001b[0m\u001b[1;33m\u001b[0m\u001b[0m\n\u001b[0;32m     14\u001b[0m     \u001b[1;32mprint\u001b[0m \u001b[0mname\u001b[0m\u001b[1;33m\u001b[0m\u001b[0m\n",
        "\u001b[1;31mAttributeError\u001b[0m: 'NoneType' object has no attribute 'GetSubDatasets'"
       ]
      }
     ],
     "prompt_number": 16
    },
    {
     "cell_type": "code",
     "collapsed": false,
     "input": [],
     "language": "python",
     "metadata": {},
     "outputs": []
    }
   ],
   "metadata": {}
  }
 ]
}