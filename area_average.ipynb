{
 "cells": [
  {
   "cell_type": "markdown",
   "metadata": {},
   "source": [
    "##  Calculate the surface area over the Earth of an array of lat/lon pixels ##\n",
    "\n",
    "Code by Benjamin A. Laken\n",
    "\n",
    "This is an implementation of the code from [BADAC](http://badc.nerc.ac.uk/help/coordinates/cell-surf-area.html).\n",
    "It calculates an array of surface area of a given lat/lon dimension, and also an array of factors, with which you can calculate an area-averaged value."
   ]
  },
  {
   "cell_type": "code",
   "execution_count": 1,
   "metadata": {
    "collapsed": true
   },
   "outputs": [],
   "source": [
    "import numpy as np\n",
    "import matplotlib.pyplot as plt\n",
    "%matplotlib inline"
   ]
  },
  {
   "cell_type": "code",
   "execution_count": 72,
   "metadata": {
    "collapsed": false
   },
   "outputs": [],
   "source": [
    "def area_of_cell(radlon1, radlon2, sinlat1, sinlat2, R=6367.4447):\n",
    "    \"\"\"\n",
    "    Calculate the surface area (km²) of a given gridcell. \n",
    "    When given the e/w bounding (radlon2, radlon1) in radians,\n",
    "    and the n/s bounding (sinlat2, sinlat1) in sin latitude.\n",
    "    The constant R is by default equal to 1 Earth radius.\n",
    "    \"\"\"\n",
    "    return (R**2)*(radlon2-radlon1)*(sinlat2-sinlat1) \n",
    "\n",
    "def get_surface_area(lat, lon, chatty=True):\n",
    "    \"\"\"\n",
    "    Input: A pair of integers specifying the number of pixels in the latitude and\n",
    "            longitude dimension of a grid. \n",
    "    Output: Two 2D arrays, returing the physical area (km²) of the grid (surface_area),\n",
    "            and a factor (factor_surface), used to weight an array for area-averaging. \n",
    "    \"\"\"\n",
    "    surface_area = np.zeros([lat, lon])\n",
    "    factor_surface = np.zeros([lat, lon])\n",
    "    lon_step = 360 / lon\n",
    "    lat_step = 180 / lat      \n",
    "    e_bound = [(((i+1) * lon_step) - lon_step) * np.pi / 180 for i in range(lon)]\n",
    "    w_bound = [((i+1) * lon_step) * np.pi / 180 for i in range(lon)]\n",
    "    n_bound = [np.sin((90 - (i * lat_step)) * np.pi / 180) for i in range(lat)]\n",
    "    s_bound = [np.sin((90 - ((i + 1) * lat_step)) * np.pi / 180) for i in range(lat)]\n",
    "    for i in range(lat):\n",
    "        surface_area[i,0]=area_of_cell(e_bound[0], w_bound[0], s_bound[i], n_bound[i]) \n",
    "        surface_area[i,1:] = surface_area[i,0]  # Repeat the first column along the array\n",
    "    total_area = np.sum(surface_area)\n",
    "    # Nb. this assertion is only valid if you intend to calculate area over the whole globe...\n",
    "    assert abs(total_area - 510100000) < 1000000, \"Error: Area calc. off by more than 1×10⁶ km²\"\n",
    "    factor_surface = surface_area/surface_area[int(lat/2), int(lon/2)]\n",
    "    if chatty:\n",
    "        print('Grid resolution is {0} × {1}'.format(lon_step, lat_step))\n",
    "        print('Calculated area is {0:3.1e} km² (actual is 5.1×10⁸ km²)'.format(total_area)) \n",
    "        print('Pixel area at center {0:4.3e} km², weight {1:3.2f}'.format(surface_area[int(lat/2),0], factor_surface[int(lat/2),0]))\n",
    "        print('Pixel area at edge {0:4.3e} km², weight {1:3.2f}'.format(surface_area[0,0],factor_surface[0,0]))\n",
    "    return surface_area, factor_surface"
   ]
  },
  {
   "cell_type": "code",
   "execution_count": 73,
   "metadata": {
    "collapsed": false
   },
   "outputs": [
    {
     "name": "stdout",
     "output_type": "stream",
     "text": [
      "Grid resolution is 2.5 × 1.894736842105263\n",
      "Calculated area is 5.1e+08 km² (actual is 5.1×10⁸ km²)\n",
      "Pixel area at center 5.850e+04 km², weight 1.00\n",
      "Pixel area at edge 9.672e+02 km², weight 0.02\n"
     ]
    }
   ],
   "source": [
    "sa, fs = get_surface_area(lat=95,lon=144, chatty=True)"
   ]
  },
  {
   "cell_type": "code",
   "execution_count": 71,
   "metadata": {
    "collapsed": false
   },
   "outputs": [
    {
     "data": {
      "image/png": "[encoded data removed]",
      "text/plain": [
       "<matplotlib.figure.Figure at 0x108e057b8>"
      ]
     },
     "metadata": {},
     "output_type": "display_data"
    }
   ],
   "source": [
    "plt.imshow(sa)\n",
    "plt.title(r'Area of grid cells (km$^{2}$)')\n",
    "plt.colorbar()\n",
    "plt.show()"
   ]
  },
  {
   "cell_type": "code",
   "execution_count": 70,
   "metadata": {
    "collapsed": false
   },
   "outputs": [
    {
     "name": "stdout",
     "output_type": "stream",
     "text": [
      "1000 loops, best of 3: 1.11 ms per loop\n"
     ]
    }
   ],
   "source": [
    "%%timeit\n",
    "_ = get_surface_area(lat=180,lon=360, chatty=False) # Demonstration of running speed..."
   ]
  }
 ],
 "metadata": {
  "kernelspec": {
   "display_name": "Python 3",
   "language": "python",
   "name": "python3"
  },
  "language_info": {
   "codemirror_mode": {
    "name": "ipython",
    "version": 3
   },
   "file_extension": ".py",
   "mimetype": "text/x-python",
   "name": "python",
   "nbconvert_exporter": "python",
   "pygments_lexer": "ipython3",
   "version": "3.5.1"
  }
 },
 "nbformat": 4,
 "nbformat_minor": 0
}
