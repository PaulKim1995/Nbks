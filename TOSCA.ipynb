{
 "metadata": {
  "name": "",
  "signature": "sha256:f7b484bd9c9585e3ca7d8d9a5daf0655e34faff35259904ebaa15ea8e5e3e30b"
 },
 "nbformat": 3,
 "nbformat_minor": 0,
 "worksheets": [
  {
   "cells": [
    {
     "cell_type": "heading",
     "level": 1,
     "metadata": {},
     "source": [
      "Clouds and a cosmic ray link"
     ]
    },
    {
     "cell_type": "heading",
     "level": 2,
     "metadata": {},
     "source": [
      "A beginners lesson in extreme-event analysis using IPython"
     ]
    },
    {
     "cell_type": "heading",
     "level": 4,
     "metadata": {},
     "source": [
      "Dr. Benjamin A. Laken, University of Oslo, Norway"
     ]
    },
    {
     "cell_type": "markdown",
     "metadata": {},
     "source": [
      "This computer class will be deliverd as an IPython notebook. The class will cover (1) a brief introduction to Python and some of its excellent features, including creating some simple plots. We will then import some data, and perform an analysis of extreme (short-term) solar events.\n",
      "\n",
      "You will find Python is a very flexible and powerful tool, supported by a large, active, and multi-disicplanary community. As this class is deigned to cover 90 mins, we can only scratch the surface of Python, but be assured it has much more to offer you than we cover here.\n",
      "\n",
      "If you don't have Python, you can freely get it from http://store.continuum.io\n",
      "\n",
      "You can then start an IPython notebook with the following command:\n",
      "\n",
      "    ipython notebook --pylab inline \n",
      "    \n",
      "Contact: benjamin.laken@geo.uio.no"
     ]
    },
    {
     "cell_type": "heading",
     "level": 2,
     "metadata": {},
     "source": [
      "Section 1: First steps in Python"
     ]
    },
    {
     "cell_type": "markdown",
     "metadata": {},
     "source": [
      "Python is a programming language. In its simplest form you can use it as a glorified calculator, but at the highest level you could use it to push the worlds fastest computers to their limit!\n",
      "\n",
      "We will only cover some basics which you need to get started. If you are totally unfamiliar  with programming concepts, you will need to do some extra reading! For those totally new to Python or programming, there are many resources to help you:\n",
      "\n",
      "https://wiki.python.org/moin/BeginnersGuide/NonProgrammers\n",
      "\n",
      "\n"
     ]
    },
    {
     "cell_type": "code",
     "collapsed": false,
     "input": [
      "# Import a package to show images, then use it to download and display a classic XKCD comic\n",
      "from IPython.display import Image, display, display_png, HTML\n",
      "Image(url='http://imgs.xkcd.com/comics/python.png')"
     ],
     "language": "python",
     "metadata": {},
     "outputs": [
      {
       "html": [
        "<img src=\"http://imgs.xkcd.com/comics/python.png\"/>"
       ],
       "metadata": {},
       "output_type": "pyout",
       "prompt_number": 2,
       "text": [
        "<IPython.core.display.Image at 0x105a79810>"
       ]
      }
     ],
     "prompt_number": 2
    },
    {
     "cell_type": "markdown",
     "metadata": {},
     "source": [
      "Before we can use Python for TOSCA-related fun, we must first cover the basics of the language. The best way to learn is simply to play---something iPython, and the notebook lets you do very easily. So, to the basic syntax: create a 'Hello, world' program in the cell below!\n",
      "\n",
      "When you have finished entering your code, you may execute it by pressing the Return + `ctrl` key to run, and shift to the next cell (or Return + `shift` key to run and stay in current cell)."
     ]
    },
    {
     "cell_type": "code",
     "collapsed": false,
     "input": [],
     "language": "python",
     "metadata": {},
     "outputs": [],
     "prompt_number": 2
    },
    {
     "cell_type": "markdown",
     "metadata": {},
     "source": [
      "The first thing to always remember in IPython, is the every-useful help feature. Simply accessed by `?`. You can always place this after a function or object to learn more about it. Using `??` gives you the source code."
     ]
    },
    {
     "cell_type": "code",
     "collapsed": false,
     "input": [
      "?"
     ],
     "language": "python",
     "metadata": {},
     "outputs": [],
     "prompt_number": 3
    },
    {
     "cell_type": "code",
     "collapsed": false,
     "input": [
      "# This is a comment. See how the output autmatically is displayed for the below code.\n",
      "1 + 1"
     ],
     "language": "python",
     "metadata": {},
     "outputs": [
      {
       "metadata": {},
       "output_type": "pyout",
       "prompt_number": 4,
       "text": [
        "2"
       ]
      }
     ],
     "prompt_number": 4
    },
    {
     "cell_type": "code",
     "collapsed": false,
     "input": [
      "# You can assign 'pointers' to a value or string (note this does not cause anything to be outputted)...\n",
      "a = 1\n",
      "b = 1                \n",
      "# ...and then perform operations, using the pointers...\n",
      "a + b"
     ],
     "language": "python",
     "metadata": {},
     "outputs": [
      {
       "metadata": {},
       "output_type": "pyout",
       "prompt_number": 5,
       "text": [
        "2"
       ]
      }
     ],
     "prompt_number": 5
    },
    {
     "cell_type": "markdown",
     "metadata": {},
     "source": [
      "The assigned pointers are maintained in your sessions memory. You can easily see what is in the memory with the `whos` command. It also shows useful information, such as the type of data, and information about it."
     ]
    },
    {
     "cell_type": "code",
     "collapsed": false,
     "input": [
      "whos"
     ],
     "language": "python",
     "metadata": {},
     "outputs": [
      {
       "output_type": "stream",
       "stream": "stdout",
       "text": [
        "Variable      Type           Data/Info\n",
        "--------------------------------------\n",
        "HTML          type           <class 'IPython.core.display.HTML'>\n",
        "Image         type           <class 'IPython.core.display.Image'>\n",
        "a             int            1\n",
        "ax1           AxesSubplot    Axes(0.125,0.547727;0.775x0.352273)\n",
        "b             int            1\n",
        "display_png   function       <function display_png at 0x103173cf8>\n",
        "my_ts         Figure         Figure(480x320)\n"
       ]
      }
     ],
     "prompt_number": 6
    },
    {
     "cell_type": "code",
     "collapsed": false,
     "input": [
      "# Here is how simple math operations are written in python (print is showing their output)\n",
      "print 2 + 1                                             # Addition \n",
      "print 2 - 1                                             # Subtraction\n",
      "print 2 * 1,'also print multiple things (inc. string)'  # Multiplication\n",
      "print 2 / 1                                             # Division\n",
      "print 2 ** 1                                            # Exponentiation\n",
      "print 3 + (3 * 2)                                       # Use of brackets                               "
     ],
     "language": "python",
     "metadata": {},
     "outputs": [
      {
       "output_type": "stream",
       "stream": "stdout",
       "text": [
        "3\n",
        "1\n",
        "2 also print multiple things (inc. string)\n",
        "2\n",
        "2\n",
        "9\n"
       ]
      }
     ],
     "prompt_number": 7
    },
    {
     "cell_type": "markdown",
     "metadata": {},
     "source": [
      "Three data types: INTEGER (int), FLOAT (float), and STRING (str). The operations (and behaviour) depends on the type of data you are using. For example, in the below cell please demonstrate Pythons behaviour when dealing with operations for :\n",
      "* Integer and Integer\n",
      "* Float and Float\n",
      "* Integer and Float\n",
      "* Float and String"
     ]
    },
    {
     "cell_type": "code",
     "collapsed": false,
     "input": [
      "# Type your operations on Floats, Ints, and Strings in here (and dont forget to make them print)\n",
      "\n"
     ],
     "language": "python",
     "metadata": {},
     "outputs": [],
     "prompt_number": 8
    },
    {
     "cell_type": "markdown",
     "metadata": {},
     "source": [
      "Functions are built in to python. You can easily access them in IPython by using the `tabb` key autocomplete feature. For the below cell, we can use a function to show the type of data which the variable 'c' is made of. Different types of objects in python also have methods attached to them, which you can similarly access, by `c.<press tabb>`."
     ]
    },
    {
     "cell_type": "code",
     "collapsed": false,
     "input": [
      "c = a + b                       \n",
      "type(c)"
     ],
     "language": "python",
     "metadata": {},
     "outputs": [
      {
       "metadata": {},
       "output_type": "pyout",
       "prompt_number": 9,
       "text": [
        "int"
       ]
      }
     ],
     "prompt_number": 9
    },
    {
     "cell_type": "markdown",
     "metadata": {},
     "source": [
      "You can erase pointers (aka variables) from the memory with `del <name>`, after deleting variable `a` and `b` in the below cell."
     ]
    },
    {
     "cell_type": "code",
     "collapsed": false,
     "input": [
      "# Erase variables from the memory in here\n"
     ],
     "language": "python",
     "metadata": {},
     "outputs": [],
     "prompt_number": 10
    },
    {
     "cell_type": "markdown",
     "metadata": {},
     "source": [
      " Run the `whos` command in the cell below this to see what remains after you clear the variables. "
     ]
    },
    {
     "cell_type": "code",
     "collapsed": true,
     "input": [
      "\n"
     ],
     "language": "python",
     "metadata": {},
     "outputs": [],
     "prompt_number": 10
    },
    {
     "cell_type": "markdown",
     "metadata": {},
     "source": [
      "Now something more exciting. The RANGE function. Examine and understand the below cell. What has it produced, and what operations can you rapidly do with it using the attached methods."
     ]
    },
    {
     "cell_type": "code",
     "collapsed": false,
     "input": [
      "thing = range(20)        # Test 'thing', and find out what it is, where it came from, and what it can do!\n",
      "                           \n"
     ],
     "language": "python",
     "metadata": {},
     "outputs": [],
     "prompt_number": 11
    },
    {
     "cell_type": "code",
     "collapsed": false,
     "input": [
      "# Holding more than one value: the Python LIST\n",
      "a = [1.0,2.0,3.0,4.0,5.0,6.0]            # Creation of a list of data elements\n",
      "b = [1,2,3,4,5,6]                        # Create a second list (integers this time)\n",
      "\n",
      "print 'Type of varible:',type(a)         # Query the type of variable you created\n",
      "print 'Lenght of variable:',len(a)       # Query the number of data elements \n",
      "\n",
      "print a[:]                               # The colon means a range of elements\n",
      "print a[0:2]                             # In this case, the first[0] to second[2]\n",
      "print a[-1]                              # In this case, the last element only!    "
     ],
     "language": "python",
     "metadata": {},
     "outputs": [
      {
       "output_type": "stream",
       "stream": "stdout",
       "text": [
        "Type of varible: <type 'list'>\n",
        "Lenght of variable: 6\n",
        "[1.0, 2.0, 3.0, 4.0, 5.0, 6.0]\n",
        "[1.0, 2.0]\n",
        "6.0\n"
       ]
      }
     ],
     "prompt_number": 12
    },
    {
     "cell_type": "markdown",
     "metadata": {},
     "source": [
      "Try and use simple math operations on the lists a & b, see what happens... "
     ]
    },
    {
     "cell_type": "code",
     "collapsed": false,
     "input": [
      "\n"
     ],
     "language": "python",
     "metadata": {},
     "outputs": [],
     "prompt_number": 12
    },
    {
     "cell_type": "markdown",
     "metadata": {},
     "source": [
      "It is particularly important to note that above, the lists joined, with list a appearing first, and list b appearing second... try changing some of the values inside lists to different types of data (even words), and see the behaviour of the lists - they are dynamic, and can mix data-types...\n",
      "\n",
      "An important thing to note: curly brackets () are used differently to square brackets []. The curlys indicate a function (some specific task will be done on objects inside them), while squares are either declaring a list, specifying elements inside a list, or doing repeating operations (looping through lists).\n",
      "\n",
      "Also, good to know, IPython has avaiable at anytime 'Magic' functions, \n",
      "which can give you a lot of extra functionality. For examples see the notebook:\n",
      "http://nbviewer.ipython.org/github/ipython/ipython/blob/1.x/examples/notebooks/Cell%20Magics.ipynb"
     ]
    },
    {
     "cell_type": "code",
     "collapsed": false,
     "input": [
      "# We need'MODULES' to extend the functionality of Python\n",
      "from numpy import array           # This is how we call installed modules.\n",
      "ax = array(a)                     # Remeber curly brackets mean a function...\n",
      "bx = array(b)\n",
      "\n",
      "print type(ax)                    # What are these new pointers?\n",
      "print ax + bx                     # See what happens when you sum arrays instead of lists...\n",
      "print 'Max. val. =',max(ax + bx)  # Also, see how you can use functions on arrays\n",
      "print 'Min. val. =',min(ax + bx) "
     ],
     "language": "python",
     "metadata": {},
     "outputs": [
      {
       "output_type": "stream",
       "stream": "stdout",
       "text": [
        "<type 'numpy.ndarray'>\n",
        "[  2.   4.   6.   8.  10.  12.]\n",
        "Max. val. = 12.0\n",
        "Min. val. = 2.0\n"
       ]
      }
     ],
     "prompt_number": 13
    },
    {
     "cell_type": "markdown",
     "metadata": {},
     "source": [
      "Different types of data behave in different ways. With addition commands (+) list data tries to append, whereas arrays will try and perform element-wise arithmetic! For our needs (time-series data analysis), we will be using arrays from the NUMPY module.\n",
      "\n",
      "Before we start using arrays, we will just briefly look at loops and logic."
     ]
    },
    {
     "cell_type": "code",
     "collapsed": false,
     "input": [
      "# Loops are very important and easy in Python, and there are lots of possible types:\n",
      "Drinks =['Beer','Cider','Rum','Mohito','Water','Wiskey','Wine']         # A pointer to a list \n",
      "\n",
      "print 'An implicit loop'  # A very nice python feature\n",
      "for n in Drinks:          # The simplist uses elements of a list to iterate\n",
      "    print n               # The use of : on the first line , and space on the second is needed\n",
      "\n",
      "print '\\n'                      # Newline character\n",
      "\n",
      "print 'Looping through a range' # Quite old-fashioned\n",
      "\n",
      "for n in xrange(len(Drinks)):   # Note the use of lenghth function > len()\n",
      "    print n,Drinks[n]      # Note the use of square brackets and n to call elements of Drinks \n",
      "    \n",
      "print '\\n'                      # Newline character\n",
      "\n",
      "print \"An enumeration loop\" # Very useful\n",
      "for i,n in enumerate(Drinks):\n",
      "    print i,n\n",
      "    \n",
      "print '\\n'                      # Newline character\n",
      "print 'An inline loop'          # Very cool Python thinking and will change your future code... \n",
      "print [n for n in Drinks]"
     ],
     "language": "python",
     "metadata": {},
     "outputs": [
      {
       "output_type": "stream",
       "stream": "stdout",
       "text": [
        "An implicit loop\n",
        "Beer\n",
        "Cider\n",
        "Rum\n",
        "Mohito\n",
        "Water\n",
        "Wiskey\n",
        "Wine\n",
        "\n",
        "\n",
        "Looping through a range\n",
        "0 Beer\n",
        "1 Cider\n",
        "2 Rum\n",
        "3 Mohito\n",
        "4 Water\n",
        "5 Wiskey\n",
        "6 Wine\n",
        "\n",
        "\n",
        "An enumeration loop\n",
        "0 Beer\n",
        "1 Cider\n",
        "2 Rum\n",
        "3 Mohito\n",
        "4 Water\n",
        "5 Wiskey\n",
        "6 Wine\n",
        "\n",
        "\n",
        "An inline loop\n",
        "['Beer', 'Cider', 'Rum', 'Mohito', 'Water', 'Wiskey', 'Wine']\n"
       ]
      }
     ],
     "prompt_number": 14
    },
    {
     "cell_type": "code",
     "collapsed": false,
     "input": [
      "# Loops and IF statements\n",
      "\n",
      "want = raw_input(\"Type the name of any drink you would like.\")\n",
      "check = 0\n",
      "for i in Drinks:                                 # Start a nice simple loop\n",
      "    if i == want:                                # Use an if statement\n",
      "        print 'We have '+i\n",
      "        check = 1\n",
      "    elif i != want:                              # Also use an else if statement\n",
      "        print 'You didnt ask for ' + i\n",
      "\n",
      "\n",
      "if check == 0:                                   # If statement outside of a loop...\n",
      "    print 'Sorry we dont have ' + want\n",
      "else:                                            # Here is a final of if logic, an else.\n",
      "    print 'Enjoy your drink!'\n",
      "\n",
      "    \n",
      "# This is very 'clunky' and ineffective code... see if you can improve it (for instance\n",
      "# by not printing out every drink. Try to improve it with differnt kind of loops \n",
      "#(or even no loops at all). You could use while loops, or try truth functions..."
     ],
     "language": "python",
     "metadata": {},
     "outputs": [
      {
       "name": "stdout",
       "output_type": "stream",
       "stream": "stdout",
       "text": [
        "Type the name of any drink you would like.test\n"
       ]
      },
      {
       "output_type": "stream",
       "stream": "stdout",
       "text": [
        "You didnt ask for Beer\n",
        "You didnt ask for Cider\n",
        "You didnt ask for Rum\n",
        "You didnt ask for Mohito\n",
        "You didnt ask for Water\n",
        "You didnt ask for Wiskey\n",
        "You didnt ask for Wine\n",
        "Sorry we dont have test\n"
       ]
      }
     ],
     "prompt_number": 15
    },
    {
     "cell_type": "heading",
     "level": 2,
     "metadata": {},
     "source": [
      "Importing and using the NUMPY and SCIPY modules"
     ]
    },
    {
     "cell_type": "markdown",
     "metadata": {},
     "source": [
      "Python itself is a basic framework, we talor it to our needs with libaries and extensions (this notebook, and IPython is just one such extension. In scientific computing, we will always require the NUMPY and SCIPY modules. We will now import them, with an alias, and see how to run functions from them.\n",
      "\n",
      "For the below, function (np.random.random), work out what it does (use the `?`). Then follow the built in functions (type, len, min etc...) to understand what they are showing (again try using the `?`)."
     ]
    },
    {
     "cell_type": "code",
     "collapsed": false,
     "input": [
      "import numpy as np      \n",
      "import scipy as sci\n",
      "\n",
      "\n",
      "a =np.random.random(100)     \n",
      "    \n",
      "\n",
      "print 'Type ',type(a)\n",
      "print 'Shape ',a.shape              # The shape command is very useful...\n",
      "print 'Lenght ',len(a)\n",
      "print 'Range ',min(a),'--',max(a)\n",
      "\n",
      "\n",
      "#plt.plot(a)    # When you understand the idea of np.random.random uncomment these two lines\n",
      "#plt.show()\n",
      "\n",
      "# Try and customise your output: learn from the best at http://matplotlib.org"
     ],
     "language": "python",
     "metadata": {},
     "outputs": [
      {
       "output_type": "stream",
       "stream": "stdout",
       "text": [
        "Type  <type 'numpy.ndarray'>\n",
        "Shape  (100,)\n",
        "Lenght  100\n",
        "Range  0.000384690288275 -- 0.986003374777\n"
       ]
      }
     ],
     "prompt_number": 16
    },
    {
     "cell_type": "heading",
     "level": 2,
     "metadata": {},
     "source": [
      "MATPLOTLIB module and creating simple line plots"
     ]
    },
    {
     "cell_type": "markdown",
     "metadata": {},
     "source": [
      "Python has excellent graphing features, mainly though the MATPLOTLIB library. We will import this library, and then see how to make some simple line plots."
     ]
    },
    {
     "cell_type": "code",
     "collapsed": false,
     "input": [
      "import matplotlib.pyplot as plt"
     ],
     "language": "python",
     "metadata": {},
     "outputs": [],
     "prompt_number": 17
    },
    {
     "cell_type": "code",
     "collapsed": false,
     "input": [
      "# Create some values to plot\n",
      "test = (linspace(0, 10))"
     ],
     "language": "python",
     "metadata": {},
     "outputs": [],
     "prompt_number": 18
    },
    {
     "cell_type": "code",
     "collapsed": false,
     "input": [
      "plt.plot(test,'r--')\n",
      "plt.title('My first Python plot')"
     ],
     "language": "python",
     "metadata": {},
     "outputs": [
      {
       "metadata": {},
       "output_type": "pyout",
       "prompt_number": 19,
       "text": [
        "<matplotlib.text.Text at 0x106038a50>"
       ]
      },
      {
       "metadata": {},
       "output_type": "display_data",
       "png": "[encoded data removed]",
       "text": [
        "<matplotlib.figure.Figure at 0x105fcced0>"
       ]
      }
     ],
     "prompt_number": 19
    },
    {
     "cell_type": "markdown",
     "metadata": {},
     "source": [
      "TASK: In the below cell, create a line plot of a sine wave. Plot it with a blue solid line.\n",
      "\n",
      "*Advanced: If you find the above easy, also plot the above with a cosine wave (two lines on one plot). Using a green line with markers.*  "
     ]
    },
    {
     "cell_type": "code",
     "collapsed": false,
     "input": [],
     "language": "python",
     "metadata": {},
     "outputs": [],
     "prompt_number": 19
    },
    {
     "cell_type": "markdown",
     "metadata": {},
     "source": [
      "Finally, we can plot in a slightly more complex way, that has more controll over the plot by the following:"
     ]
    },
    {
     "cell_type": "code",
     "collapsed": false,
     "input": [
      "myfig = plt.figure()\n",
      "myfig.set_size_inches(5.0,3.0)     # Specify the output size exactly\n",
      "ax1 = myfig.add_subplot(111)        # Add an axis frame object to the plot (i.e. a pannel)\n",
      "\n",
      "ax1.plot(linspace(0, 10),linspace(0, 10),'ro')\n",
      "ax1.set_title('Title')\n",
      "ax1.set_xlabel('x-axis')\n",
      "ax1.set_ylabel('y-axis')\n",
      "ax1.grid(True)\n",
      "\n",
      "myfig.text(0.4, 0.7, r\"My plot label\",fontsize=8,color='b')\n",
      "\n",
      "myfig.set_tight_layout(True)\n",
      "plt.show(myfig)"
     ],
     "language": "python",
     "metadata": {},
     "outputs": [
      {
       "metadata": {},
       "output_type": "display_data",
       "png": "[encoded data removed]",
       "text": [
        "<matplotlib.figure.Figure at 0x1064832d0>"
       ]
      }
     ],
     "prompt_number": 29
    },
    {
     "cell_type": "markdown",
     "metadata": {},
     "source": [
      "Look through the gallery of http://matplotlib.org to get an idea of the things which MATPLOTLIB can do."
     ]
    },
    {
     "cell_type": "heading",
     "level": 2,
     "metadata": {},
     "source": [
      "Using real data: getting down to buisness!"
     ]
    },
    {
     "cell_type": "markdown",
     "metadata": {},
     "source": [
      "We will be using the PANDAS module to read in, and handel a database of cosmic ray and cloud cover data.\n",
      "You can read about a quickstart PANDAS quide here: http://pandas.pydata.org/pandas-docs/stable/10min.html \n",
      "\n",
      "We will import some data from a CSV (comma seperated text file) held on a public server.\n",
      "\n",
      "These data are described in one of my papers (the link is below), but they are esentially a normalized cosmic ray flux (units as %) cacluated from several neutron monitors, and Infrared-detected globally-averaged cloud cover (units as %), from the International Satellite Cloud Climatology Project D1 dataset (daily-averaged).\n",
      "\n",
      "http://www.swsc-journal.org/articles/swsc/abs/2013/01/swsc130020/swsc130020.html"
     ]
    },
    {
     "cell_type": "code",
     "collapsed": false,
     "input": [
      "import pandas as pd"
     ],
     "language": "python",
     "metadata": {},
     "outputs": [
      {
       "output_type": "stream",
       "stream": "stderr",
       "text": [
        "//anaconda/lib/python2.7/site-packages/pandas/io/excel.py:626: UserWarning: Installed openpyxl is not supported at this time. Use >=1.6.1 and <2.0.0.\n",
        "  .format(openpyxl_compat.start_ver, openpyxl_compat.stop_ver))\n"
       ]
      }
     ],
     "prompt_number": 21
    },
    {
     "cell_type": "code",
     "collapsed": false,
     "input": [
      "# Download a CSV datafile from the following link, and place the data in a DataFrame structure\n",
      "realdata = pd.read_csv('http://benlaken.com/documents/cloud_cosmic.csv')"
     ],
     "language": "python",
     "metadata": {},
     "outputs": [],
     "prompt_number": 22
    },
    {
     "cell_type": "code",
     "collapsed": false,
     "input": [
      "realdata.index = pd.date_range('19830701', '20091231', freq='D')   # Set a pd.timeobject as an index"
     ],
     "language": "python",
     "metadata": {},
     "outputs": [],
     "prompt_number": 23
    },
    {
     "cell_type": "code",
     "collapsed": false,
     "input": [
      "# Type the variable name 'realdata', and run the cell to explore the dataframe object we have created\n",
      "\n"
     ],
     "language": "python",
     "metadata": {},
     "outputs": [],
     "prompt_number": 24
    },
    {
     "cell_type": "markdown",
     "metadata": {},
     "source": [
      "Now we have a very flexible and powerful Dataframe object, indexed by calander dates. This can be used to do very complex analyses. Now we will just to begin to give you some idea of the use of this DataFrame object. Examine some of the methods attached to the DataFrame object below..."
     ]
    },
    {
     "cell_type": "code",
     "collapsed": false,
     "input": [],
     "language": "python",
     "metadata": {},
     "outputs": []
    },
    {
     "cell_type": "markdown",
     "metadata": {},
     "source": [
      "There are missing values in the data, these will cause us some troubles, so we are going to identify them and replace them with a NUMPY variable NAN (which stands for not-a-number)."
     ]
    },
    {
     "cell_type": "code",
     "collapsed": false,
     "input": [
      "print 'lowest value in cloud data:',min(realdata.cloud)\n",
      "tmp = np.where(realdata.cloud == -99.0)                     # Find all points where missing value\n",
      "print 'Missing points at',len(tmp[0])\n",
      "realdata.cloud[tmp[0]] = np.nan                               # Overwrite -99.0 with NAN\n",
      "\n",
      "del tmp\n",
      "print 'lowest value in cosmic ray data:',min(realdata.c_rays)\n",
      "tmp = np.where(realdata.c_rays == -999.0) \n",
      "print 'Missing cosmic ray points at',len(tmp[0])\n",
      "realdata.c_rays[tmp[0]] = np.nan "
     ],
     "language": "python",
     "metadata": {},
     "outputs": [
      {
       "output_type": "stream",
       "stream": "stdout",
       "text": [
        "lowest value in cloud data: 52.4448\n",
        "Missing points at 0\n",
        "lowest value in cosmic ray data: -999.0\n",
        "Missing cosmic ray points at 161\n"
       ]
      }
     ],
     "prompt_number": 34
    },
    {
     "cell_type": "markdown",
     "metadata": {},
     "source": [
      "You can readily plot from these objects..."
     ]
    },
    {
     "cell_type": "code",
     "collapsed": false,
     "input": [
      "my_ts = plt.figure()\n",
      "my_ts.set_size_inches(9.,5.)     # Specify the output size exactly\n",
      "ax1 = my_ts.add_subplot(211)        # Add an axis frame object to the plot (i.e. a pannel)\n",
      "ax2 = my_ts.add_subplot(212)\n",
      "\n",
      "ax1.plot(realdata.index,realdata.cloud,'r,',alpha=0.8)\n",
      "ax1.set_title('Time series objects')\n",
      "ax1.set_ylabel('Cloud cover (%)')\n",
      "ax1.grid(True)\n",
      "\n",
      "ax2.plot(realdata.index,realdata.c_rays,'b,',alpha=0.8)\n",
      "ax2.set_xlabel('Year')\n",
      "ax2.set_ylabel('Norm. cosmic ray flux (%)')\n",
      "ax2.grid(True)\n",
      "\n",
      "myfig.set_tight_layout(True)\n",
      "plt.show(my_ts)\n",
      "#plt.savefig('test.png',dpi=300)  # This line will save the figure!"
     ],
     "language": "python",
     "metadata": {},
     "outputs": [
      {
       "metadata": {},
       "output_type": "display_data",
       "png": "[encoded data removed]",
       "text": [
        "<matplotlib.figure.Figure at 0x108805910>"
       ]
      }
     ],
     "prompt_number": 45
    },
    {
     "cell_type": "markdown",
     "metadata": {},
     "source": [
      "Excellent! Now we have something useful, and can start to query the data to investigate the idea that short-term variations in cosmic rays could be linked to cloud cover changes. Before we do this, we must learn how to extract specific parts of the data. PANDAS makes this easy, as we can simply tell it what dates we are interested in, and extract them..."
     ]
    },
    {
     "cell_type": "markdown",
     "metadata": {},
     "source": [
      "Use indexes as either an integer count (0 to n) or as a date, to iscolate data."
     ]
    },
    {
     "cell_type": "code",
     "collapsed": false,
     "input": [
      "print 'Cloud cover on a given date:',realdata.cloud['1985-01-01']\n",
      "print 'Normalized cosmic ray flux on a given date:',realdata.c_rays['1985-01-01']"
     ],
     "language": "python",
     "metadata": {},
     "outputs": [
      {
       "output_type": "stream",
       "stream": "stdout",
       "text": [
        "Cloud cover on a given date: 61.2572\n",
        "Normalized cosmic ray flux on a given date: -1.76369\n"
       ]
      }
     ],
     "prompt_number": 27
    },
    {
     "cell_type": "code",
     "collapsed": false,
     "input": [],
     "language": "python",
     "metadata": {},
     "outputs": [],
     "prompt_number": 27
    },
    {
     "cell_type": "code",
     "collapsed": false,
     "input": [],
     "language": "python",
     "metadata": {},
     "outputs": [],
     "prompt_number": 27
    }
   ],
   "metadata": {}
  }
 ]
}